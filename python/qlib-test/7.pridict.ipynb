{
 "cells": [
  {
   "cell_type": "code",
   "execution_count": null,
   "id": "9f06bec6-2cc3-4fd5-9547-9a1c13d64df7",
   "metadata": {},
   "outputs": [],
   "source": [
    "import qlib\n",
    "from qlib.constant import REG_CN\n",
    "qlib.init(region=REG_CN)"
   ]
  },
  {
   "cell_type": "code",
   "execution_count": null,
   "id": "e8ebc9a3-6909-41af-9f32-8f8924e56867",
   "metadata": {},
   "outputs": [],
   "source": [
    "from qlib.data import D\n",
    "from qlib.contrib.data.handler import Alpha158\n",
    "from qlib.workflow.record_temp import PortAnaRecord"
   ]
  },
  {
   "cell_type": "code",
   "execution_count": null,
   "id": "21fab27c-0609-4698-a06f-07964b921c18",
   "metadata": {},
   "outputs": [],
   "source": [
    "from qlib.workflow import R\n",
    "exps = R.list_experiments()\n",
    "exps"
   ]
  },
  {
   "cell_type": "code",
   "execution_count": null,
   "id": "ec5361ff-aca4-49d4-b7c0-9ad1068ccd76",
   "metadata": {},
   "outputs": [],
   "source": [
    "exp = R.get_exp(experiment_name='train_model')\n",
    "exp"
   ]
  },
  {
   "cell_type": "code",
   "execution_count": null,
   "id": "878ac1ac-f344-441c-ac6d-9367d00eea95",
   "metadata": {},
   "outputs": [],
   "source": [
    "rid = list(exp.list_recorders().keys())[0]\n",
    "rid"
   ]
  },
  {
   "cell_type": "code",
   "execution_count": null,
   "id": "90d09cc7-c68f-4208-9eb7-4167cd8ece2b",
   "metadata": {},
   "outputs": [],
   "source": [
    "recorder = R.get_recorder(recorder_id=rid, experiment_name=\"train_model\")\n",
    "model = recorder.load_object(\"trained_model\")"
   ]
  },
  {
   "cell_type": "code",
   "execution_count": null,
   "id": "673947e9-ec54-48d0-9520-1a2068f133a9",
   "metadata": {},
   "outputs": [],
   "source": [
    "from qlib.utils import exists_qlib_data, init_instance_by_config\n",
    "market = \"csi300\"\n",
    "data_handler_config = {\n",
    "    \"start_time\": \"2025-08-01\",\n",
    "    \"end_time\": \"2025-08-30\",\n",
    "    \"instruments\": market,\n",
    "}\n",
    "\n",
    "segments = {\n",
    "    \"test\": (\"2025-08-01\", \"2025-08-30\"),\n",
    "}\n",
    "dataset_config = {\n",
    "    \"class\": \"DatasetH\",\n",
    "    \"module_path\": \"qlib.data.dataset\",\n",
    "    \"kwargs\": {\n",
    "        \"handler\": {\n",
    "            \"class\": \"Alpha158\",\n",
    "            \"module_path\": \"qlib.contrib.data.handler\",\n",
    "            \"kwargs\": data_handler_config,\n",
    "        },\n",
    "        \"segments\": segments,\n",
    "    },\n",
    "}\n",
    "dataset = init_instance_by_config(dataset_config)"
   ]
  },
  {
   "cell_type": "code",
   "execution_count": null,
   "id": "bf39c9cd-2bf9-4784-934d-c982ee6317fb",
   "metadata": {},
   "outputs": [],
   "source": [
    "dataset.handler.fetch(col_set=[\"feature\"]).tail()"
   ]
  },
  {
   "cell_type": "code",
   "execution_count": null,
   "id": "ec6a0265-0645-4c43-a435-f7771c56c753",
   "metadata": {},
   "outputs": [],
   "source": [
    "from qlib.workflow.record_temp import SignalRecord, PortAnaRecord\n",
    "with R.start(experiment_name=\"pridict\"):\n",
    "    recorder = R.get_recorder()\n",
    "    ba_rid = recorder.id\n",
    "    sr = SignalRecord(model, dataset, recorder)\n",
    "    sr.generate()"
   ]
  },
  {
   "cell_type": "code",
   "execution_count": null,
   "id": "1541bf52-7147-46ed-b855-4d118b3a24d9",
   "metadata": {},
   "outputs": [],
   "source": [
    "pred_df = recorder.load_object(\"pred.pkl\")\n",
    "pred_df.index.names"
   ]
  },
  {
   "cell_type": "code",
   "execution_count": null,
   "id": "11f879a2-dca6-40e8-bfa5-0b070065f40f",
   "metadata": {},
   "outputs": [],
   "source": [
    "pred_df.loc['2025-08-29'].sort_values(\"score\", ascending=False).head(10).index"
   ]
  },
  {
   "cell_type": "code",
   "execution_count": null,
   "id": "1d234d43-1e7d-49cd-a1f0-327e9b6fd4be",
   "metadata": {},
   "outputs": [],
   "source": [
    "pred_df.xs('SH601688', level='instrument').plot()"
   ]
  },
  {
   "cell_type": "code",
   "execution_count": null,
   "id": "f2a80583-1e29-4d6d-b9b4-27f815512689",
   "metadata": {},
   "outputs": [],
   "source": []
  }
 ],
 "metadata": {
  "kernelspec": {
   "display_name": "Python (qlib)",
   "language": "python",
   "name": "qlib"
  },
  "language_info": {
   "codemirror_mode": {
    "name": "ipython",
    "version": 3
   },
   "file_extension": ".py",
   "mimetype": "text/x-python",
   "name": "python",
   "nbconvert_exporter": "python",
   "pygments_lexer": "ipython3",
   "version": "3.11.9"
  }
 },
 "nbformat": 4,
 "nbformat_minor": 5
}
