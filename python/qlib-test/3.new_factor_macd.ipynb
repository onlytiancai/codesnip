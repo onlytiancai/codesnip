{
 "cells": [
  {
   "cell_type": "code",
   "execution_count": null,
   "id": "f684d94f-f6b0-44e8-abc9-1c87c9a1990a",
   "metadata": {},
   "outputs": [],
   "source": [
    "import qlib\n",
    "import pandas as pd\n",
    "from qlib.config import REG_CN\n",
    "from qlib.contrib.data.handler import Alpha158\n",
    "qlib.init(region=REG_CN)\n",
    "\n",
    "print(\"Qlib 初始化完成。\")"
   ]
  },
  {
   "cell_type": "code",
   "execution_count": null,
   "id": "a96abf5d-011f-4cab-b3ad-87b097091029",
   "metadata": {},
   "outputs": [],
   "source": [
    "from qlib.data.dataset.loader import QlibDataLoader\n",
    "MACD_EXP = '(EMA($close, 12) - EMA($close, 26))/$close - EMA((EMA($close, 12) - EMA($close, 26))/$close, 9)/$close'\n",
    "fields = [MACD_EXP] # MACD\n",
    "names = ['MACD']\n",
    "labels = ['Ref($close, -2)/Ref($close, -1) - 1'] # label\n",
    "label_names = ['LABEL']"
   ]
  },
  {
   "cell_type": "code",
   "execution_count": null,
   "id": "b175885a-4ad3-45f4-9bda-71216c3ded35",
   "metadata": {},
   "outputs": [],
   "source": [
    "data_loader_config = {\n",
    "    \"feature\": (fields, names),\n",
    "    \"label\": (labels, label_names)\n",
    "}\n",
    "data_loader_config"
   ]
  },
  {
   "cell_type": "code",
   "execution_count": null,
   "id": "898fc8f1-36c3-4ebb-8764-1bf548d95615",
   "metadata": {},
   "outputs": [],
   "source": [
    "data_loader = QlibDataLoader(config=data_loader_config)\n",
    "df = data_loader.load(instruments='csi300', start_time='2010-01-01', end_time='2017-12-31')"
   ]
  },
  {
   "cell_type": "code",
   "execution_count": null,
   "id": "a9ee11f4-8da5-4222-9b39-8735b9627273",
   "metadata": {},
   "outputs": [],
   "source": [
    "df.head()"
   ]
  }
 ],
 "metadata": {
  "kernelspec": {
   "display_name": "Python (qlib)",
   "language": "python",
   "name": "qlib"
  },
  "language_info": {
   "codemirror_mode": {
    "name": "ipython",
    "version": 3
   },
   "file_extension": ".py",
   "mimetype": "text/x-python",
   "name": "python",
   "nbconvert_exporter": "python",
   "pygments_lexer": "ipython3",
   "version": "3.11.9"
  }
 },
 "nbformat": 4,
 "nbformat_minor": 5
}
