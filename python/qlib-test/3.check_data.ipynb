{
 "cells": [
  {
   "cell_type": "markdown",
   "id": "76a0f9d2-3e61-4a86-a99b-ccf5840d0498",
   "metadata": {},
   "source": [
    "## 检查数据是否最新"
   ]
  },
  {
   "cell_type": "code",
   "execution_count": null,
   "id": "57da9a61-00cd-4c46-93a6-ff4dd6de7cbe",
   "metadata": {},
   "outputs": [],
   "source": [
    "import qlib\n",
    "from qlib.data import D\n",
    "from qlib.contrib.data.handler import Alpha158\n",
    "\n",
    "# ---------------------------\n",
    "# 1. 初始化，确保 provider_uri 指向正确的路径\n",
    "# ---------------------------\n",
    "qlib.init(provider_uri=\"~/.qlib/qlib_data/cn_data\", region=\"cn\")  # 👈 改成你实际的数据目录\n",
    "\n",
    "stocks = [\"SH600519\", \"SZ000001\", \"SZ300750\"]\n",
    "instruments = D.instruments(stocks)\n",
    "instruments = D.instruments('csi300')\n",
    "\n",
    "# ---------------------------\n",
    "# 2. 检查原始行情数据的最后日期\n",
    "# ---------------------------\n",
    "df_raw = D.features(instruments, [\"$close\"], freq=\"day\")\n",
    "print(\"原始行情最后日期:\", df_raw.index.get_level_values(\"datetime\").max())\n",
    "\n",
    "# ---------------------------\n",
    "# 3. 检查 Alpha158 handler 的最后日期\n",
    "# ---------------------------\n",
    "data_handler_config = {\n",
    "    \"start_time\": \"2008-01-01\",\n",
    "    \"end_time\": \"2025-08-25\",      # 尽量写最新\n",
    "    \"fit_start_time\": \"2008-01-01\",\n",
    "    \"fit_end_time\": \"2025-08-25\",\n",
    "    \"instruments\": instruments,\n",
    "}\n",
    "\n",
    "h = Alpha158(**data_handler_config)\n",
    "df_label = h.fetch(col_set=\"label\")\n",
    "print(\"Alpha158 Label 最后日期:\", df_label.index.get_level_values(\"datetime\").max())\n",
    "\n",
    "# ---------------------------\n",
    "# 4. 如果需要，也可以检查 feature 的最后日期\n",
    "# ---------------------------\n",
    "df_feat = h.fetch(col_set=\"feature\")\n",
    "print(\"Alpha158 Feature 最后日期:\", df_feat.index.get_level_values(\"datetime\").max())"
   ]
  },
  {
   "cell_type": "markdown",
   "id": "7d938df4-0b3c-4f2c-85a1-96a28d83d6a5",
   "metadata": {},
   "source": [
    "## 查看数据"
   ]
  },
  {
   "cell_type": "code",
   "execution_count": null,
   "id": "2d99495a-7dd1-4648-a027-01507600e08b",
   "metadata": {},
   "outputs": [],
   "source": [
    "from qlib.data import D\n",
    "df = D.features(D.instruments(\"all\"), [\"$close\"], freq=\"day\")\n",
    "# 查看有哪些股票的数据\n",
    "df.index.get_level_values(0)"
   ]
  },
  {
   "cell_type": "code",
   "execution_count": null,
   "id": "877606c6-dce2-476d-9de6-39dbfecc1fa1",
   "metadata": {},
   "outputs": [],
   "source": [
    "# 查看某只股票最新数据\n",
    "df.loc['SH000300'].tail()"
   ]
  },
  {
   "cell_type": "code",
   "execution_count": null,
   "id": "86b9ecee-c13d-40c5-8c77-bc400ba19dd1",
   "metadata": {},
   "outputs": [],
   "source": [
    "# 查看某一天有多少股票的数据\n",
    "codes = df.index.get_level_values(0)[df.index.get_level_values(1) == \"2020-09-25\"]\n",
    "codes.nunique()"
   ]
  },
  {
   "cell_type": "code",
   "execution_count": null,
   "id": "8cb4f47c-6bab-444f-8dec-ee8738e2e4b3",
   "metadata": {},
   "outputs": [],
   "source": [
    "# 画出某只股票的曲线\n",
    "df.loc['SH000300'].plot()"
   ]
  },
  {
   "cell_type": "code",
   "execution_count": null,
   "id": "c782e958-2809-44de-ba58-2c75f6c36ecf",
   "metadata": {},
   "outputs": [],
   "source": []
  }
 ],
 "metadata": {
  "kernelspec": {
   "display_name": "Python (qlib)",
   "language": "python",
   "name": "qlib"
  },
  "language_info": {
   "codemirror_mode": {
    "name": "ipython",
    "version": 3
   },
   "file_extension": ".py",
   "mimetype": "text/x-python",
   "name": "python",
   "nbconvert_exporter": "python",
   "pygments_lexer": "ipython3",
   "version": "3.11.9"
  }
 },
 "nbformat": 4,
 "nbformat_minor": 5
}
