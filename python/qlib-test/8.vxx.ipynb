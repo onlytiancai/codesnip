{
 "cells": [
  {
   "cell_type": "markdown",
   "id": "a5924340-04e8-4058-9557-d051cdeb3eea",
   "metadata": {},
   "source": [
    "# Step 1. 安装依赖"
   ]
  },
  {
   "cell_type": "code",
   "execution_count": null,
   "id": "b41e231b-e675-4ff3-becf-3097ef843dac",
   "metadata": {},
   "outputs": [],
   "source": [
    "# 如果缺少 yfinance 请先安装\n",
    "#!pip install yfinance pandas matplotlib"
   ]
  },
  {
   "cell_type": "markdown",
   "id": "53a7358d-11e2-4037-ab1d-3a574f8582b4",
   "metadata": {},
   "source": [
    "# Step 2. 导入库 & 下载 VXX 历史数据"
   ]
  },
  {
   "cell_type": "code",
   "execution_count": null,
   "id": "c38643dc-39f2-4e04-bc2a-73c0a8fe490a",
   "metadata": {},
   "outputs": [],
   "source": [
    "import yfinance as yf\n",
    "import pandas as pd\n",
    "import matplotlib.pyplot as plt\n",
    "import os\n",
    "\n",
    "ticker = \"VXX\"\n",
    "\n",
    "if not os.path.exists('vxx_data.csv'):\n",
    "    data = yf.download(ticker, period=\"2y\", interval=\"1d\")\n",
    "    data.columns = data.columns.get_level_values(0)\n",
    "    data = data[[\"Close\"]].rename(columns={\"Close\": \"close\"})\n",
    "    data.to_csv(\"vxx_data.csv\")\n",
    "else:\n",
    "    data = pd.read_csv(\"vxx_data.csv\", index_col=0, parse_dates=True)\n",
    "\n",
    "data.dropna(inplace=True)\n",
    "data.head()"
   ]
  },
  {
   "cell_type": "code",
   "execution_count": null,
   "id": "a1b1a82e-a38c-4dce-848e-af83998517b4",
   "metadata": {},
   "outputs": [],
   "source": [
    "data.plot()"
   ]
  },
  {
   "cell_type": "markdown",
   "id": "fd74e14f-46a0-4a4d-8ca1-44fbcc37ccb5",
   "metadata": {},
   "source": [
    "# Step 3. 计算均线 & 生成交易信号"
   ]
  },
  {
   "cell_type": "code",
   "execution_count": null,
   "id": "747979ec-3770-4955-ace3-9987fe76df42",
   "metadata": {},
   "outputs": [],
   "source": [
    "# 计算10日和30日均线\n",
    "data[\"ma10\"] = data[\"close\"].rolling(10).mean()\n",
    "data[\"ma30\"] = data[\"close\"].rolling(30).mean()\n",
    "\n",
    "# 生成信号：-1=做空, 0=空仓\n",
    "data[\"signal\"] = 0\n",
    "data.loc[data[\"ma10\"] < data[\"ma30\"], \"signal\"] = -1  # 短均线在下 → 做空\n",
    "data.loc[data[\"ma10\"] >= data[\"ma30\"], \"signal\"] = 0  # 短均线在上 → 空仓\n",
    "\n",
    "# 检查部分信号\n",
    "data.tail(15)\n"
   ]
  },
  {
   "cell_type": "markdown",
   "id": "12238660-2a95-4676-8410-884614d9a3f2",
   "metadata": {},
   "source": [
    "# Step 4. 计算每日收益 & 策略净值"
   ]
  },
  {
   "cell_type": "code",
   "execution_count": null,
   "id": "93e7845f-2960-4943-8709-75cc57971dcd",
   "metadata": {},
   "outputs": [],
   "source": [
    "# VXX 日度收益率\n",
    "data[\"ret\"] = data[\"close\"].pct_change()\n",
    "\n",
    "# 策略收益 = 信号 * VXX收益 （注意：做空时信号 = -1）\n",
    "data[\"strategy_ret\"] = data[\"signal\"].shift(1) * data[\"ret\"]\n",
    "\n",
    "# 累积净值\n",
    "data[\"cum_vxx\"] = (1 + data[\"ret\"]).cumprod()\n",
    "data[\"cum_strategy\"] = (1 + data[\"strategy_ret\"]).cumprod()\n",
    "\n",
    "data[[\"cum_vxx\", \"cum_strategy\"]].plot(figsize=(12,6), title=\"VXX vs Strategy\")\n",
    "plt.show()\n"
   ]
  },
  {
   "cell_type": "markdown",
   "id": "879f0396-3969-4add-b957-a466458f2f0a",
   "metadata": {},
   "source": [
    "# Step 5. 回测绩效指标"
   ]
  },
  {
   "cell_type": "code",
   "execution_count": null,
   "id": "b40882a1-c4a7-49e5-85b6-2a602068af29",
   "metadata": {},
   "outputs": [],
   "source": [
    "def performance_stats(returns, freq=252):\n",
    "    cum_return = (1 + returns).prod() - 1\n",
    "    ann_return = (1 + cum_return) ** (freq / len(returns)) - 1\n",
    "    ann_vol = returns.std() * (freq ** 0.5)\n",
    "    sharpe = ann_return / ann_vol if ann_vol != 0 else 0\n",
    "    drawdown = ( (1 + returns).cumprod() / (1 + returns).cumprod().cummax() - 1).min()\n",
    "    return {\n",
    "        \"Cumulative Return\": cum_return,\n",
    "        \"Annualized Return\": ann_return,\n",
    "        \"Annualized Vol\": ann_vol,\n",
    "        \"Sharpe Ratio\": sharpe,\n",
    "        \"Max Drawdown\": drawdown\n",
    "    }\n",
    "\n",
    "stats = performance_stats(data[\"strategy_ret\"].dropna())\n",
    "stats\n"
   ]
  },
  {
   "cell_type": "markdown",
   "id": "24e045b9-bb65-4ebe-b0dd-b57403e5c2a2",
   "metadata": {},
   "source": [
    "# Step 6. 可视化交易信号"
   ]
  },
  {
   "cell_type": "code",
   "execution_count": null,
   "id": "f678abbc-a71c-42db-ac9a-01375d76f8c5",
   "metadata": {},
   "outputs": [],
   "source": [
    "plt.figure(figsize=(14,6))\n",
    "plt.plot(data.index, data[\"close\"], label=\"VXX Price\", color=\"black\", alpha=0.7)\n",
    "plt.plot(data.index, data[\"ma10\"], label=\"10-day MA\", color=\"blue\", alpha=0.7)\n",
    "plt.plot(data.index, data[\"ma30\"], label=\"30-day MA\", color=\"red\", alpha=0.7)\n",
    "\n",
    "# 做空信号点（10日均线下穿30日均线）\n",
    "short_signals = (data[\"signal\"] == -1) & (data[\"signal\"].shift(1) == 0)\n",
    "plt.scatter(data.index[short_signals], data[\"close\"][short_signals],\n",
    "            marker=\"v\", color=\"red\", label=\"Enter Short\", s=80)\n",
    "\n",
    "# 平仓信号点（10日均线上穿30日均线）\n",
    "exit_signals = (data[\"signal\"] == 0) & (data[\"signal\"].shift(1) == -1)\n",
    "plt.scatter(data.index[exit_signals], data[\"close\"][exit_signals],\n",
    "            marker=\"^\", color=\"green\", label=\"Exit Short\", s=80)\n",
    "\n",
    "plt.title(\"VXX Price with Trading Signals (MA Cross Strategy)\")\n",
    "plt.xlabel(\"Date\")\n",
    "plt.ylabel(\"Price\")\n",
    "plt.legend()\n",
    "plt.grid(True, linestyle=\"--\", alpha=0.5)\n",
    "plt.show()\n"
   ]
  },
  {
   "cell_type": "markdown",
   "id": "9294d1e1-0110-4677-a2bf-6fec0f34e7c4",
   "metadata": {},
   "source": [
    "# Step 7. 输出交易明细"
   ]
  },
  {
   "cell_type": "code",
   "execution_count": null,
   "id": "daa2b0e4-7e4a-44f5-8004-f168999106fe",
   "metadata": {},
   "outputs": [],
   "source": [
    "trades = []\n",
    "\n",
    "# 遍历信号，找到进场(-1)和平仓(0)\n",
    "position = 0\n",
    "entry_date, entry_price = None, None\n",
    "\n",
    "for date, row in data.iterrows():\n",
    "    signal = row[\"signal\"]\n",
    "    price = row[\"close\"]\n",
    "\n",
    "    # 开仓：从0 -> -1\n",
    "    if position == 0 and signal == -1:\n",
    "        position = -1\n",
    "        entry_date = date\n",
    "        entry_price = price\n",
    "\n",
    "    # 平仓：从-1 -> 0\n",
    "    elif position == -1 and signal == 0:\n",
    "        position = 0\n",
    "        exit_date = date\n",
    "        exit_price = price\n",
    "        ret = (entry_price - exit_price) / entry_price  # 做空收益率\n",
    "        trades.append({\n",
    "            \"Entry Date\": entry_date,\n",
    "            \"Entry Price\": entry_price,\n",
    "            \"Exit Date\": exit_date,\n",
    "            \"Exit Price\": exit_price,\n",
    "            \"Holding Days\": (exit_date - entry_date).days,\n",
    "            \"Return %\": round(ret * 100, 2)\n",
    "        })\n",
    "\n",
    "# 转为DataFrame查看\n",
    "trades_df = pd.DataFrame(trades)\n",
    "trades_df\n"
   ]
  }
 ],
 "metadata": {
  "kernelspec": {
   "display_name": "Python (qlib)",
   "language": "python",
   "name": "qlib"
  },
  "language_info": {
   "codemirror_mode": {
    "name": "ipython",
    "version": 3
   },
   "file_extension": ".py",
   "mimetype": "text/x-python",
   "name": "python",
   "nbconvert_exporter": "python",
   "pygments_lexer": "ipython3",
   "version": "3.11.9"
  }
 },
 "nbformat": 4,
 "nbformat_minor": 5
}
