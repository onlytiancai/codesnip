{
 "cells": [
  {
   "cell_type": "markdown",
   "id": "a5924340-04e8-4058-9557-d051cdeb3eea",
   "metadata": {},
   "source": [
    "# Step 1. 安装依赖"
   ]
  },
  {
   "cell_type": "code",
   "execution_count": null,
   "id": "b41e231b-e675-4ff3-becf-3097ef843dac",
   "metadata": {},
   "outputs": [],
   "source": [
    "# 如果缺少 yfinance 请先安装\n",
    "#!pip install yfinance pandas matplotlib"
   ]
  },
  {
   "cell_type": "markdown",
   "id": "53a7358d-11e2-4037-ab1d-3a574f8582b4",
   "metadata": {},
   "source": [
    "# Step 2. 导入库 & 下载 VXX 历史数据"
   ]
  },
  {
   "cell_type": "code",
   "execution_count": null,
   "id": "c38643dc-39f2-4e04-bc2a-73c0a8fe490a",
   "metadata": {},
   "outputs": [],
   "source": [
    "import yfinance as yf\n",
    "import pandas as pd\n",
    "import matplotlib.pyplot as plt\n",
    "import os\n",
    "\n",
    "if not os.path.exists('vxx_data.csv'):\n",
    "    vxx = yf.download(\"VXX\", period=\"2y\", interval=\"1d\")\n",
    "    vxx.columns = vxx.columns.get_level_values(0)\n",
    "    vxx = vxx[[\"Close\"]].rename(columns={\"Close\": \"close\"})\n",
    "    vxx.to_csv(\"vxx_data.csv\")\n",
    "else:\n",
    "    vxx = pd.read_csv(\"vxx_data.csv\", index_col=0, parse_dates=True)\n",
    "\n",
    "if not os.path.exists('vix_data.csv'):\n",
    "    vix = yf.download(\"^VIX\", period=\"2y\", interval=\"1d\")\n",
    "    vix.columns = vix.columns.get_level_values(0)\n",
    "    vix = vix[[\"Close\"]].rename(columns={\"Close\": \"vix\"})\n",
    "    vix.to_csv(\"vxx_data.csv\")\n",
    "else:\n",
    "    vix = pd.read_csv(\"vix_data.csv\", index_col=0, parse_dates=True)\n",
    "\n",
    "data = pd.concat([vxx, vix], axis=1).dropna()    \n",
    "data.head()"
   ]
  },
  {
   "cell_type": "code",
   "execution_count": null,
   "id": "a1b1a82e-a38c-4dce-848e-af83998517b4",
   "metadata": {},
   "outputs": [],
   "source": [
    "data.plot()"
   ]
  },
  {
   "cell_type": "code",
   "execution_count": null,
   "id": "98856628-d2f7-4dac-8ea7-3d20654de9dd",
   "metadata": {},
   "outputs": [],
   "source": [
    "import numpy as np\n",
    "# 计算对数收益率\n",
    "data[\"ret\"] = np.log(data[\"close\"] / data[\"close\"].shift(1))\n",
    "\n",
    "# 20日滚动标准差（未年化）\n",
    "data[\"vol20\"] = data[\"ret\"].rolling(window=20).std()\n",
    "\n",
    "# 年化20日波动率\n",
    "data[\"vol20_ann\"] = data[\"vol20\"] * np.sqrt(252)\n",
    "\n",
    "data[[\"close\", \"vol20_ann\"]].tail(10)"
   ]
  },
  {
   "cell_type": "markdown",
   "id": "fd74e14f-46a0-4a4d-8ca1-44fbcc37ccb5",
   "metadata": {},
   "source": [
    "# Step 3. 计算均线 & 生成交易信号"
   ]
  },
  {
   "cell_type": "code",
   "execution_count": null,
   "id": "747979ec-3770-4955-ace3-9987fe76df42",
   "metadata": {},
   "outputs": [],
   "source": [
    "# 计算10日和30日均线\n",
    "data[\"ma10\"] = data[\"close\"].rolling(10).mean()\n",
    "data[\"ma30\"] = data[\"close\"].rolling(30).mean()\n",
    "\n",
    "# 生成信号：-1=做空, 0=空仓\n",
    "data[\"signal\"] = 0\n",
    "data.loc[data[\"ma10\"] < data[\"ma30\"], \"signal\"] = -1  # 短均线在下 → 做空\n",
    "data.loc[data[\"ma10\"] >= data[\"ma30\"], \"signal\"] = 0  # 短均线在上 → 空仓\n",
    "\n",
    "# VIX 和 波动率信号过滤\n",
    "data.loc[data[\"vix\"] > 25, \"signal\"] = 0\n",
    "data.loc[data[\"vol20_ann\"] > 1, \"signal\"] = 0\n",
    "\n",
    "# 最后一天平仓\n",
    "data.at[data.index[-1], \"signal\"] = 0\n",
    "\n",
    "# 检查部分信号\n",
    "data.tail(10)\n"
   ]
  },
  {
   "cell_type": "code",
   "execution_count": null,
   "id": "4ba08f48-511b-404c-8f7b-1d1cabe61529",
   "metadata": {
    "scrolled": true
   },
   "outputs": [],
   "source": [
    "data.loc[\"2024-07-01\":\"2024-08-30\"]"
   ]
  },
  {
   "cell_type": "code",
   "execution_count": null,
   "id": "d89cfbfc-ec53-4e2f-b1e5-7d89a8daa8a5",
   "metadata": {},
   "outputs": [],
   "source": [
    "# 3. 添加止损逻辑，生成最终信号 'final_signal'\n",
    "in_position = False\n",
    "entry_price = None\n",
    "stop_loss_pct = 0.02  # 止损百分比\n",
    "\n",
    "for i in range(1, len(data)):\n",
    "    data.at[data.index[i], \"signal\"] = data[\"signal\"].iloc[i]\n",
    "    if not in_position:        \n",
    "        if data[\"signal\"].iloc[i] == -1 and data[\"signal\"].iloc[i - 1] == 0:\n",
    "            in_position = True\n",
    "            entry_price = data[\"close\"].iloc[i]\n",
    "            print('entry:', data.index[i])\n",
    "    else:\n",
    "        current_loss_pct = (data[\"close\"].iloc[i] - entry_price) / entry_price\n",
    "        if data[\"signal\"].iloc[i] == 0 and data[\"signal\"].iloc[i - 1] == -1:\n",
    "            print('exit:', data.index[i], entry_price, data[\"close\"].iloc[i], round(current_loss_pct,2))\n",
    "            in_position = False\n",
    "            entry_price = None\n",
    "            continue            \n",
    "        \n",
    "        #print('loss:', data.index[i], entry_price, data[\"close\"].iloc[i], round(current_loss_pct,2))\n",
    "\n",
    "        if current_loss_pct >= stop_loss_pct:\n",
    "            in_position = False\n",
    "            entry_price = None\n",
    "            print('loss exit:', data.index[i], round(current_loss_pct,2))\n",
    "            data.at[data.index[i], \"signal\"] = 0"
   ]
  },
  {
   "cell_type": "code",
   "execution_count": null,
   "id": "aeb0c2b4-f297-4424-b73d-459059738c94",
   "metadata": {},
   "outputs": [],
   "source": [
    "data['signal'].value_counts()"
   ]
  },
  {
   "cell_type": "code",
   "execution_count": null,
   "id": "c95ed429-b252-471c-85a5-5d576763bb24",
   "metadata": {},
   "outputs": [],
   "source": [
    "data.loc[\"2025-03-28\":\"2025-04-03\"][[\"close\"]].plot(figsize=(12,6))"
   ]
  },
  {
   "cell_type": "code",
   "execution_count": null,
   "id": "630f844b-eebb-4e5b-8370-77635b17a937",
   "metadata": {},
   "outputs": [],
   "source": [
    "ax = data.loc[\"2024-07-01\":\"2024-08-30\"][[\"close\",\"vix\"]].plot(figsize=(12,6))\n",
    "\n",
    "# vol20_ann 放在右侧 Y 轴\n",
    "data.loc[\"2024-07-01\":\"2024-08-30\"][\"vol20_ann\"].plot(ax=ax, secondary_y=True, color=\"red\", label=\"vol20_ann\")\n",
    "\n",
    "# 设置标题和标签\n",
    "ax.set_ylabel(\"Price / VIX\")\n",
    "ax.right_ax.set_ylabel(\"20-day Ann. Volatility\")\n",
    "\n",
    "plt.title(\"Close, VIX and 20-day Annualized Volatility\")\n",
    "plt.legend(loc=\"upper left\")\n",
    "ax.right_ax.legend(loc=\"upper right\")\n",
    "\n",
    "plt.show()\n"
   ]
  },
  {
   "cell_type": "markdown",
   "id": "12238660-2a95-4676-8410-884614d9a3f2",
   "metadata": {},
   "source": [
    "# Step 4. 计算每日收益 & 策略净值"
   ]
  },
  {
   "cell_type": "code",
   "execution_count": null,
   "id": "93e7845f-2960-4943-8709-75cc57971dcd",
   "metadata": {},
   "outputs": [],
   "source": [
    "# VXX 日度收益率\n",
    "data[\"ret\"] = data[\"close\"].pct_change()\n",
    "\n",
    "# 策略收益 = 信号 * VXX收益 （注意：做空时信号 = -1）\n",
    "data[\"strategy_ret\"] = data[\"signal\"].shift(1) * data[\"ret\"]\n",
    "\n",
    "# 累积净值\n",
    "data[\"cum_vxx\"] = (1 + data[\"ret\"]).cumprod()\n",
    "data[\"cum_strategy\"] = (1 + data[\"strategy_ret\"]).cumprod()\n",
    "\n",
    "data[[\"cum_vxx\", \"cum_strategy\"]].plot(figsize=(12,6), title=\"VXX vs Strategy\")\n",
    "plt.show()\n"
   ]
  },
  {
   "cell_type": "markdown",
   "id": "879f0396-3969-4add-b957-a466458f2f0a",
   "metadata": {},
   "source": [
    "# Step 5. 回测绩效指标"
   ]
  },
  {
   "cell_type": "code",
   "execution_count": null,
   "id": "b40882a1-c4a7-49e5-85b6-2a602068af29",
   "metadata": {},
   "outputs": [],
   "source": [
    "def performance_stats(returns, freq=252):\n",
    "    cum_return = (1 + returns).prod() - 1\n",
    "    ann_return = (1 + cum_return) ** (freq / len(returns)) - 1\n",
    "    ann_vol = returns.std() * (freq ** 0.5)\n",
    "    sharpe = ann_return / ann_vol if ann_vol != 0 else 0\n",
    "    drawdown = ( (1 + returns).cumprod() / (1 + returns).cumprod().cummax() - 1).min()\n",
    "    return {\n",
    "        \"Cumulative Return\": cum_return,\n",
    "        \"Annualized Return\": ann_return,\n",
    "        \"Annualized Vol\": ann_vol,\n",
    "        \"Sharpe Ratio\": sharpe,\n",
    "        \"Max Drawdown\": drawdown\n",
    "    }\n",
    "\n",
    "stats = performance_stats(data[\"strategy_ret\"].dropna())\n",
    "stats\n"
   ]
  },
  {
   "cell_type": "markdown",
   "id": "24e045b9-bb65-4ebe-b0dd-b57403e5c2a2",
   "metadata": {},
   "source": [
    "# Step 6. 可视化交易信号"
   ]
  },
  {
   "cell_type": "code",
   "execution_count": null,
   "id": "f678abbc-a71c-42db-ac9a-01375d76f8c5",
   "metadata": {},
   "outputs": [],
   "source": [
    "plt.figure(figsize=(14,6))\n",
    "plt.plot(data.index, data[\"close\"], label=\"VXX Price\", color=\"black\", alpha=0.7)\n",
    "plt.plot(data.index, data[\"ma10\"], label=\"10-day MA\", color=\"blue\", alpha=0.7)\n",
    "plt.plot(data.index, data[\"ma30\"], label=\"30-day MA\", color=\"red\", alpha=0.7)\n",
    "\n",
    "# 做空信号点（10日均线下穿30日均线）\n",
    "short_signals = (data[\"signal\"] == -1) & (data[\"signal\"].shift(1) == 0)\n",
    "plt.scatter(data.index[short_signals], data[\"close\"][short_signals],\n",
    "            marker=\"v\", color=\"red\", label=\"Enter Short\", s=80)\n",
    "\n",
    "# 平仓信号点（10日均线上穿30日均线）\n",
    "exit_signals = (data[\"signal\"] == 0) & (data[\"signal\"].shift(1) == -1)\n",
    "plt.scatter(data.index[exit_signals], data[\"close\"][exit_signals],\n",
    "            marker=\"^\", color=\"green\", label=\"Exit Short\", s=80)\n",
    "\n",
    "plt.title(\"VXX Price with Trading Signals (MA Cross Strategy)\")\n",
    "plt.xlabel(\"Date\")\n",
    "plt.ylabel(\"Price\")\n",
    "plt.legend()\n",
    "plt.grid(True, linestyle=\"--\", alpha=0.5)\n",
    "plt.show()\n"
   ]
  },
  {
   "cell_type": "markdown",
   "id": "9294d1e1-0110-4677-a2bf-6fec0f34e7c4",
   "metadata": {},
   "source": [
    "# Step 7. 输出交易明细"
   ]
  },
  {
   "cell_type": "code",
   "execution_count": null,
   "id": "daa2b0e4-7e4a-44f5-8004-f168999106fe",
   "metadata": {},
   "outputs": [],
   "source": [
    "trades = []\n",
    "\n",
    "# 遍历信号，找到进场(-1)和平仓(0)\n",
    "position = 0\n",
    "entry_date, entry_price = None, None\n",
    "\n",
    "for date, row in data.iterrows():\n",
    "    signal = row[\"signal\"]\n",
    "    price = row[\"close\"]\n",
    "\n",
    "    # 开仓：从0 -> -1\n",
    "    if position == 0 and signal == -1:\n",
    "        position = -1\n",
    "        entry_date = date\n",
    "        entry_price = price\n",
    "\n",
    "    # 平仓：从-1 -> 0\n",
    "    elif position == -1 and signal == 0:\n",
    "        position = 0\n",
    "        exit_date = date\n",
    "        exit_price = price\n",
    "        ret = (entry_price - exit_price) / entry_price  # 做空收益率\n",
    "        trades.append({\n",
    "            \"Entry Date\": entry_date,\n",
    "            \"Entry Price\": entry_price,\n",
    "            \"Exit Date\": exit_date,\n",
    "            \"Exit Price\": exit_price,\n",
    "            \"Holding Days\": (exit_date - entry_date).days,\n",
    "            \"Return %\": round(ret * 100, 2)\n",
    "        })\n",
    "\n",
    "# 转为DataFrame查看\n",
    "trades_df = pd.DataFrame(trades)\n",
    "trades_df\n"
   ]
  },
  {
   "cell_type": "code",
   "execution_count": null,
   "id": "312dfe56-d653-4835-978f-526c08fa437c",
   "metadata": {},
   "outputs": [],
   "source": []
  },
  {
   "cell_type": "code",
   "execution_count": null,
   "id": "a6da8cc2-dbd0-45c7-8a97-3a1d75079976",
   "metadata": {},
   "outputs": [],
   "source": []
  }
 ],
 "metadata": {
  "kernelspec": {
   "display_name": "Python (qlib)",
   "language": "python",
   "name": "qlib"
  },
  "language_info": {
   "codemirror_mode": {
    "name": "ipython",
    "version": 3
   },
   "file_extension": ".py",
   "mimetype": "text/x-python",
   "name": "python",
   "nbconvert_exporter": "python",
   "pygments_lexer": "ipython3",
   "version": "3.11.9"
  }
 },
 "nbformat": 4,
 "nbformat_minor": 5
}
