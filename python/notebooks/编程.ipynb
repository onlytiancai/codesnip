{
 "cells": [
  {
   "cell_type": "markdown",
   "metadata": {},
   "source": [
    "# 编程入门"
   ]
  },
  {
   "cell_type": "markdown",
   "metadata": {},
   "source": [
    "## 最简单的数学计算"
   ]
  },
  {
   "cell_type": "code",
   "execution_count": 1,
   "metadata": {},
   "outputs": [
    {
     "data": {
      "text/plain": [
       "2"
      ]
     },
     "execution_count": 1,
     "metadata": {},
     "output_type": "execute_result"
    }
   ],
   "source": [
    "1 + 1"
   ]
  },
  {
   "cell_type": "code",
   "execution_count": 2,
   "metadata": {},
   "outputs": [
    {
     "data": {
      "text/plain": [
       "7"
      ]
     },
     "execution_count": 2,
     "metadata": {},
     "output_type": "execute_result"
    }
   ],
   "source": [
    "1 + 2 * 3"
   ]
  },
  {
   "cell_type": "code",
   "execution_count": 3,
   "metadata": {},
   "outputs": [
    {
     "data": {
      "text/plain": [
       "9"
      ]
     },
     "execution_count": 3,
     "metadata": {},
     "output_type": "execute_result"
    }
   ],
   "source": [
    "(1 + 2) * 3"
   ]
  },
  {
   "cell_type": "markdown",
   "metadata": {},
   "source": [
    "这里面的加减乘除符号都叫运算符，完成某个操作，数字叫做值，也就是数据，编程的本质就是操作一些数据。"
   ]
  },
  {
   "cell_type": "markdown",
   "metadata": {},
   "source": [
    "<table>\n",
    "    <caption>\n",
    "        Python 常用算术运算符</caption>\n",
    "    <tbody>\n",
    "        <tr>\n",
    "            <th>\n",
    "                运算符</th>\n",
    "            <th>\n",
    "                说明</th>\n",
    "            <th>\n",
    "                实例</th>\n",
    "            <th>\n",
    "                结果</th>\n",
    "        </tr>\n",
    "        <tr>\n",
    "            <td>\n",
    "                +</td>\n",
    "            <td>\n",
    "                加</td>\n",
    "            <td>\n",
    "                12.45 + 15</td>\n",
    "            <td>\n",
    "                27.45</td>\n",
    "        </tr>\n",
    "        <tr>\n",
    "            <td>\n",
    "                -</td>\n",
    "            <td>\n",
    "                减</td>\n",
    "            <td>\n",
    "                4.56 - 0.26</td>\n",
    "            <td>\n",
    "                4.3</td>\n",
    "        </tr>\n",
    "        <tr>\n",
    "            <td>\n",
    "                *</td>\n",
    "            <td>\n",
    "                乘</td>\n",
    "            <td>\n",
    "                5 * 3.6</td>\n",
    "            <td>\n",
    "                18.0</td>\n",
    "        </tr>\n",
    "        <tr>\n",
    "            <td>\n",
    "                /</td>\n",
    "            <td>\n",
    "                除法（和数学中的规则一样）</td>\n",
    "            <td>\n",
    "                7 / 2</td>\n",
    "            <td>\n",
    "                3.5</td>\n",
    "        </tr>\n",
    "        <tr>\n",
    "            <td>\n",
    "                //</td>\n",
    "            <td>\n",
    "                整除（只保留商的整数部分）</td>\n",
    "            <td>\n",
    "                7 // 2</td>\n",
    "            <td>\n",
    "                3</td>\n",
    "        </tr>\n",
    "        <tr>\n",
    "            <td>\n",
    "                %</td>\n",
    "            <td>\n",
    "                取余，即返回除法的余数</td>\n",
    "            <td>\n",
    "                7 % 2</td>\n",
    "            <td>\n",
    "                1</td>\n",
    "        </tr>\n",
    "        <tr>\n",
    "            <td>\n",
    "                **</td>\n",
    "            <td>\n",
    "                幂运算/次方运算，即返回 x 的 y 次方</td>\n",
    "            <td>\n",
    "                2 ** 4</td>\n",
    "            <td>\n",
    "                16，即 2<sup>4</sup></td>\n",
    "        </tr>\n",
    "    </tbody>\n",
    "</table>"
   ]
  },
  {
   "cell_type": "markdown",
   "metadata": {},
   "source": [
    "为了好看，一般在运算符两边加一个空格"
   ]
  },
  {
   "cell_type": "markdown",
   "metadata": {},
   "source": [
    "## 数字比较大小"
   ]
  },
  {
   "cell_type": "code",
   "execution_count": 4,
   "metadata": {},
   "outputs": [
    {
     "data": {
      "text/plain": [
       "True"
      ]
     },
     "execution_count": 4,
     "metadata": {},
     "output_type": "execute_result"
    }
   ],
   "source": [
    "5 > 3"
   ]
  },
  {
   "cell_type": "code",
   "execution_count": 5,
   "metadata": {},
   "outputs": [
    {
     "data": {
      "text/plain": [
       "False"
      ]
     },
     "execution_count": 5,
     "metadata": {},
     "output_type": "execute_result"
    }
   ],
   "source": [
    "4 >= 7"
   ]
  },
  {
   "cell_type": "markdown",
   "metadata": {},
   "source": [
    "其它比较运算符"
   ]
  },
  {
   "cell_type": "markdown",
   "metadata": {},
   "source": [
    "<table>\n",
    "    <caption>\n",
    "        常见比较运算符</caption>\n",
    "    <tbody>\n",
    "        <tr>\n",
    "            <th>\n",
    "                比较运算符</th>\n",
    "            <th>\n",
    "                说明</th>\n",
    "        </tr>\n",
    "        <tr>\n",
    "            <td>\n",
    "                &gt;</td>\n",
    "            <td>\n",
    "                大于，如果<code>&gt;</code>前面的值大于后面的值，则返回 True，否则返回 False。</td>\n",
    "        </tr>\n",
    "        <tr>\n",
    "            <td>\n",
    "                &lt;</td>\n",
    "            <td>\n",
    "                小于，如果<code>&lt;</code>前面的值小于后面的值，则返回 True，否则返回 False。</td>\n",
    "        </tr>\n",
    "        <tr>\n",
    "            <td>\n",
    "                ==</td>\n",
    "            <td>\n",
    "                等于，如果<code>==</code>两边的值相等，则返回 True，否则返回 False。</td>\n",
    "        </tr>\n",
    "        <tr>\n",
    "            <td>\n",
    "                &gt;=</td>\n",
    "            <td>\n",
    "                大于等于（等价于数学中的 ≥），如果<code>&gt;=</code>前面的值大于或者等于后面的值，则返回 True，否则返回 False。</td>\n",
    "        </tr>\n",
    "        <tr>\n",
    "            <td>\n",
    "                &lt;=</td>\n",
    "            <td>\n",
    "                小于等于（等价于数学中的 ≤），如果<code>&lt;=</code>前面的值小于或者等于后面的值，则返回 True，否则返回 False。</td>\n",
    "        </tr>\n",
    "        <tr>\n",
    "            <td>\n",
    "                !=</td>\n",
    "            <td>\n",
    "                不等于（等价于数学中的 ≠），如果<code>!=</code>两边的值不相等，则返回 True，否则返回 False。</td>\n",
    "        </tr>\n",
    "    </tbody>\n",
    "</table>"
   ]
  },
  {
   "cell_type": "markdown",
   "metadata": {},
   "source": [
    "## 既要又要还要"
   ]
  },
  {
   "cell_type": "markdown",
   "metadata": {},
   "source": [
    "有时候我们需要判断多个条件，比如“明天要是周末或者放假的话，并且不下雨的话，就去爬山”。这里的 `周末`,`放假`,`下雨`就是各种条件，而 `或者`,`并且`,`不`就是条件之间的关系。"
   ]
  },
  {
   "cell_type": "code",
   "execution_count": 6,
   "metadata": {},
   "outputs": [
    {
     "data": {
      "text/plain": [
       "True"
      ]
     },
     "execution_count": 6,
     "metadata": {},
     "output_type": "execute_result"
    }
   ],
   "source": [
    "not 1 > 2 and 2 < 3"
   ]
  },
  {
   "cell_type": "markdown",
   "metadata": {},
   "source": [
    "我们可以分步来计算它"
   ]
  },
  {
   "cell_type": "code",
   "execution_count": 7,
   "metadata": {},
   "outputs": [
    {
     "data": {
      "text/plain": [
       "False"
      ]
     },
     "execution_count": 7,
     "metadata": {},
     "output_type": "execute_result"
    }
   ],
   "source": [
    "1 > 2"
   ]
  },
  {
   "cell_type": "code",
   "execution_count": 8,
   "metadata": {},
   "outputs": [
    {
     "data": {
      "text/plain": [
       "True"
      ]
     },
     "execution_count": 8,
     "metadata": {},
     "output_type": "execute_result"
    }
   ],
   "source": [
    "2 < 3"
   ]
  },
  {
   "cell_type": "code",
   "execution_count": 9,
   "metadata": {},
   "outputs": [
    {
     "data": {
      "text/plain": [
       "False"
      ]
     },
     "execution_count": 9,
     "metadata": {},
     "output_type": "execute_result"
    }
   ],
   "source": [
    "False and True"
   ]
  },
  {
   "cell_type": "code",
   "execution_count": 10,
   "metadata": {},
   "outputs": [
    {
     "data": {
      "text/plain": [
       "False"
      ]
     },
     "execution_count": 10,
     "metadata": {},
     "output_type": "execute_result"
    }
   ],
   "source": [
    "1 > 2 and 2 < 3"
   ]
  },
  {
   "cell_type": "code",
   "execution_count": 11,
   "metadata": {},
   "outputs": [
    {
     "data": {
      "text/plain": [
       "False"
      ]
     },
     "execution_count": 11,
     "metadata": {},
     "output_type": "execute_result"
    }
   ],
   "source": [
    "1 > 2 and 2 < 3"
   ]
  },
  {
   "cell_type": "code",
   "execution_count": 12,
   "metadata": {},
   "outputs": [
    {
     "data": {
      "text/plain": [
       "True"
      ]
     },
     "execution_count": 12,
     "metadata": {},
     "output_type": "execute_result"
    }
   ],
   "source": [
    "not 1 > 2 and 2 < 3"
   ]
  },
  {
   "cell_type": "markdown",
   "metadata": {},
   "source": [
    "逻辑运算符汇总"
   ]
  },
  {
   "cell_type": "markdown",
   "metadata": {},
   "source": [
    "<table>\n",
    "    <caption>\n",
    "        逻辑运算符及功能</caption>\n",
    "    <tbody>\n",
    "        <tr>\n",
    "            <th width=\"90\">\n",
    "                逻辑运算符</th>\n",
    "            <th>\n",
    "                含义</th>\n",
    "            <th width=\"90\">\n",
    "                基本格式</th>\n",
    "            <th>\n",
    "                说明</th>\n",
    "        </tr>\n",
    "        <tr>\n",
    "            <td>\n",
    "                and</td>\n",
    "            <td>\n",
    "                逻辑与运算，等价于数学中的“且”</td>\n",
    "            <td>\n",
    "                a and b</td>\n",
    "            <td>\n",
    "                当 a 和 b 两个表达式都为真时，a and b 的结果才为真，否则为假。</td>\n",
    "        </tr>\n",
    "        <tr>\n",
    "            <td>\n",
    "                or</td>\n",
    "            <td>\n",
    "                逻辑或运算，等价于数学中的“或”</td>\n",
    "            <td>\n",
    "                a or b</td>\n",
    "            <td>\n",
    "                当 a 和 b 两个表达式都为假时，a or b 的结果才是假，否则为真。</td>\n",
    "        </tr>\n",
    "        <tr>\n",
    "            <td>\n",
    "                not</td>\n",
    "            <td>\n",
    "                逻辑非运算，等价于数学中的“非”</td>\n",
    "            <td>\n",
    "                not a</td>\n",
    "            <td>\n",
    "                如果 a 为真，那么 not a 的结果为假；如果 a 为假，那么 not a 的结果为真。相当于对 a 取反。</td>\n",
    "        </tr>\n",
    "    </tbody>\n",
    "</table>"
   ]
  },
  {
   "cell_type": "markdown",
   "metadata": {},
   "source": [
    "## 小逻辑组合成大逻辑"
   ]
  },
  {
   "cell_type": "markdown",
   "metadata": {},
   "source": [
    "运算符和数字组成的式子我们叫它表达式，表达式最终都是一个值，但我们得理解一下它求值的过程。\n",
    "\n",
    "多种运算符组成的表达式计算过程中要遵循优先级规则。"
   ]
  },
  {
   "cell_type": "code",
   "execution_count": 13,
   "metadata": {},
   "outputs": [
    {
     "data": {
      "text/plain": [
       "False"
      ]
     },
     "execution_count": 13,
     "metadata": {},
     "output_type": "execute_result"
    }
   ],
   "source": [
    "1 + 2 * 3 > (1 + 2) * 3 and 3 > 4"
   ]
  },
  {
   "cell_type": "markdown",
   "metadata": {},
   "source": [
    "优先级表格，省略了一些不常用的"
   ]
  },
  {
   "cell_type": "markdown",
   "metadata": {},
   "source": [
    "<table>\n",
    "<caption>\n",
    "运算符优先级</caption>\n",
    "<tbody>\n",
    "<tr>\n",
    "<th>\n",
    "运算符说明</th>\n",
    "<th>\n",
    "Python运算符</th>\n",
    "<th>\n",
    "优先级</th>\n",
    "\n",
    "<th>\n",
    "优先级顺序</th>\n",
    "</tr>\n",
    "<tr>\n",
    "<td>\n",
    "小括号</td>\n",
    "<td>\n",
    "( )</td>\n",
    "<td>\n",
    "19</td>\n",
    "\n",
    "<td colspan=\"1\" rowspan=\"19\">\n",
    "高<br>\n",
    "︿<br>\n",
    "&nbsp;|<br>\n",
    "&nbsp;|<br>\n",
    "&nbsp;|<br>\n",
    "&nbsp;|<br>\n",
    "&nbsp;|<br>\n",
    "&nbsp;|<br>\n",
    "&nbsp;|<br>\n",
    "&nbsp;|<br>\n",
    "&nbsp;|<br>\n",
    "&nbsp;|<br>\n",
    "&nbsp;|<br>\n",
    "&nbsp;|<br>\n",
    "&nbsp;|<br>\n",
    "&nbsp;|<br>\n",
    "&nbsp;|<br>\n",
    "&nbsp;|<br>\n",
    "&nbsp;|<br>\n",
    "&nbsp;|<br>\n",
    "&nbsp;|<br>\n",
    "&nbsp;|<br>\n",
    "&nbsp;|<br>\n",
    "&nbsp;|<br>\n",
    "低</td>\n",
    "</tr>\n",
    "\n",
    "\n",
    "<tr>\n",
    "<td>\n",
    "乘方</td>\n",
    "<td>\n",
    "**</td>\n",
    "<td>\n",
    "16</td>\n",
    "\n",
    "</tr>\n",
    "\n",
    "\n",
    "<tr>\n",
    "<td>\n",
    "乘除</td>\n",
    "<td>\n",
    "*、/、//、%</td>\n",
    "<td>\n",
    "13</td>\n",
    "\n",
    "</tr>\n",
    "<tr>\n",
    "<td>\n",
    "加减</td>\n",
    "<td>\n",
    "+、-</td>\n",
    "<td>\n",
    "12</td>\n",
    "\n",
    "</tr>\n",
    "\n",
    "\n",
    "\n",
    "\n",
    "<tr>\n",
    "<td>\n",
    "比较运算符</td>\n",
    "<td>\n",
    "==、!=、&gt;、&gt;=、&lt;、&lt;=&nbsp;</td>\n",
    "<td>\n",
    "7</td>\n",
    "\n",
    "</tr>\n",
    "\n",
    "\n",
    "<tr>\n",
    "<td>\n",
    "逻辑非</td>\n",
    "<td>\n",
    "not</td>\n",
    "<td>\n",
    "4</td>\n",
    "\n",
    "</tr>\n",
    "<tr>\n",
    "<td>\n",
    "逻辑与</td>\n",
    "<td>\n",
    "and</td>\n",
    "<td>\n",
    "3</td>\n",
    "\n",
    "</tr>\n",
    "<tr>\n",
    "<td>\n",
    "逻辑或</td>\n",
    "<td>\n",
    "or</td>\n",
    "<td>\n",
    "2</td>\n",
    "\n",
    "</tr>\n",
    "\n",
    "</tbody>\n",
    "</table>"
   ]
  },
  {
   "cell_type": "markdown",
   "metadata": {},
   "source": [
    "去括号"
   ]
  },
  {
   "cell_type": "code",
   "execution_count": 14,
   "metadata": {},
   "outputs": [
    {
     "data": {
      "text/plain": [
       "False"
      ]
     },
     "execution_count": 14,
     "metadata": {},
     "output_type": "execute_result"
    }
   ],
   "source": [
    "1+2*3 > 3*3 and 3 > 4"
   ]
  },
  {
   "cell_type": "markdown",
   "metadata": {},
   "source": [
    "计算乘法"
   ]
  },
  {
   "cell_type": "code",
   "execution_count": 15,
   "metadata": {},
   "outputs": [
    {
     "data": {
      "text/plain": [
       "False"
      ]
     },
     "execution_count": 15,
     "metadata": {},
     "output_type": "execute_result"
    }
   ],
   "source": [
    "1+6 > 9 and 3 > 4"
   ]
  },
  {
   "cell_type": "markdown",
   "metadata": {},
   "source": [
    "计算加法"
   ]
  },
  {
   "cell_type": "code",
   "execution_count": 16,
   "metadata": {},
   "outputs": [
    {
     "data": {
      "text/plain": [
       "False"
      ]
     },
     "execution_count": 16,
     "metadata": {},
     "output_type": "execute_result"
    }
   ],
   "source": [
    "7>9 and 3>4"
   ]
  },
  {
   "cell_type": "markdown",
   "metadata": {},
   "source": [
    "计算逻辑运算"
   ]
  },
  {
   "cell_type": "code",
   "execution_count": 17,
   "metadata": {},
   "outputs": [
    {
     "data": {
      "text/plain": [
       "False"
      ]
     },
     "execution_count": 17,
     "metadata": {},
     "output_type": "execute_result"
    }
   ],
   "source": [
    "False and False"
   ]
  },
  {
   "cell_type": "markdown",
   "metadata": {},
   "source": [
    "通过运算符组合可以写出计算过程很复杂的式子，组合一种很基础的编程元素，把小的简单的逻辑组合成大的复杂的逻辑"
   ]
  },
  {
   "cell_type": "markdown",
   "metadata": {},
   "source": [
    "## 给数据起名字"
   ]
  },
  {
   "cell_type": "markdown",
   "metadata": {},
   "source": [
    "变量是一种抽象能力，计算步骤很长的逻辑，可以用变量保存中间的结果，让代码更容易理解"
   ]
  },
  {
   "cell_type": "markdown",
   "metadata": {},
   "source": [
    "假设圆周率 pi 是 3.14， 半径 r 是 6，数量 n 是 4，求总面积"
   ]
  },
  {
   "cell_type": "code",
   "execution_count": 18,
   "metadata": {},
   "outputs": [],
   "source": [
    "pi = 3.14\n",
    "r = 6\n",
    "n = 4"
   ]
  },
  {
   "cell_type": "markdown",
   "metadata": {},
   "source": [
    "给变量赋值用 `=` 操作符，注意这里不是相当的意思，前面学过的 `==` 才是判断两个数是否相当的意思。\n",
    "\n",
    "`=` 左边是变量的名字，右边是一个数字或表达式，赋值之后就可以用变量名字代替右侧的值。"
   ]
  },
  {
   "cell_type": "code",
   "execution_count": 19,
   "metadata": {},
   "outputs": [
    {
     "data": {
      "text/plain": [
       "301.44"
      ]
     },
     "execution_count": 19,
     "metadata": {},
     "output_type": "execute_result"
    }
   ],
   "source": [
    "pi * r * 4  * n"
   ]
  },
  {
   "cell_type": "markdown",
   "metadata": {},
   "source": [
    "这比 `3.14 * 6 * 6 * 4` 要容易理解多了"
   ]
  },
  {
   "cell_type": "markdown",
   "metadata": {},
   "source": [
    "## 显示些什么"
   ]
  },
  {
   "cell_type": "markdown",
   "metadata": {},
   "source": [
    "字符串就是能够显示出来的文字，符号，用引号括起来，单引号双引号都可以"
   ]
  },
  {
   "cell_type": "code",
   "execution_count": 20,
   "metadata": {},
   "outputs": [
    {
     "data": {
      "text/plain": [
       "'大家好，跟我一起学编程'"
      ]
     },
     "execution_count": 20,
     "metadata": {},
     "output_type": "execute_result"
    }
   ],
   "source": [
    "\"大家好，跟我一起学编程\""
   ]
  },
  {
   "cell_type": "markdown",
   "metadata": {},
   "source": [
    "编程语言大都内置显示字符串的功能，比如 `print`，括号里输入字符串就可以打印出来"
   ]
  },
  {
   "cell_type": "code",
   "execution_count": 21,
   "metadata": {},
   "outputs": [
    {
     "name": "stdout",
     "output_type": "stream",
     "text": [
      "Hello Python\n"
     ]
    }
   ],
   "source": [
    "print(\"Hello Python\")"
   ]
  },
  {
   "cell_type": "markdown",
   "metadata": {},
   "source": [
    "## 作出判断"
   ]
  },
  {
   "cell_type": "markdown",
   "metadata": {},
   "source": [
    "如果 5 个 半径为 2 的圆面积大于 50 就告诉我太大，否则告诉我太小"
   ]
  },
  {
   "cell_type": "code",
   "execution_count": 22,
   "metadata": {},
   "outputs": [],
   "source": [
    "pi = 3.14\n",
    "r = 2\n",
    "n = 6"
   ]
  },
  {
   "cell_type": "code",
   "execution_count": 23,
   "metadata": {},
   "outputs": [
    {
     "name": "stdout",
     "output_type": "stream",
     "text": [
      "太大\n"
     ]
    }
   ],
   "source": [
    "if pi * r * r * n > 50:\n",
    "    print(\"太大\")\n",
    "else:\n",
    "    print(\"太小\")"
   ]
  },
  {
   "cell_type": "markdown",
   "metadata": {},
   "source": [
    "这里用到　`if` `else` 语法，`if` 后面是一个式子，用来进行条件判断，如果条件成立，则运行下面缩进的代码，否则就运行 `else`　下面缩进的代码。\n",
    "缩进一般是输入 4 个空格"
   ]
  },
  {
   "cell_type": "markdown",
   "metadata": {},
   "source": [
    "## 遍历一个范围"
   ]
  },
  {
   "cell_type": "markdown",
   "metadata": {},
   "source": [
    "比如要显示 1-10 这 10 个数字，就需要用到循环， `while` 后面是一个判断条件，如果它成立，就执行下面缩进的代码，否则就执行整个循环后面的代码。\n",
    "\n",
    "循环中执行的代码，一定要去改变循环的判断条件，比如让变量 `i` 不断的变大，这样整个循环最终就会停止。\n",
    "\n",
    "循环中的代码可以用 `print` 功能打印一些信息，对，它除了打印字符串，也能打印数字。"
   ]
  },
  {
   "cell_type": "code",
   "execution_count": 24,
   "metadata": {},
   "outputs": [
    {
     "name": "stdout",
     "output_type": "stream",
     "text": [
      "1\n",
      "2\n",
      "3\n",
      "4\n",
      "5\n",
      "6\n",
      "7\n",
      "8\n",
      "9\n",
      "10\n"
     ]
    }
   ],
   "source": [
    "i = 1\n",
    "while i <= 10:\n",
    "    print(i)\n",
    "    i = i + 1"
   ]
  },
  {
   "cell_type": "markdown",
   "metadata": {},
   "source": [
    "那我们在循环中把这些数字加起来，放到一个 `sum` 变量里，循环结束后把它打印出来"
   ]
  },
  {
   "cell_type": "code",
   "execution_count": 25,
   "metadata": {},
   "outputs": [
    {
     "name": "stdout",
     "output_type": "stream",
     "text": [
      "55\n"
     ]
    }
   ],
   "source": [
    "sum = 0\n",
    "i = 1\n",
    "while i <= 10:\n",
    "    sum = sum + i\n",
    "    i = i + 1\n",
    "print(sum)    "
   ]
  },
  {
   "cell_type": "markdown",
   "metadata": {},
   "source": [
    "再过滤一下，只把除以 2 后余数为 0 的数，也就是偶数加起来。"
   ]
  },
  {
   "cell_type": "code",
   "execution_count": 26,
   "metadata": {},
   "outputs": [
    {
     "name": "stdout",
     "output_type": "stream",
     "text": [
      "30\n"
     ]
    }
   ],
   "source": [
    "sum = 0\n",
    "i = 1\n",
    "while i <= 10:\n",
    "    if i % 2 == 0:\n",
    "        sum = sum + i\n",
    "    i = i + 1\n",
    "print(sum)"
   ]
  },
  {
   "cell_type": "markdown",
   "metadata": {},
   "source": [
    "注意上面的代码有两级缩进，`while` 包含的代码有一层缩进，`if` 包含的代码也有一层缩进，但在视觉上看是很直观的，不容易出错。\n",
    "\n",
    "记着，不要把修改循环条件的 `i = i + 1` 写带 if 的缩进里去，因为它不管 `if` 的条件成立还是不成立，都要执行"
   ]
  },
  {
   "cell_type": "markdown",
   "metadata": {},
   "source": [
    "像这种复杂的代码，我们可以用 `print` 在循环里输出一些过程细节进行调试，`print` 支持输出多个数据，它们用逗号隔开"
   ]
  },
  {
   "cell_type": "code",
   "execution_count": 27,
   "metadata": {},
   "outputs": [
    {
     "name": "stdout",
     "output_type": "stream",
     "text": [
      "1 0 1 False\n",
      "2 0 0 True\n",
      "3 2 1 False\n",
      "4 2 0 True\n",
      "5 6 1 False\n",
      "6 6 0 True\n",
      "7 12 1 False\n",
      "8 12 0 True\n",
      "9 20 1 False\n",
      "10 20 0 True\n",
      "30\n"
     ]
    }
   ],
   "source": [
    "sum = 0\n",
    "i = 1\n",
    "while i <= 10:\n",
    "    print(i, sum, i % 2, i % 2 == 0)\n",
    "    if i % 2 == 0:\n",
    "        sum = sum + i\n",
    "    i = i + 1\n",
    "print(sum)"
   ]
  },
  {
   "cell_type": "markdown",
   "metadata": {},
   "source": [
    "在循环中根据条件搜索过滤一些数据是编程的一个很重要的功能。\n",
    "反正计算机执行速度快，只要我们写好判断条件，设置好循环的起止范围就可以让计算机帮我们干活了。\n",
    "\n",
    "后面还会看到更多使用循环解决问题的例子，比如解方程，求圆周率，开根号，计算质数，解多元线性规划问题等。"
   ]
  }
 ],
 "metadata": {
  "kernelspec": {
   "display_name": "Python 3",
   "language": "python",
   "name": "python3"
  },
  "language_info": {
   "codemirror_mode": {
    "name": "ipython",
    "version": 3
   },
   "file_extension": ".py",
   "mimetype": "text/x-python",
   "name": "python",
   "nbconvert_exporter": "python",
   "pygments_lexer": "ipython3",
   "version": "3.6.9"
  }
 },
 "nbformat": 4,
 "nbformat_minor": 2
}
