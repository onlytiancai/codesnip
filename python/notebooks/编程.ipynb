{
 "cells": [
  {
   "cell_type": "markdown",
   "metadata": {},
   "source": [
    "# 小学生编程入门\n",
    "\n",
    "2023-01 v0.0.2 蛙蛙"
   ]
  },
  {
   "cell_type": "markdown",
   "metadata": {},
   "source": [
    "## 介绍\n",
    "\n",
    "鲁迅说过：“编程要从娃娃抓起”，所以新时代的小朋友要学一点编程才足够酷。\n",
    "\n",
    "这是一个简单的入门教程，大约需要一个小时时间学习，目标很简单，就是求 10 以内能被 3 或 2 整除的所有数的和，带着这个问题我们来学习编程的基本元素和基本技巧。\n",
    "\n",
    "当然了你会想，这我口算也可以呀，但如果求 100000 以内的能被 3 整除的数的和呢？用计算机实现它不香吗？"
   ]
  },
  {
   "cell_type": "markdown",
   "metadata": {},
   "source": [
    "## 最简单的数学计算"
   ]
  },
  {
   "cell_type": "markdown",
   "metadata": {},
   "source": [
    "提问：你知道计算机最初是用来做什么的吗？\n",
    "\n",
    "回答：对，就是做计算的。\n",
    "\n",
    "我们先来看看编程实现计算器的功能难不难。"
   ]
  },
  {
   "cell_type": "code",
   "execution_count": 1,
   "metadata": {},
   "outputs": [
    {
     "data": {
      "text/plain": [
       "2"
      ]
     },
     "execution_count": 1,
     "metadata": {},
     "output_type": "execute_result"
    }
   ],
   "source": [
    "1 + 1"
   ]
  },
  {
   "cell_type": "code",
   "execution_count": 2,
   "metadata": {},
   "outputs": [
    {
     "data": {
      "text/plain": [
       "7"
      ]
     },
     "execution_count": 2,
     "metadata": {},
     "output_type": "execute_result"
    }
   ],
   "source": [
    "1 + 2 * 3"
   ]
  },
  {
   "cell_type": "code",
   "execution_count": 3,
   "metadata": {},
   "outputs": [
    {
     "data": {
      "text/plain": [
       "9"
      ]
     },
     "execution_count": 3,
     "metadata": {},
     "output_type": "execute_result"
    }
   ],
   "source": [
    "(1 + 2) * 3"
   ]
  },
  {
   "cell_type": "markdown",
   "metadata": {},
   "source": [
    "可以看到，直接列出式子就可以得到结果，而且自动的先乘除后加减，还支持用括号改变计算顺序，和数学里的规律一模一样。\n",
    "\n",
    "这些虽然是数学式子，但也是真正可运行的代码，编程里叫**表达式**，每个表达式都有一个计算结果，叫做表达式的**值**，就是表达式下面的输出结果。\n",
    "\n",
    "表达式里的加减乘除符号叫**运算符**或**操作符**，用来完成某个计算或操作，数字叫做**值**，也就是数据。为了好看，一般在运算符两边各加一个空格。\n",
    "\n",
    "编程的本质就是操作一些数据，后面我们会看到更多的数据类型和操作方式，下面是一些常见的数学运算符。"
   ]
  },
  {
   "cell_type": "markdown",
   "metadata": {},
   "source": [
    "<table>\n",
    "    <caption>\n",
    "        常用数学运算符</caption>\n",
    "    <tbody>\n",
    "        <tr>\n",
    "            <th>\n",
    "                运算符</th>\n",
    "            <th>\n",
    "                说明</th>\n",
    "            <th>\n",
    "                实例</th>\n",
    "            <th>\n",
    "                结果</th>\n",
    "        </tr>\n",
    "        <tr>\n",
    "            <td>\n",
    "                +</td>\n",
    "            <td>\n",
    "                加</td>\n",
    "            <td>\n",
    "                12.45 + 15</td>\n",
    "            <td>\n",
    "                27.45</td>\n",
    "        </tr>\n",
    "        <tr>\n",
    "            <td>\n",
    "                -</td>\n",
    "            <td>\n",
    "                减</td>\n",
    "            <td>\n",
    "                4.56 - 0.26</td>\n",
    "            <td>\n",
    "                4.3</td>\n",
    "        </tr>\n",
    "        <tr>\n",
    "            <td>\n",
    "                *</td>\n",
    "            <td>\n",
    "                乘</td>\n",
    "            <td>\n",
    "                5 * 3.6</td>\n",
    "            <td>\n",
    "                18.0</td>\n",
    "        </tr>\n",
    "        <tr>\n",
    "            <td>\n",
    "                /</td>\n",
    "            <td>\n",
    "                除法（和数学中的规则一样）</td>\n",
    "            <td>\n",
    "                7 / 2</td>\n",
    "            <td>\n",
    "                3.5</td>\n",
    "        </tr>\n",
    "        <tr>\n",
    "            <td>\n",
    "                //</td>\n",
    "            <td>\n",
    "                整除（只保留商的整数部分）</td>\n",
    "            <td>\n",
    "                7 // 2</td>\n",
    "            <td>\n",
    "                3</td>\n",
    "        </tr>\n",
    "        <tr>\n",
    "            <td>\n",
    "                %</td>\n",
    "            <td>\n",
    "                取余，即返回除法的余数</td>\n",
    "            <td>\n",
    "                7 % 2</td>\n",
    "            <td>\n",
    "                1</td>\n",
    "        </tr>\n",
    "        <tr>\n",
    "            <td>\n",
    "                **</td>\n",
    "            <td>\n",
    "                幂运算/次方运算，即返回 x 的 y 次方</td>\n",
    "            <td>\n",
    "                2 ** 4</td>\n",
    "            <td>\n",
    "                16，即 2<sup>4</sup></td>\n",
    "        </tr>\n",
    "    </tbody>\n",
    "</table>"
   ]
  },
  {
   "cell_type": "markdown",
   "metadata": {},
   "source": [
    "## 数字比较大小"
   ]
  },
  {
   "cell_type": "markdown",
   "metadata": {},
   "source": [
    "提问：数学里除了加减乘除计算，还可以用大于号小于号比较两个数的大小，那编程里可以吗？\n",
    "\n",
    "回答：当然可以！\n",
    "\n",
    "看下面两个表达式。"
   ]
  },
  {
   "cell_type": "code",
   "execution_count": 4,
   "metadata": {},
   "outputs": [
    {
     "data": {
      "text/plain": [
       "True"
      ]
     },
     "execution_count": 4,
     "metadata": {},
     "output_type": "execute_result"
    }
   ],
   "source": [
    "5 > 3"
   ]
  },
  {
   "cell_type": "code",
   "execution_count": 5,
   "metadata": {},
   "outputs": [
    {
     "data": {
      "text/plain": [
       "False"
      ]
     },
     "execution_count": 5,
     "metadata": {},
     "output_type": "execute_result"
    }
   ],
   "source": [
    "4 >= 7"
   ]
  },
  {
   "cell_type": "markdown",
   "metadata": {},
   "source": [
    "可以看到上面的表达式用到了新的操作符 `>` 和 `>=`，它们用来比较两个数字的大小，所以这样的操作符叫做**比较运算符**。\n",
    "\n",
    "另外我们还看到表达式的计算输出是 `True` 和 `False`，而不是一个数字，它们分别表示这个判断条件是真还是假，这种数据类型叫做**布尔类型**，它只有这两个值。\n",
    "\n",
    "编程里还有其它一些比较运算符。"
   ]
  },
  {
   "cell_type": "markdown",
   "metadata": {},
   "source": [
    "<table>\n",
    "    <caption>\n",
    "        常见比较运算符</caption>\n",
    "    <tbody>\n",
    "        <tr>\n",
    "            <th>\n",
    "                比较运算符</th>\n",
    "            <th>\n",
    "                说明</th>\n",
    "        </tr>\n",
    "        <tr>\n",
    "            <td>\n",
    "                &gt;</td>\n",
    "            <td>\n",
    "                大于，如果<code>&gt;</code>前面的值大于后面的值，则返回 True，否则返回 False。</td>\n",
    "        </tr>\n",
    "        <tr>\n",
    "            <td>\n",
    "                &lt;</td>\n",
    "            <td>\n",
    "                小于，如果<code>&lt;</code>前面的值小于后面的值，则返回 True，否则返回 False。</td>\n",
    "        </tr>\n",
    "        <tr>\n",
    "            <td>\n",
    "                ==</td>\n",
    "            <td>\n",
    "                等于，如果<code>==</code>两边的值相等，则返回 True，否则返回 False。</td>\n",
    "        </tr>\n",
    "        <tr>\n",
    "            <td>\n",
    "                &gt;=</td>\n",
    "            <td>\n",
    "                大于等于（等价于数学中的 ≥），如果<code>&gt;=</code>前面的值大于或者等于后面的值，则返回 True，否则返回 False。</td>\n",
    "        </tr>\n",
    "        <tr>\n",
    "            <td>\n",
    "                &lt;=</td>\n",
    "            <td>\n",
    "                小于等于（等价于数学中的 ≤），如果<code>&lt;=</code>前面的值小于或者等于后面的值，则返回 True，否则返回 False。</td>\n",
    "        </tr>\n",
    "        <tr>\n",
    "            <td>\n",
    "                !=</td>\n",
    "            <td>\n",
    "                不等于（等价于数学中的 ≠），如果<code>!=</code>两边的值不相等，则返回 True，否则返回 False。</td>\n",
    "        </tr>\n",
    "    </tbody>\n",
    "</table>"
   ]
  },
  {
   "cell_type": "markdown",
   "metadata": {},
   "source": [
    "## 明天能不能爬山？"
   ]
  },
  {
   "cell_type": "markdown",
   "metadata": {},
   "source": [
    "提问：数字之间能够进行加减乘除运算，那布尔值之间能进行计算吗？\n",
    "\n",
    "回答：能，编程里要用**逻辑运算符**来对布尔类型数据进行运算。"
   ]
  },
  {
   "cell_type": "markdown",
   "metadata": {},
   "source": [
    "有时候我们需要判断多个条件，比如“如果明天是周末或者放假，并且不下雨的话，就去爬山”。这里的 `周末`,`放假`,`下雨`就是各种判断条件，条件会有成立和不成立两种状态，也就是真和假两种结果，而 `或者`,`并且`,`不`就是条件之间的运算关系。"
   ]
  },
  {
   "cell_type": "markdown",
   "metadata": {},
   "source": [
    "**并且**在编程里用 `and` 表示，只有它两边的值同时**都**为真，表达式的结果才是真 `True`，否则就为假 `False`"
   ]
  },
  {
   "cell_type": "code",
   "execution_count": 6,
   "metadata": {
    "scrolled": true
   },
   "outputs": [
    {
     "data": {
      "text/plain": [
       "True"
      ]
     },
     "execution_count": 6,
     "metadata": {},
     "output_type": "execute_result"
    }
   ],
   "source": [
    "True and True"
   ]
  },
  {
   "cell_type": "code",
   "execution_count": 7,
   "metadata": {},
   "outputs": [
    {
     "data": {
      "text/plain": [
       "False"
      ]
     },
     "execution_count": 7,
     "metadata": {},
     "output_type": "execute_result"
    }
   ],
   "source": [
    "True and False"
   ]
  },
  {
   "cell_type": "markdown",
   "metadata": {},
   "source": [
    "**或者**用`or`表示，只要两边有**任意**一个为真，则表达式的值为真。"
   ]
  },
  {
   "cell_type": "code",
   "execution_count": 8,
   "metadata": {},
   "outputs": [
    {
     "data": {
      "text/plain": [
       "True"
      ]
     },
     "execution_count": 8,
     "metadata": {},
     "output_type": "execute_result"
    }
   ],
   "source": [
    "True or True"
   ]
  },
  {
   "cell_type": "code",
   "execution_count": 9,
   "metadata": {},
   "outputs": [
    {
     "data": {
      "text/plain": [
       "True"
      ]
     },
     "execution_count": 9,
     "metadata": {},
     "output_type": "execute_result"
    }
   ],
   "source": [
    "True or False"
   ]
  },
  {
   "cell_type": "markdown",
   "metadata": {},
   "source": [
    "**不**用`not`表示，它只有右边有值，右边的值为真，表达式的值就为假，右边的值为假，表达式的值就为真，相当于**取反**的作用。"
   ]
  },
  {
   "cell_type": "code",
   "execution_count": 10,
   "metadata": {},
   "outputs": [
    {
     "data": {
      "text/plain": [
       "False"
      ]
     },
     "execution_count": 10,
     "metadata": {},
     "output_type": "execute_result"
    }
   ],
   "source": [
    "not True"
   ]
  },
  {
   "cell_type": "code",
   "execution_count": 11,
   "metadata": {},
   "outputs": [
    {
     "data": {
      "text/plain": [
       "True"
      ]
     },
     "execution_count": 11,
     "metadata": {},
     "output_type": "execute_result"
    }
   ],
   "source": [
    "not False"
   ]
  },
  {
   "cell_type": "markdown",
   "metadata": {},
   "source": [
    "## 小逻辑组合成大逻辑"
   ]
  },
  {
   "cell_type": "markdown",
   "metadata": {},
   "source": [
    "提问：前面我们已经学了数学运算符，比较运算符，逻辑运算符，把它们组合起来可以写出逻辑很复杂的表达式，但像下面这个表达式你知道它们的计算过程是怎样的吗？"
   ]
  },
  {
   "cell_type": "code",
   "execution_count": 12,
   "metadata": {},
   "outputs": [
    {
     "data": {
      "text/plain": [
       "False"
      ]
     },
     "execution_count": 12,
     "metadata": {},
     "output_type": "execute_result"
    }
   ],
   "source": [
    "1 + 2 * 3 > (1 + 2) * 3 and 3 > 4"
   ]
  },
  {
   "cell_type": "markdown",
   "metadata": {},
   "source": [
    "回答：多种运算符组成的表达式计算需要注意计算的顺序，要遵循优先级规则\n",
    "\n",
    "下面是我们学过的运算符的优先级。"
   ]
  },
  {
   "cell_type": "markdown",
   "metadata": {},
   "source": [
    "<table>\n",
    "<caption>\n",
    "运算符优先级</caption>\n",
    "<tbody>\n",
    "<tr>\n",
    "<th>\n",
    "运算符说明</th>\n",
    "<th>\n",
    "Python运算符</th>\n",
    "<th>\n",
    "优先级</th>\n",
    "\n",
    "<th>\n",
    "优先级顺序</th>\n",
    "</tr>\n",
    "<tr>\n",
    "<td>\n",
    "小括号</td>\n",
    "<td>\n",
    "( )</td>\n",
    "<td>\n",
    "19</td>\n",
    "\n",
    "<td colspan=\"1\" rowspan=\"19\">\n",
    "高<br>\n",
    "︿<br>\n",
    "&nbsp;|<br>\n",
    "&nbsp;|<br>\n",
    "&nbsp;|<br>\n",
    "&nbsp;|<br>\n",
    "&nbsp;|<br>\n",
    "&nbsp;|<br>\n",
    "&nbsp;|<br>\n",
    "&nbsp;|<br>\n",
    "&nbsp;|<br>\n",
    "&nbsp;|<br>\n",
    "&nbsp;|<br>\n",
    "&nbsp;|<br>\n",
    "&nbsp;|<br>\n",
    "&nbsp;|<br>\n",
    "&nbsp;|<br>\n",
    "&nbsp;|<br>\n",
    "&nbsp;|<br>\n",
    "&nbsp;|<br>\n",
    "&nbsp;|<br>\n",
    "&nbsp;|<br>\n",
    "&nbsp;|<br>\n",
    "&nbsp;|<br>\n",
    "低</td>\n",
    "</tr>\n",
    "\n",
    "\n",
    "<tr>\n",
    "<td>\n",
    "乘方</td>\n",
    "<td>\n",
    "**</td>\n",
    "<td>\n",
    "16</td>\n",
    "\n",
    "</tr>\n",
    "\n",
    "\n",
    "<tr>\n",
    "<td>\n",
    "乘除</td>\n",
    "<td>\n",
    "*、/、//、%</td>\n",
    "<td>\n",
    "13</td>\n",
    "\n",
    "</tr>\n",
    "<tr>\n",
    "<td>\n",
    "加减</td>\n",
    "<td>\n",
    "+、-</td>\n",
    "<td>\n",
    "12</td>\n",
    "\n",
    "</tr>\n",
    "\n",
    "\n",
    "\n",
    "\n",
    "<tr>\n",
    "<td>\n",
    "比较运算符</td>\n",
    "<td>\n",
    "==、!=、&gt;、&gt;=、&lt;、&lt;=&nbsp;</td>\n",
    "<td>\n",
    "7</td>\n",
    "\n",
    "</tr>\n",
    "\n",
    "\n",
    "<tr>\n",
    "<td>\n",
    "逻辑非</td>\n",
    "<td>\n",
    "not</td>\n",
    "<td>\n",
    "4</td>\n",
    "\n",
    "</tr>\n",
    "<tr>\n",
    "<td>\n",
    "逻辑与</td>\n",
    "<td>\n",
    "and</td>\n",
    "<td>\n",
    "3</td>\n",
    "\n",
    "</tr>\n",
    "<tr>\n",
    "<td>\n",
    "逻辑或</td>\n",
    "<td>\n",
    "or</td>\n",
    "<td>\n",
    "2</td>\n",
    "\n",
    "</tr>\n",
    "\n",
    "</tbody>\n",
    "</table>"
   ]
  },
  {
   "cell_type": "markdown",
   "metadata": {},
   "source": [
    "我们来分步骤计算这个复杂的表达式，每计算一个步骤，它就会更简化一些。"
   ]
  },
  {
   "cell_type": "markdown",
   "metadata": {},
   "source": [
    "第 1 步：去括号，先执行括号里的运算， `(1 + 2)` 的结果为 3，代入表达式变为如下："
   ]
  },
  {
   "cell_type": "code",
   "execution_count": 13,
   "metadata": {},
   "outputs": [
    {
     "data": {
      "text/plain": [
       "False"
      ]
     },
     "execution_count": 13,
     "metadata": {},
     "output_type": "execute_result"
    }
   ],
   "source": [
    "1 + 2 * 3 > 3 * 3 and 3 > 4"
   ]
  },
  {
   "cell_type": "markdown",
   "metadata": {},
   "source": [
    "第 2 步：计算乘除法，`2 * 3` 结果为 6， `3 * 3` 结果为 9，代入表达式变为如下："
   ]
  },
  {
   "cell_type": "code",
   "execution_count": 14,
   "metadata": {},
   "outputs": [
    {
     "data": {
      "text/plain": [
       "False"
      ]
     },
     "execution_count": 14,
     "metadata": {},
     "output_type": "execute_result"
    }
   ],
   "source": [
    "1 + 6 > 9 and 3 > 4"
   ]
  },
  {
   "cell_type": "markdown",
   "metadata": {},
   "source": [
    "第 3 步：计算加减法, `1 + 6` 结果为 7，代入表达式变为如下："
   ]
  },
  {
   "cell_type": "code",
   "execution_count": 15,
   "metadata": {},
   "outputs": [
    {
     "data": {
      "text/plain": [
       "False"
      ]
     },
     "execution_count": 15,
     "metadata": {},
     "output_type": "execute_result"
    }
   ],
   "source": [
    "7 > 9 and 3 > 4"
   ]
  },
  {
   "cell_type": "markdown",
   "metadata": {},
   "source": [
    "第 4 步：计算比较运算，`7 > 9` 结果为 `False`，`3 > 4` 结果也为 `False`，代入表达式变为如下："
   ]
  },
  {
   "cell_type": "code",
   "execution_count": 16,
   "metadata": {},
   "outputs": [
    {
     "data": {
      "text/plain": [
       "False"
      ]
     },
     "execution_count": 16,
     "metadata": {},
     "output_type": "execute_result"
    }
   ],
   "source": [
    "False and False"
   ]
  },
  {
   "cell_type": "markdown",
   "metadata": {},
   "source": [
    "第5 步：计算逻辑运算，这一步只有一个操作符了，直接就能得到结果 `False`"
   ]
  },
  {
   "cell_type": "markdown",
   "metadata": {},
   "source": [
    "**组合** 一种把基础的编程技巧，它把小的简单的逻辑组合成大的复杂的逻辑。"
   ]
  },
  {
   "cell_type": "markdown",
   "metadata": {},
   "source": [
    "## 给数字起个名字"
   ]
  },
  {
   "cell_type": "markdown",
   "metadata": {},
   "source": [
    "提问：代码里的数字太多了，我都分不清它们各自是表示什么意思，怎么办呢？\n",
    "\n",
    "回答： 我们可以用**变量**给数字起个名字，看到名字就能知道它表示什么。\n",
    "\n",
    "变量相当于给具体的数字抽象出一个名字，如果代码很长，用变量代替具体数字能让代码更容易理解。\n",
    "\n",
    "**抽象**和**组合**一样，也是重要的编程技巧，后面我们还会学习更多的抽象技巧。"
   ]
  },
  {
   "cell_type": "markdown",
   "metadata": {},
   "source": [
    "有很多个圆形，我们要求它们的总面积。\n",
    "\n",
    "我们设圆周率 `pi` 是 3.14， 半径 `r` 是 6，数量 `n` 是 4，看下代码如何表示。"
   ]
  },
  {
   "cell_type": "code",
   "execution_count": 17,
   "metadata": {},
   "outputs": [],
   "source": [
    "pi = 3.14\n",
    "r = 6\n",
    "n = 4"
   ]
  },
  {
   "cell_type": "markdown",
   "metadata": {},
   "source": [
    "语法：\n",
    "- 给变量赋值需要用到 `=` 操作符，`=` 左边是变量的名字，右边是一个数字或表达式\n",
    "- 整行代码表示把右侧的数字赋值给左边的变量，赋值之后就可以用变量名字代替右侧的值。\n",
    "- 注意这里不是数学上等于的意思，前面学过的 `==` 才是判断两个数是否相当的意思。\n",
    "\n",
    "另外我们看到这里我们写了 3 行代码，它们会从上向下依次执行，每一行代码叫做一个**语句**，顺序的多条语句放在一起叫做**顺序结构语句**，这也是一种**组合**技巧。\n",
    "\n",
    "再来看如何解决问题，代码如下，这比 `3.14 * 6 * 6 * 4` 要容易理解多了。"
   ]
  },
  {
   "cell_type": "code",
   "execution_count": 18,
   "metadata": {},
   "outputs": [
    {
     "data": {
      "text/plain": [
       "452.15999999999997"
      ]
     },
     "execution_count": 18,
     "metadata": {},
     "output_type": "execute_result"
    }
   ],
   "source": [
    "pi * r * r  * n"
   ]
  },
  {
   "cell_type": "markdown",
   "metadata": {},
   "source": [
    "## 显示些什么"
   ]
  },
  {
   "cell_type": "markdown",
   "metadata": {},
   "source": [
    "提问：编程除了数字，能不能给我显示一些其它的文字呢？\n",
    "\n",
    "回答：可以，字符串就是用来表示文字，符号的。\n",
    "\n",
    "字符串的语法用引号括起来的一段文字，单引号双引号都可以。"
   ]
  },
  {
   "cell_type": "code",
   "execution_count": 19,
   "metadata": {},
   "outputs": [
    {
     "data": {
      "text/plain": [
       "'跟蛙蛙学编程'"
      ]
     },
     "execution_count": 19,
     "metadata": {},
     "output_type": "execute_result"
    }
   ],
   "source": [
    "\"跟蛙蛙学编程\""
   ]
  },
  {
   "cell_type": "markdown",
   "metadata": {},
   "source": [
    "编程语言大都内置显示字符串的功能，比如 `print`，括号里输入字符串就可以打印出来"
   ]
  },
  {
   "cell_type": "code",
   "execution_count": 20,
   "metadata": {},
   "outputs": [
    {
     "name": "stdout",
     "output_type": "stream",
     "text": [
      "Hello Python\n"
     ]
    }
   ],
   "source": [
    "print(\"Hello Python\")"
   ]
  },
  {
   "cell_type": "markdown",
   "metadata": {},
   "source": [
    "`print` 可以传入多个数据，字符串，数字都可以，它们用逗号分隔。"
   ]
  },
  {
   "cell_type": "code",
   "execution_count": 21,
   "metadata": {},
   "outputs": [
    {
     "name": "stdout",
     "output_type": "stream",
     "text": [
      "我叫 蛙蛙 今年 18\n"
     ]
    }
   ],
   "source": [
    "name = '蛙蛙'\n",
    "age = 18\n",
    "print('我叫', name, '今年', age)"
   ]
  },
  {
   "cell_type": "markdown",
   "metadata": {},
   "source": [
    "## 作出判断"
   ]
  },
  {
   "cell_type": "markdown",
   "metadata": {},
   "source": [
    "提问：前面写的代码都是顺序执行的，我如何写出有分支的代码呢？\n",
    "\n",
    "回答：需要用到 `if else` 分支结构语句。\n",
    "\n",
    "需求是如果 5 个 半径为 2 的圆面积大于 50 就告诉我`太大`，否则告诉我`太小`，先定义相关变量。"
   ]
  },
  {
   "cell_type": "code",
   "execution_count": 22,
   "metadata": {},
   "outputs": [],
   "source": [
    "pi = 3.14\n",
    "r = 2\n",
    "n = 6"
   ]
  },
  {
   "cell_type": "markdown",
   "metadata": {},
   "source": [
    "用 `if else` 写出判断逻辑"
   ]
  },
  {
   "cell_type": "code",
   "execution_count": 23,
   "metadata": {},
   "outputs": [
    {
     "name": "stdout",
     "output_type": "stream",
     "text": [
      "太大\n"
     ]
    }
   ],
   "source": [
    "if pi * r * r * n > 50:\n",
    "    print(\"太大\")\n",
    "else:\n",
    "    print(\"太小\")"
   ]
  },
  {
   "cell_type": "markdown",
   "metadata": {},
   "source": [
    "语法\n",
    "- `if` 后面是一个能够返回布尔值的表达式，用来进行条件判断。\n",
    "- 如果判断条件成立，则运行 `if` 下面缩进的代码，否则就运行 `else`　下面缩进的代码。\n",
    "- `if` 和 `else` 的末尾要有个冒号 `:`\n",
    "- 缩进一般是输入 4 个空格。"
   ]
  },
  {
   "cell_type": "markdown",
   "metadata": {},
   "source": [
    "## 遍历一个范围"
   ]
  },
  {
   "cell_type": "markdown",
   "metadata": {},
   "source": [
    "提问：如何遍历一个数字范围，并对每个数做一些操作？\n",
    "\n",
    "回答：有很多方法，我们先学习最通用的 `while` 循环语句。\n",
    "\n",
    "\n",
    "比如要显示 1-10 这 10 个数字，就需要用到循环："
   ]
  },
  {
   "cell_type": "code",
   "execution_count": 24,
   "metadata": {},
   "outputs": [
    {
     "name": "stdout",
     "output_type": "stream",
     "text": [
      "1\n",
      "2\n",
      "3\n",
      "4\n",
      "5\n",
      "6\n",
      "7\n",
      "8\n",
      "9\n",
      "10\n"
     ]
    }
   ],
   "source": [
    "i = 1\n",
    "while i <= 10:\n",
    "    print(i)\n",
    "    i = i + 1"
   ]
  },
  {
   "cell_type": "markdown",
   "metadata": {},
   "source": [
    "语法：\n",
    "- `while` 后面是一个判断条件，结尾是一个冒号。\n",
    "- 如果判断条件成立，就执行下面缩进的代码。\n",
    "- 否则就跳出循环，执行循环后面的代码。\n",
    "\n",
    "循环中执行的代码，一定要去改变循环的判断条件，比如让变量 `i` 不断的变大，这样整个循环最终才能停止，不会永久循环下去。\n",
    "\n",
    "变量 `i` 在循环开始之前的值是 `i`，在循环中每次都会用 `i = i + 1 `重新赋值，也就是说变量是可以改变的 :)。\n",
    "\n",
    "循环中我们用 `print` 把每次循环的 i 显示出来。\n",
    "\n",
    "可以看到 `i` 在不断的变化，直到等于 11 的时候，因为循环判断条件 `i <= 10` 不成立，所以 11 没有显示出来，这时候我们在循环后面显示 `i` 会发现它已经是 11 了。"
   ]
  },
  {
   "cell_type": "code",
   "execution_count": 25,
   "metadata": {},
   "outputs": [
    {
     "name": "stdout",
     "output_type": "stream",
     "text": [
      "11\n"
     ]
    }
   ],
   "source": [
    "print(i)"
   ]
  },
  {
   "cell_type": "markdown",
   "metadata": {},
   "source": [
    "### 10000 以内能被 3 或 2 整除的数加起来是多少？"
   ]
  },
  {
   "cell_type": "markdown",
   "metadata": {},
   "source": [
    "提问：最开始提出的问题，现在学的知识可以实现它吗？\n",
    "\n",
    "回答：基本上可以了，我们看下如何把所学的知识组合起来完成这个大的目标。\n",
    "\n",
    "我们先看如何把 1 - 10 的所有数字求和，定义一个 `total` 变量里，循环里每次都加上 `i`，循环结束后把它打印出来，这看起来和前面的代码结构差不多，知识多加了个变量。"
   ]
  },
  {
   "cell_type": "code",
   "execution_count": 26,
   "metadata": {},
   "outputs": [
    {
     "name": "stdout",
     "output_type": "stream",
     "text": [
      "55\n"
     ]
    }
   ],
   "source": [
    "total = 0\n",
    "i = 1\n",
    "while i <= 10:\n",
    "    total = total + i\n",
    "    i = i + 1\n",
    "print(total)"
   ]
  },
  {
   "cell_type": "markdown",
   "metadata": {},
   "source": [
    "再过滤一下，只把能被 3 整除的数加起来，也就是除以 3 后余数为 0 的数。"
   ]
  },
  {
   "cell_type": "code",
   "execution_count": 27,
   "metadata": {},
   "outputs": [
    {
     "name": "stdout",
     "output_type": "stream",
     "text": [
      "42\n"
     ]
    }
   ],
   "source": [
    "total = 0\n",
    "i = 1\n",
    "while i <= 10:\n",
    "    if i % 3 == 0 or i % 2 == 0:\n",
    "        total = total + i\n",
    "    i = i + 1\n",
    "print(total)"
   ]
  },
  {
   "cell_type": "markdown",
   "metadata": {},
   "source": [
    "注意上面的代码有两级缩进，`while` 包含的代码有一层缩进，`if` 包含的代码也有一层缩进。\n",
    "\n",
    "记着，不要把修改循环条件的 `i = i + 1` 写带 `if` 的缩进里去，因为它不管 `if` 的条件成立还是不成立，都需要执行。好在缩进在视觉上看是很直观的，我们很容易看到 `i = i + 1` 属于 `while` 而不属于 `if`。\n",
    "\n",
    "好了，写代码计算一下 10000 以内能被 3 整除的数加起来是多少吧，算出结果记得告诉我哦。"
   ]
  },
  {
   "cell_type": "markdown",
   "metadata": {},
   "source": [
    "## 调试代码"
   ]
  },
  {
   "cell_type": "markdown",
   "metadata": {},
   "source": [
    "提问：像上面复杂的代码，我怎么能看到它具体的执行过程呢？\n",
    "\n",
    "回答：我们可以用 `print` 在循环里输出一些过程细节进行调试。"
   ]
  },
  {
   "cell_type": "code",
   "execution_count": 28,
   "metadata": {},
   "outputs": [
    {
     "name": "stdout",
     "output_type": "stream",
     "text": [
      "i= 1 , total= 0 , i % 2= 1\n",
      "i= 2 , total= 0 , i % 2= 0\n",
      "i= 3 , total= 2 , i % 2= 1\n",
      "i= 4 , total= 2 , i % 2= 0\n",
      "i= 5 , total= 6 , i % 2= 1\n",
      "i= 6 , total= 6 , i % 2= 0\n",
      "i= 7 , total= 12 , i % 2= 1\n",
      "i= 8 , total= 12 , i % 2= 0\n",
      "i= 9 , total= 20 , i % 2= 1\n",
      "i= 10 , total= 20 , i % 2= 0\n",
      "total= 30\n"
     ]
    }
   ],
   "source": [
    "total = 0\n",
    "i = 1\n",
    "while i <= 10:\n",
    "    print('i=',i, ', total=',total, ', i % 2=', i % 2)\n",
    "    if i % 2 == 0:\n",
    "        total = total + i\n",
    "    i = i + 1\n",
    "print('total=', total)"
   ]
  },
  {
   "cell_type": "markdown",
   "metadata": {},
   "source": [
    "这样我们可以看到循环的每一步里每个变量和表达式的值，便于我们理解整个计算过程，以及定位 Bug。\n",
    "\n",
    "在循环中根据条件过滤一些数据是编程的一个非常重要的功能，反正计算机执行速度快，只要我们写好判断条件，设置好循环的起止范围就可以让计算机帮我们干活了。\n",
    "\n",
    "掌握了循环就可以解决很多实际的问题，比如穷举法解方程，求圆周率，开根号，计算质数，解多元线性规划问题等，你可以尝试一下了。"
   ]
  },
  {
   "cell_type": "markdown",
   "metadata": {},
   "source": [
    "## 给操作起个名字"
   ]
  },
  {
   "cell_type": "markdown",
   "metadata": {},
   "source": [
    "提问：在一个程序中，我们可能会多次求圆的面积，但我们每次都得把圆的面积公式复制一遍吗？\n",
    "\n",
    "回答：我们可以定义一个操作名字叫做 `circular_area`，给它传入一个半径，它就给我一个圆的面积。\n",
    "\n",
    "这就需要用到函数，看如下代码。"
   ]
  },
  {
   "cell_type": "code",
   "execution_count": 29,
   "metadata": {},
   "outputs": [
    {
     "data": {
      "text/plain": [
       "78.5"
      ]
     },
     "execution_count": 29,
     "metadata": {},
     "output_type": "execute_result"
    }
   ],
   "source": [
    "def circular_area(r):\n",
    "    pi = 3.14\n",
    "    return pi * r * r\n",
    "circular_area(5)"
   ]
  },
  {
   "cell_type": "markdown",
   "metadata": {},
   "source": [
    "**语法**\n",
    "- `def` 用来**定义函数**，后面紧跟着是函数的名字`circular_area`，在后面是一对圆括号`()`，括号里是要传入的数据，它叫做参数，类似一个变量，结尾是一个冒号`:`。\n",
    "- 冒号下面缩进的代码就是函数要执行的逻辑，`return` 可以让函数返回一个值给使用者。\n",
    "- 使用一个函数的过程叫做**调用函数**，第 4 行代码直接用函数名加括号就可以完成，括号里要传入参数的真实值，相当于给参数赋值。"
   ]
  },
  {
   "cell_type": "markdown",
   "metadata": {},
   "source": [
    "这里我们学到了如何定义函数和调用一个函数，其实前面我们用过的 `print` 也是一个函数，只不过它是编程语言自带的函数。在我们想实现一个功能的时候我们可以先找一下有没有别人写好的函数可以直接使用，这样可以节省很多时间，提高编程的效率。"
   ]
  },
  {
   "cell_type": "markdown",
   "metadata": {},
   "source": [
    "## 总结"
   ]
  },
  {
   "cell_type": "markdown",
   "metadata": {},
   "source": [
    "总结一下我们学习的内容，编程的本质就是操作一些数据，写复杂的程序要用到组合和抽象两个编程工具。\n",
    "- 我们学过的数据类型：\n",
    "    - 数字类型：表示数学中的数字，我们只学习了整数，编程中还可以使用小数，负数，复数等。\n",
    "    - 布尔类型：表示一个条件的真，假，它只有两个值 `True` 和 `False`\n",
    "    - 字符串类型：用来显示一段文字，语法上就是引号括起来的一段文字\n",
    "- 我们学过的操作：\n",
    "    - 数学运算：加减乘除等\n",
    "    - 条件运算：大于，小于，等于，不等于等\n",
    "    - 逻辑运算：与 `and`，或 `or`，非 `not`\n",
    "- 我们学过的组合：\n",
    "    - 表达式：简单表达式就一个值，复杂的表达式可以包含多个操作符，它的求值过程要注意优先级和顺序。\n",
    "    - 顺序结构语句：我们可以写多行的代码，代码会从上向下依次执行，从而实现复杂逻辑。\n",
    "    - 分支结构语句：我们可以用 `if else` 语句根据一个判断条件决定是否执行某段代码。\n",
    "    - 循环结构语句：我们可以用 `while` 语句让一段代码在满足一个条件的情况下一直执行。\n",
    "- 我们学过的抽象：\n",
    "    - 变量：给一个数据起一个名字，以后可以用这个名字来代替具体的数字，变量可以多次赋值来改变值。\n",
    "    - 函数：给一段操作逻辑起一个名字，它可以接受一些输入，并且返回一个值，调用函数值需要传入参数就可以得到操作结果。"
   ]
  }
 ],
 "metadata": {
  "kernelspec": {
   "display_name": "Python 3",
   "language": "python",
   "name": "python3"
  },
  "language_info": {
   "codemirror_mode": {
    "name": "ipython",
    "version": 3
   },
   "file_extension": ".py",
   "mimetype": "text/x-python",
   "name": "python",
   "nbconvert_exporter": "python",
   "pygments_lexer": "ipython3",
   "version": "3.6.9"
  }
 },
 "nbformat": 4,
 "nbformat_minor": 2
}
