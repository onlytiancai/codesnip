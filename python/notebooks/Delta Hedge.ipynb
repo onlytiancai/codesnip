{
 "cells": [
  {
   "cell_type": "code",
   "execution_count": 94,
   "id": "09b0749d",
   "metadata": {},
   "outputs": [
    {
     "data": {
      "text/html": [
       "<div>\n",
       "<style scoped>\n",
       "    .dataframe tbody tr th:only-of-type {\n",
       "        vertical-align: middle;\n",
       "    }\n",
       "\n",
       "    .dataframe tbody tr th {\n",
       "        vertical-align: top;\n",
       "    }\n",
       "\n",
       "    .dataframe thead th {\n",
       "        text-align: right;\n",
       "    }\n",
       "</style>\n",
       "<table border=\"1\" class=\"dataframe\">\n",
       "  <thead>\n",
       "    <tr style=\"text-align: right;\">\n",
       "      <th></th>\n",
       "      <th>type</th>\n",
       "      <th>code</th>\n",
       "      <th>price</th>\n",
       "      <th>delta</th>\n",
       "      <th>gamma</th>\n",
       "      <th>vega</th>\n",
       "      <th>theta</th>\n",
       "    </tr>\n",
       "  </thead>\n",
       "  <tbody>\n",
       "    <tr>\n",
       "      <th>0</th>\n",
       "      <td>stock</td>\n",
       "      <td>0700</td>\n",
       "      <td>472.00</td>\n",
       "      <td>1.000</td>\n",
       "      <td>0.000</td>\n",
       "      <td>0.000</td>\n",
       "      <td>0.000</td>\n",
       "    </tr>\n",
       "    <tr>\n",
       "      <th>1</th>\n",
       "      <td>call_option</td>\n",
       "      <td>TCH220225C500000</td>\n",
       "      <td>8.22</td>\n",
       "      <td>0.293</td>\n",
       "      <td>0.007</td>\n",
       "      <td>0.410</td>\n",
       "      <td>-0.343</td>\n",
       "    </tr>\n",
       "    <tr>\n",
       "      <th>2</th>\n",
       "      <td>call_option</td>\n",
       "      <td>TCH220225C510000</td>\n",
       "      <td>6.06</td>\n",
       "      <td>0.229</td>\n",
       "      <td>0.006</td>\n",
       "      <td>0.360</td>\n",
       "      <td>-0.305</td>\n",
       "    </tr>\n",
       "    <tr>\n",
       "      <th>3</th>\n",
       "      <td>call_option</td>\n",
       "      <td>TCH220225C520000</td>\n",
       "      <td>4.45</td>\n",
       "      <td>0.176</td>\n",
       "      <td>0.005</td>\n",
       "      <td>0.308</td>\n",
       "      <td>-0.261</td>\n",
       "    </tr>\n",
       "  </tbody>\n",
       "</table>\n",
       "</div>"
      ],
      "text/plain": [
       "          type              code   price  delta  gamma   vega  theta\n",
       "0        stock              0700  472.00  1.000  0.000  0.000  0.000\n",
       "1  call_option  TCH220225C500000    8.22  0.293  0.007  0.410 -0.343\n",
       "2  call_option  TCH220225C510000    6.06  0.229  0.006  0.360 -0.305\n",
       "3  call_option  TCH220225C520000    4.45  0.176  0.005  0.308 -0.261"
      ]
     },
     "execution_count": 94,
     "metadata": {},
     "output_type": "execute_result"
    }
   ],
   "source": [
    "import numpy as np\n",
    "import pandas as pd\n",
    "from collections import namedtuple\n",
    "Portfolio = namedtuple('Portfolio', 'type code price delta gamma vega theta')\n",
    "w1 = -1000\n",
    "stock = Portfolio('stock', '0700', 472, 1, 0, 0, 0)\n",
    "option1 = Portfolio('call_option', 'TCH220225C500000', 8.220, 0.293, 0.007, 0.410, -0.343)\n",
    "option2 = Portfolio('call_option', 'TCH220225C510000', 6.060, 0.229, 0.006, 0.360, -0.305)\n",
    "option3 = Portfolio('call_option', 'TCH220225C520000', 4.450, 0.176, 0.005, 0.308, -0.261)\n",
    "pd.DataFrame([stock, option1, option2, option3])"
   ]
  },
  {
   "cell_type": "code",
   "execution_count": 95,
   "id": "770884ad",
   "metadata": {},
   "outputs": [
    {
     "name": "stdout",
     "output_type": "stream",
     "text": [
      "w2=700, w3=509\n"
     ]
    }
   ],
   "source": [
    "# greek neutralization -- gamma and vega\n",
    "greeks = np.array([[option2.gamma, option3.gamma], [option2.vega, option3.vega]])\n",
    "portfolio_greeks = [[option1.gamma * abs(w1)], [option1.vega * abs(w1)]]\n",
    "inv = np.linalg.inv(np.round(greeks, 2))  # We need to round otherwise we can end up with a non-invertible matrix\n",
    "# position on option 2 and 3 to be gamma and vega neutral\n",
    "w = np.dot(inv, portfolio_greeks)\n",
    "w2, w3 = int(w[0][0]), int(w[1][0])\n",
    "print('w2=%s, w3=%s' % (w2,w3))"
   ]
  },
  {
   "cell_type": "code",
   "execution_count": 96,
   "id": "15698823",
   "metadata": {},
   "outputs": [
    {
     "name": "stdout",
     "output_type": "stream",
     "text": [
      "ws=-40.0\n"
     ]
    }
   ],
   "source": [
    "# Greeks including delta\n",
    "portfolio_greeks = [[option1.delta * w1], [option1.gamma * w1], [option1.vega * w1]]\n",
    "greeks = np.array([[option2.delta, option3.delta], [option2.gamma, option3.gamma], [option2.vega, option3.vega]])\n",
    "ws = (np.round(np.dot(np.round(greeks, 2), w) + portfolio_greeks))[0][0]\n",
    "print('ws=%s' % ws)"
   ]
  },
  {
   "cell_type": "code",
   "execution_count": 99,
   "id": "e6b4f26e",
   "metadata": {},
   "outputs": [
    {
     "name": "stdout",
     "output_type": "stream",
     "text": [
      "Final asset allocation: option1: -1000, option2: 700, option3: 509, underlying asset: -40.0\n",
      "price option1: -8220.00, option2: 4242.00, option3: 2265.05, stock: -18880.00\n",
      "total price: -20592.95\n",
      "origin delta: -293.00, gamma: -7.00, vega: -410.00, theta: 343.00\n",
      "target delta: -3.12, gamma: -0, vega: -1.23, theta: -3.35\n"
     ]
    }
   ],
   "source": [
    "print('Final asset allocation: option1: {}, option2: {}, option3: {}, underlying asset: {}'.format(w1,w2,w3,ws))\n",
    "price = w1*option1.price, w2*option2.price, w3*option3.price, ws*stock.price\n",
    "print('price option1: %.2f, option2: %.2f, option3: %.2f, stock: %.2f' %  price)\n",
    "print('total price:', sum(price))\n",
    "print('origin delta: %.2f, gamma: %.2f, vega: %.2f, theta: %.2f' %(w1*option1.delta, w1*option1.gamma, w1*option1.vega, w1*option1.theta))\n",
    "print('target delta: %.2f, gamma: %2.f, vega: %.2f, theta: %.2f' % (\n",
    "    w1*option1.delta+w2*option2.delta+w3*option3.delta-ws*stock.delta, w1*option1.gamma+w2*option2.gamma+w3*option3.gamma-ws*stock.gamma,\n",
    "    w1*option1.vega+w2*option2.vega+w3*option3.vega-ws*stock.vega, w1*option1.theta+w2*option2.theta+w3*option3.theta-ws*stock.theta\n",
    "))"
   ]
  },
  {
   "cell_type": "code",
   "execution_count": 48,
   "id": "c9c9cec6",
   "metadata": {},
   "outputs": [
    {
     "data": {
      "text/plain": [
       "([[1, 2], [3, 4]],\n",
       " array([[-2. ,  1. ],\n",
       "        [ 1.5, -0.5]]),\n",
       " array([[1., 0.],\n",
       "        [0., 1.]]))"
      ]
     },
     "execution_count": 48,
     "metadata": {},
     "output_type": "execute_result"
    }
   ],
   "source": [
    "a = [[1, 2], [3, 4]]             # 原始矩阵\n",
    "inv = np.linalg.inv(a)           # 求逆矩阵\n",
    "identity = np.dot(inv, a)        # 验证逆矩阵，预期得到单位矩阵\n",
    "a, inv, np.round(identity, 2)"
   ]
  },
  {
   "cell_type": "code",
   "execution_count": 49,
   "id": "e7a1dc60",
   "metadata": {},
   "outputs": [
    {
     "data": {
      "text/plain": [
       "(array([[-4. ],\n",
       "        [ 4.5]]),\n",
       " array([[0.],\n",
       "        [0.]]))"
      ]
     },
     "execution_count": 49,
     "metadata": {},
     "output_type": "execute_result"
    }
   ],
   "source": [
    "b = [[5],[6]]       # 目标矩阵\n",
    "w = np.dot(inv, b)  # 用逆矩阵得到权重\n",
    "w, np.dot(a,w)-b    # 验证权重，预期得到零矩阵"
   ]
  },
  {
   "cell_type": "code",
   "execution_count": 51,
   "id": "8efd17b5",
   "metadata": {},
   "outputs": [
    {
     "data": {
      "text/plain": [
       "(array([[8.5],\n",
       "        [5. ],\n",
       "        [6. ]]),\n",
       " array([[1.5],\n",
       "        [0. ],\n",
       "        [0. ]]))"
      ]
     },
     "execution_count": 51,
     "metadata": {},
     "output_type": "execute_result"
    }
   ],
   "source": [
    "c = [[-7],[-5],[-6]]\n",
    "d = [[8, 9],[1, 2],[3, 4]]\n",
    "e = np.dot(d, w)\n",
    "e, e+c"
   ]
  },
  {
   "cell_type": "code",
   "execution_count": 52,
   "id": "21d1875b",
   "metadata": {},
   "outputs": [
    {
     "data": {
      "text/plain": [
       "(-4.0, 4.5, 1.5)"
      ]
     },
     "execution_count": 52,
     "metadata": {},
     "output_type": "execute_result"
    }
   ],
   "source": [
    "w1 = w[0][0]\n",
    "w2 = w[1][0]\n",
    "w3 = (e+c)[0][0]\n",
    "w1, w2, w3"
   ]
  },
  {
   "cell_type": "code",
   "execution_count": 56,
   "id": "acaa6cd8",
   "metadata": {},
   "outputs": [
    {
     "data": {
      "text/plain": [
       "array([0.])"
      ]
     },
     "execution_count": 56,
     "metadata": {},
     "output_type": "execute_result"
    }
   ],
   "source": [
    "w1*d[1][0]+w2*d[1][1]+c[1]"
   ]
  },
  {
   "cell_type": "code",
   "execution_count": 57,
   "id": "e951f92e",
   "metadata": {},
   "outputs": [
    {
     "data": {
      "text/plain": [
       "array([0.])"
      ]
     },
     "execution_count": 57,
     "metadata": {},
     "output_type": "execute_result"
    }
   ],
   "source": [
    "w1*d[2][0]+w2*d[2][1]+c[2]"
   ]
  },
  {
   "cell_type": "code",
   "execution_count": 64,
   "id": "10221576",
   "metadata": {},
   "outputs": [
    {
     "data": {
      "text/plain": [
       "array([0.])"
      ]
     },
     "execution_count": 64,
     "metadata": {},
     "output_type": "execute_result"
    }
   ],
   "source": [
    "w1*d[0][0]+w2*d[0][1]+c[0]-[w3]"
   ]
  },
  {
   "cell_type": "code",
   "execution_count": null,
   "id": "c3df39c5",
   "metadata": {},
   "outputs": [],
   "source": []
  }
 ],
 "metadata": {
  "kernelspec": {
   "display_name": "Python 3 (ipykernel)",
   "language": "python",
   "name": "python3"
  },
  "language_info": {
   "codemirror_mode": {
    "name": "ipython",
    "version": 3
   },
   "file_extension": ".py",
   "mimetype": "text/x-python",
   "name": "python",
   "nbconvert_exporter": "python",
   "pygments_lexer": "ipython3",
   "version": "3.8.10"
  }
 },
 "nbformat": 4,
 "nbformat_minor": 5
}
