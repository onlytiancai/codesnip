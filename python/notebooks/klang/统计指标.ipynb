{
 "cells": [
  {
   "cell_type": "markdown",
   "metadata": {},
   "source": [
    "## 一、离散性测度\n",
    "https://zhuanlan.zhihu.com/p/344919136"
   ]
  },
  {
   "cell_type": "code",
   "execution_count": 1,
   "metadata": {},
   "outputs": [],
   "source": [
    "import numpy as np\n",
    "from scipy import stats\n",
    "import matplotlib.pyplot as plt\n",
    "data = np.array([2038, 1758, 1721, 1637, 2097, 2047, 2205, 1787,\n",
    "                 2287, 1940, 2311, 2054, 2406, 1471, 1460])"
   ]
  },
  {
   "cell_type": "markdown",
   "metadata": {},
   "source": [
    "### 极差\n",
    "极差的概念很容易理解，一个样本中最大与最小观测值之间的差异称为极差（range）。"
   ]
  },
  {
   "cell_type": "code",
   "execution_count": 2,
   "metadata": {},
   "outputs": [],
   "source": [
    "def range_value(data):\n",
    "    \"\"\"\n",
    "    Compute range of data\n",
    "    :param data: array_like data\n",
    "    :return: range\n",
    "    \"\"\"\n",
    "    return max(data) - min(data)"
   ]
  },
  {
   "cell_type": "code",
   "execution_count": 3,
   "metadata": {},
   "outputs": [
    {
     "data": {
      "text/plain": [
       "946"
      ]
     },
     "execution_count": 3,
     "metadata": {},
     "output_type": "execute_result"
    }
   ],
   "source": [
    "range_value(data)"
   ]
  },
  {
   "cell_type": "markdown",
   "metadata": {},
   "source": [
    "### 平均离差\n",
    "平均离差就是样本中全部数值与它们均值变动的平均数量来度量离散程度。"
   ]
  },
  {
   "cell_type": "code",
   "execution_count": 4,
   "metadata": {},
   "outputs": [],
   "source": [
    "def mean_deviation(data):\n",
    "    \"\"\"\n",
    "    Compute the mean of deviation\n",
    "    :param data: array_like\n",
    "    :return: mean deviation\n",
    "    \"\"\"\n",
    "    s = 0.0\n",
    "    m = np.mean(data)\n",
    "    for v in data:\n",
    "        s += abs(v - m)\n",
    "    return s / len(data)"
   ]
  },
  {
   "cell_type": "code",
   "execution_count": 5,
   "metadata": {},
   "outputs": [
    {
     "data": {
      "text/plain": [
       "248.20444444444445"
      ]
     },
     "execution_count": 5,
     "metadata": {},
     "output_type": "execute_result"
    }
   ],
   "source": [
    "mean_deviation(data)"
   ]
  },
  {
   "cell_type": "markdown",
   "metadata": {},
   "source": [
    "### 分位数\n",
    "分位数也叫百分位数，最常使用的有四分位数（25，50，75），五分位数（20，40，60，80）和百分位数（10，20，30，...，90）。以下以四分位数为例，其他分位数也是同理。"
   ]
  },
  {
   "cell_type": "code",
   "execution_count": 6,
   "metadata": {},
   "outputs": [
    {
     "data": {
      "text/plain": [
       "array([1739.5, 2038.0, 2151.0])"
      ]
     },
     "execution_count": 6,
     "metadata": {},
     "output_type": "execute_result"
    }
   ],
   "source": [
    "np.percentile(data, [25, 50, 75])"
   ]
  },
  {
   "cell_type": "markdown",
   "metadata": {},
   "source": [
    "### 方差和标准差\n",
    "\n",
    "这两个测度标准是日常统计中应用非常广泛而且频繁的指标之一。\n",
    "\n",
    "平均离差由于存在一些不足，比如绝对值处理问题、当数据分布呈钟形时，它的分散性特征不是特别理想。所以正常情况下，我们都会运用方差和标准差。\n",
    "\n",
    "我们主要应用样本方差和样本标准差，样本跟总体区别在于样本分母少一个1，也就是少了一个自由度。"
   ]
  },
  {
   "cell_type": "code",
   "execution_count": 7,
   "metadata": {},
   "outputs": [],
   "source": [
    "def std(data):\n",
    "    \"\"\"\n",
    "    Compute standard deviation of sample\n",
    "    :param data: array_like data\n",
    "    :return: standard deviation of sample\n",
    "    \"\"\"\n",
    "    return np.std(data, ddof=1)"
   ]
  },
  {
   "cell_type": "code",
   "execution_count": 8,
   "metadata": {},
   "outputs": [
    {
     "data": {
      "text/plain": [
       "298.78909586784425"
      ]
     },
     "execution_count": 8,
     "metadata": {},
     "output_type": "execute_result"
    }
   ],
   "source": [
    "std(data)"
   ]
  },
  {
   "cell_type": "markdown",
   "metadata": {},
   "source": [
    "代码中用到了np.std()函数来计算，注意它的第二个参数ddof是自由度，把它设置为默认等于1，这样计算的就是样本方差，如果不设置自由度的话，np.std()函数计算的是总体标准差。\n",
    "\n",
    "大约有68%的数据在均值的一个标准差范围内，大约有95%的数据在均值的两个标准差范围内，大约有99%的数据在均值的三个标准差范围内。"
   ]
  },
  {
   "cell_type": "markdown",
   "metadata": {},
   "source": [
    "### 变异系数\n",
    "\n",
    "方差的量纲是原数据量纲的平方，标准差的量纲跟原数据的量纲是一样的，这就是为什么标准差运用得比方差更广泛。但是，在不同量纲的数据之间做比较时，标准差就不能使用了，因为单位都不一样，不用简单作比较。"
   ]
  },
  {
   "cell_type": "code",
   "execution_count": 9,
   "metadata": {},
   "outputs": [],
   "source": [
    "cv = lambda x: np.std(x, ddof=1) / np.mean(x) * 100"
   ]
  },
  {
   "cell_type": "code",
   "execution_count": 10,
   "metadata": {},
   "outputs": [
    {
     "data": {
      "text/plain": [
       "15.338774215468234"
      ]
     },
     "execution_count": 10,
     "metadata": {},
     "output_type": "execute_result"
    }
   ],
   "source": [
    "cv(data)"
   ]
  },
  {
   "cell_type": "markdown",
   "metadata": {},
   "source": [
    "## 二、位置测度\n",
    "https://zhuanlan.zhihu.com/p/344780317"
   ]
  },
  {
   "cell_type": "markdown",
   "metadata": {},
   "source": [
    "### 样本均值（算术平均数）"
   ]
  },
  {
   "cell_type": "code",
   "execution_count": 11,
   "metadata": {},
   "outputs": [],
   "source": [
    "def mean(data):\n",
    "    \"\"\"\n",
    "    performance average\n",
    "    :param data: array_like contain data\n",
    "    :return: mean of data\n",
    "    \"\"\"\n",
    "    return np.mean(data)"
   ]
  },
  {
   "cell_type": "code",
   "execution_count": 12,
   "metadata": {},
   "outputs": [
    {
     "data": {
      "text/plain": [
       "1947.9333333333334"
      ]
     },
     "execution_count": 12,
     "metadata": {},
     "output_type": "execute_result"
    }
   ],
   "source": [
    "mean(data)"
   ]
  },
  {
   "cell_type": "markdown",
   "metadata": {},
   "source": [
    "### 加权平均数\n",
    "加权平均数是算术平均数的一种特殊情形。当有几个相同数值的观测值时，算术平均数就会变成加权平均数。"
   ]
  },
  {
   "cell_type": "code",
   "execution_count": 13,
   "metadata": {},
   "outputs": [],
   "source": [
    "def weight_mean(data, weight):\n",
    "    \"\"\"\n",
    "    compute the weighted arithmetic mean\n",
    "    :param data: array_like data\n",
    "    :param weight: array_like weight\n",
    "    :return: weighted arithmetic mean\n",
    "    \"\"\"\n",
    "    return np.dot(data, weight) / np.sum(weight)"
   ]
  },
  {
   "cell_type": "code",
   "execution_count": 14,
   "metadata": {},
   "outputs": [
    {
     "data": {
      "text/plain": [
       "12.0"
      ]
     },
     "execution_count": 14,
     "metadata": {},
     "output_type": "execute_result"
    }
   ],
   "source": [
    "data2 = [9, 12, 15]\n",
    "weight2 = [3, 4, 3]\n",
    "weight_mean(data2, weight2)"
   ]
  },
  {
   "cell_type": "markdown",
   "metadata": {},
   "source": [
    "### 中位数\n",
    "将一组数据从最小到最大、或者从最大到最小排序以后，位于中点的数值。"
   ]
  },
  {
   "cell_type": "code",
   "execution_count": 15,
   "metadata": {},
   "outputs": [],
   "source": [
    "def median(data):\n",
    "    \"\"\"\n",
    "    find the median number from data\n",
    "    :param data: array_like data\n",
    "    :return: median\n",
    "    \"\"\"\n",
    "    return np.median(data)"
   ]
  },
  {
   "cell_type": "code",
   "execution_count": 16,
   "metadata": {},
   "outputs": [
    {
     "data": {
      "text/plain": [
       "2038.0"
      ]
     },
     "execution_count": 16,
     "metadata": {},
     "output_type": "execute_result"
    }
   ],
   "source": [
    "median(data)"
   ]
  },
  {
   "cell_type": "markdown",
   "metadata": {},
   "source": [
    "### 众数\n",
    "\n",
    "在一个样本的所有观察值中，发生频率最大的一个值称为样本的众数。通俗的说就是出现次数最多的那个数。"
   ]
  },
  {
   "cell_type": "code",
   "execution_count": 17,
   "metadata": {},
   "outputs": [],
   "source": [
    "def mode(data):\n",
    "    \"\"\"\n",
    "    Compute mode\n",
    "    :param data: array_like data\n",
    "    :return: mode number\n",
    "    \"\"\"\n",
    "    m, cnt = stats.mode(data)\n",
    "    print(\"mode:\", m, \", counts:\", cnt)"
   ]
  },
  {
   "cell_type": "code",
   "execution_count": 18,
   "metadata": {},
   "outputs": [
    {
     "name": "stdout",
     "output_type": "stream",
     "text": [
      "mode: [8] , counts: [14]\n"
     ]
    }
   ],
   "source": [
    "data3 = [7, 35, 35, 5, 5, 5, 9, 9, 9, 9, 8, 8, 8, 8, 8,\n",
    "        3, 3, 3, 3, 3, 3, 10, 10, 10, 10, 10, 10, 10,\n",
    "        12, 12, 12, 12, 12, 12, 12, 12, 8, 8, 8, 8, 8,\n",
    "        8, 8, 8, 8]\n",
    "mode(data3)"
   ]
  },
  {
   "cell_type": "markdown",
   "metadata": {},
   "source": [
    "求得众数是8，频率是14。\n",
    "\n",
    "另外，如果每个数值都不一样，那么就不存在众数；而有时候有可能会出现2个众数，称为双峰分布；而有时候会出现三个众数，称为三峰分布。"
   ]
  },
  {
   "cell_type": "markdown",
   "metadata": {},
   "source": [
    "### 几何平均\n",
    "几何平均数在商业、工业、金融当中应用非常广泛，特别是涉及到随时间推移的平均变动时，几何平均数就派上用场。比如计算营业额增长率、复利、GDP等。\n",
    "\n",
    "某上市公司连续4年的投资回报率分别为：30%、20%、-40%、200%，则该公司这4年的平均投资回报率是多少？\n",
    "\n",
    "对于这种包含有时间推移的平均值求值，应该用几何平均数。因为数据里面包含有负数，无法进行开方。我们需要对公式进行简单的调整，每个数值加上1使其为正，然后总数再减去1，本题这里的1代表初始投资，1.3就是初始投资1加上回报0.3，以此类推："
   ]
  },
  {
   "cell_type": "code",
   "execution_count": 19,
   "metadata": {},
   "outputs": [],
   "source": [
    "def geom_mean(data):\n",
    "    \"\"\"\n",
    "    Compute geometric mean\n",
    "    :param data: array_like data\n",
    "    :return: geometric mean\n",
    "    \"\"\"\n",
    "    return stats.gmean(data)"
   ]
  },
  {
   "cell_type": "code",
   "execution_count": 20,
   "metadata": {},
   "outputs": [
    {
     "data": {
      "text/plain": [
       "0.29449171695004406"
      ]
     },
     "execution_count": 20,
     "metadata": {},
     "output_type": "execute_result"
    }
   ],
   "source": [
    "data4 = np.array([1.3, 1.2, 0.6, 3])\n",
    "geom_mean(data4) - 1"
   ]
  },
  {
   "cell_type": "markdown",
   "metadata": {},
   "source": [
    "### 调和平均：\n",
    "\n",
    "调和平均数仅适合于有限数量的应用情形，比如计算股票的平均成本等。它是对于观测值的倒数进行求和后再求平均，最后将平均值求倒数后得到。\n",
    "\n",
    "调和平均数可以看作是一种特殊形式的加权平均数，其观测值的权重与其大小成反比。"
   ]
  },
  {
   "cell_type": "code",
   "execution_count": 21,
   "metadata": {},
   "outputs": [],
   "source": [
    "def harm_mean(data):\n",
    "    \"\"\"\n",
    "    Compute harmonic mean\n",
    "    :param data: array_like data\n",
    "    :return: harmonic mean\n",
    "    \"\"\"\n",
    "    return stats.hmean(data)"
   ]
  },
  {
   "cell_type": "markdown",
   "metadata": {},
   "source": [
    "有一种投资策略，即成本平均。假设一名投资者每个月定投1000欧元的股票，连续投了8个月，该股票在每个购买时点的价格分别是：10欧元、15欧元、20欧元、15欧元、18欧元、20欧元、29欧元、30欧元。求定投该股票的平均价格是多少？"
   ]
  },
  {
   "cell_type": "code",
   "execution_count": 22,
   "metadata": {},
   "outputs": [
    {
     "data": {
      "text/plain": [
       "17.516778523489933"
      ]
     },
     "execution_count": 22,
     "metadata": {},
     "output_type": "execute_result"
    }
   ],
   "source": [
    "data5 = np.array([10, 15, 20, 15, 18, 20, 29, 30])\n",
    "harm_mean(data5)"
   ]
  },
  {
   "cell_type": "markdown",
   "metadata": {},
   "source": [
    "## 三、切比雪夫、偏度及峰度\n",
    "https://zhuanlan.zhihu.com/p/346810231"
   ]
  },
  {
   "cell_type": "markdown",
   "metadata": {},
   "source": [
    "### 切比雪夫定理\n",
    "\n",
    "对于任意一组观察值（样本或总体），分布在均值 正负k 倍标准差范围内的值的比例至少为 1-1/k^2 ，其中  k 是任意一个大于1的值。切比雪夫定理给的是一个下限，注意定义中的“至少”。\n",
    "\n",
    "杜普雷油漆公司的雇员投资于该公司的月度投资额的算术平均值是51.54美元，标准差是7.51美元。请问至少有多大比例的投资额分布在均值正负3.5倍标准差之间？"
   ]
  },
  {
   "cell_type": "code",
   "execution_count": 23,
   "metadata": {},
   "outputs": [
    {
     "data": {
      "text/plain": [
       "0.9183673469387755"
      ]
     },
     "execution_count": 23,
     "metadata": {},
     "output_type": "execute_result"
    }
   ],
   "source": [
    "k=3.5\n",
    "1-1/(k*k)"
   ]
  },
  {
   "cell_type": "markdown",
   "metadata": {},
   "source": [
    "投资额在正负3.5个标准差之间的比例至少为91.84%。\n",
    "\n",
    "当得知样本观察值呈正态分布时，可以用前面的正态经验法则来评估数据大约有多大比例集中在什么范围内；当然，如果不清楚数据分布情况，或者数据分布不是正态分布，那么我们可以利用切比雪夫定理来做评估。"
   ]
  },
  {
   "cell_type": "markdown",
   "metadata": {},
   "source": [
    "### 偏度（skewness）\n",
    "\n",
    "一个分布如果不对称，则被称为偏度。分布有对称、正偏（右偏）、负偏（左偏）。正偏的分布表现出右侧长尾，负偏的分布具有左侧长尾。正偏的单峰分布，其众数要小于中位数，而中位数又小于均值；负偏的单峰分布刚好相反。"
   ]
  },
  {
   "cell_type": "markdown",
   "metadata": {},
   "source": [
    "### 对称\n",
    "对称分布的偏度时0，因为它是左右对称的。"
   ]
  },
  {
   "cell_type": "code",
   "execution_count": 24,
   "metadata": {},
   "outputs": [],
   "source": [
    "def std_plot():\n",
    "    \"\"\"\n",
    "    draw standard deviation normal distribution\n",
    "    \"\"\"\n",
    "    mu = 0.0    # mean\n",
    "    sd = 1.0    # std\n",
    "    x = np.linspace(mu - 4 * sd, mu + 4 * sd, 50) # x range\n",
    "    y = stats.norm.pdf(x)\n",
    "    plt.plot(x, y, \"r\", linewidth = 2)\n",
    "    plt.grid(True)  # 显示网格线\n",
    "    plt.show()"
   ]
  },
  {
   "cell_type": "code",
   "execution_count": 25,
   "metadata": {},
   "outputs": [
    {
     "data": {
      "image/png": "[encoded data removed]",
      "text/plain": [
       "<Figure size 432x288 with 1 Axes>"
      ]
     },
     "metadata": {
      "needs_background": "light"
     },
     "output_type": "display_data"
    }
   ],
   "source": [
    "std_plot()"
   ]
  },
  {
   "cell_type": "markdown",
   "metadata": {},
   "source": [
    "### 右偏\n",
    "右偏表现为右侧长尾。"
   ]
  },
  {
   "cell_type": "code",
   "execution_count": 26,
   "metadata": {},
   "outputs": [],
   "source": [
    "def std_plot():\n",
    "    \"\"\"\n",
    "    draw standard deviation normal distribution\n",
    "    \"\"\"\n",
    "    mu = 0.0    # mean\n",
    "    sd = 1.0    # std\n",
    "    x = np.linspace(mu - 2 * sd, mu + 5 * sd, 50) # x range\n",
    "    y = stats.norm.pdf(x)\n",
    "    plt.plot(x, y, \"r\", linewidth = 2)\n",
    "    plt.grid(True)  # 显示网格线\n",
    "    plt.show()"
   ]
  },
  {
   "cell_type": "code",
   "execution_count": 27,
   "metadata": {},
   "outputs": [
    {
     "data": {
      "image/png": "[encoded data removed]",
      "text/plain": [
       "<Figure size 432x288 with 1 Axes>"
      ]
     },
     "metadata": {
      "needs_background": "light"
     },
     "output_type": "display_data"
    }
   ],
   "source": [
    "std_plot()"
   ]
  },
  {
   "cell_type": "markdown",
   "metadata": {},
   "source": [
    "### 左偏\n",
    "左偏表现为左侧长尾"
   ]
  },
  {
   "cell_type": "code",
   "execution_count": 28,
   "metadata": {},
   "outputs": [],
   "source": [
    "def std_plot():\n",
    "    \"\"\"\n",
    "    draw standard deviation normal distribution\n",
    "    \"\"\"\n",
    "    mu = 0.0    # mean\n",
    "    sd = 1.0    # std\n",
    "    x = np.linspace(mu - 5 * sd, mu + 2 * sd, 50) # x range\n",
    "    y = stats.norm.pdf(x)\n",
    "    plt.plot(x, y, \"r\", linewidth = 2)\n",
    "    plt.grid(True)  # 显示网格线\n",
    "    plt.show()"
   ]
  },
  {
   "cell_type": "code",
   "execution_count": 29,
   "metadata": {},
   "outputs": [
    {
     "data": {
      "image/png": "[encoded data removed]",
      "text/plain": [
       "<Figure size 432x288 with 1 Axes>"
      ]
     },
     "metadata": {
      "needs_background": "light"
     },
     "output_type": "display_data"
    }
   ],
   "source": [
    " std_plot()"
   ]
  },
  {
   "cell_type": "markdown",
   "metadata": {},
   "source": [
    "### 偏度计算公式\n",
    "样本偏度（sample skewness）有时候也称为样本相对偏度（sample relative skewness）"
   ]
  },
  {
   "cell_type": "code",
   "execution_count": 30,
   "metadata": {},
   "outputs": [],
   "source": [
    "def skewness(a):\n",
    "    \"\"\"\n",
    "    Compute the sample skewness of a data set.\n",
    "    :param a array_like\n",
    "    :return skewness of sample\n",
    "    \"\"\"\n",
    "    return stats.skew(a, bias=False)"
   ]
  },
  {
   "cell_type": "code",
   "execution_count": 31,
   "metadata": {},
   "outputs": [
    {
     "data": {
      "text/plain": [
       "-1.8357348616394247"
      ]
     },
     "execution_count": 31,
     "metadata": {},
     "output_type": "execute_result"
    }
   ],
   "source": [
    "data5 = np.array([25.78, 15.05, 4.26, 19.14, 3.30, -35.75, 25.62, 15.15, -0.72, 17.25])\n",
    "skewness(data5)"
   ]
  },
  {
   "cell_type": "markdown",
   "metadata": {},
   "source": [
    "根据计算结果，说明该基金收益率出现负偏，可能是因为2008年金融危机影响，受比较差的业绩影响，该基金收益率分布向左偏离。"
   ]
  },
  {
   "cell_type": "markdown",
   "metadata": {},
   "source": [
    "上面用到了stats.skew()函数，注意第二个参数bias设置为False，它默认是True。如果是False会对统计结果进行修正。\n",
    "\n",
    "在金融定量投资分析中，一个正偏的收益率分布会比较频繁出现小的损失和一些极大的收益率，一个负偏的收益率分布会比较频繁地出现小收益和一些极大的损失。"
   ]
  },
  {
   "cell_type": "markdown",
   "metadata": {},
   "source": [
    "### 峰度（kurtosis）\n",
    "\n",
    "峰度是一个统计度量指标，它告诉我们一个分布的峰值比正态分布更高还是更低。\n",
    "\n",
    "标准差越小，曲线越陡；标准差越大，曲线越平缓。红色线条标准差是1，绿色线条标准差是2，标准差越大，会越矮。一个分布的峰值如果比正态分布要大，称其为尖峰的（leptokurtic），一个分布的峰度如果等于正态分布，称其为中峰的（mesokurtic），一个分布的峰度如果比正态分布要小，称其为低峰的（platykurtic）。\n"
   ]
  },
  {
   "cell_type": "code",
   "execution_count": 32,
   "metadata": {},
   "outputs": [
    {
     "data": {
      "image/png": "[encoded data removed]",
      "text/plain": [
       "<Figure size 432x288 with 1 Axes>"
      ]
     },
     "metadata": {
      "needs_background": "light"
     },
     "output_type": "display_data"
    }
   ],
   "source": [
    "def std_plot():\n",
    "    \"\"\"\n",
    "    draw standard deviation normal distribution\n",
    "    \"\"\"\n",
    "    mu = 0.0    # mean\n",
    "    sd = 1.0    # std\n",
    "    sd2 = 2.0\n",
    "    sd3 = 3.0\n",
    "\n",
    "    # red line\n",
    "    x = np.linspace(mu - 3 * sd, mu + 3 * sd, 50) # x range\n",
    "    y = stats.norm.pdf(x)\n",
    "    plt.plot(x, y, \"r\", linewidth = 2)\n",
    "\n",
    "    # green line\n",
    "    x2 = np.linspace(mu - 6 * sd, mu + 6 * sd, 50) # x range\n",
    "    y2 = stats.norm.pdf(x2, mu, sd2)\n",
    "    plt.plot(x2, y2, \"g\", linewidth = 2)\n",
    "\n",
    "    # blue line\n",
    "    x3 = np.linspace(mu - 10 * sd, mu + 10 * sd, 50) # x range\n",
    "    y3 = stats.norm.pdf(x3, mu, sd3)\n",
    "    plt.plot(x3, y3, \"b\", linewidth = 2)\n",
    "\n",
    "    plt.grid(True)  # 显示网格线\n",
    "    plt.show()\n",
    "\n",
    "\n",
    "std_plot()"
   ]
  },
  {
   "cell_type": "markdown",
   "metadata": {},
   "source": [
    "### 峰度计算公式\n",
    "\n",
    "对于所有正态分布来说峰度等于3，许多统计软件会给出超额峰度（excess kurtosis），也就是峰度减去3之后的值。一个正态分布或者其他中峰分布的超额峰度为0， 一个尖峰分布的超额峰度大于0，一个低峰分布的超额峰度小于0。\n",
    "\n",
    "某基金2008年到2018年10年的收益率（%）分别是：25.78， 15.05， 4.26， 19.14， 3.30， -35.75， 25.62， 15.15， -0.72， 17.25。请计算该样本的峰度，并描述其收益率分布的形状（尖峰、中峰、低峰）？"
   ]
  },
  {
   "cell_type": "code",
   "execution_count": 33,
   "metadata": {},
   "outputs": [],
   "source": [
    "def kurtosis(a):\n",
    "    \"\"\"\n",
    "    Compute the sample kurtosis of a data set.\n",
    "    :param a array_like\n",
    "    :return kurtosis of sample\n",
    "    \"\"\"\n",
    "    return stats.kurtosis(a, bias=False)"
   ]
  },
  {
   "cell_type": "code",
   "execution_count": 34,
   "metadata": {},
   "outputs": [
    {
     "data": {
      "text/plain": [
       "4.093384492658573"
      ]
     },
     "execution_count": 34,
     "metadata": {},
     "output_type": "execute_result"
    }
   ],
   "source": [
    "data6 = np.array([25.78, 15.05, 4.26, 19.14, 3.30, -35.75, 25.62, 15.15, -0.72, 17.25])\n",
    "kurtosis(data6)"
   ]
  },
  {
   "cell_type": "markdown",
   "metadata": {},
   "source": [
    "计算得到该基金10年的收益率超额峰度为4.09，该值大于0，所以是尖峰厚尾分布的。"
   ]
  }
 ],
 "metadata": {
  "kernelspec": {
   "display_name": "Python 3",
   "language": "python",
   "name": "python3"
  },
  "language_info": {
   "codemirror_mode": {
    "name": "ipython",
    "version": 3
   },
   "file_extension": ".py",
   "mimetype": "text/x-python",
   "name": "python",
   "nbconvert_exporter": "python",
   "pygments_lexer": "ipython3",
   "version": "3.6.7"
  },
  "toc": {
   "base_numbering": 1,
   "nav_menu": {},
   "number_sections": false,
   "sideBar": true,
   "skip_h1_title": false,
   "title_cell": "MarkDown菜单",
   "title_sidebar": "Contents",
   "toc_cell": false,
   "toc_position": {},
   "toc_section_display": true,
   "toc_window_display": false
  }
 },
 "nbformat": 4,
 "nbformat_minor": 2
}
