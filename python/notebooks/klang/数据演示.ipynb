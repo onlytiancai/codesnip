{
 "cells": [
  {
   "cell_type": "markdown",
   "metadata": {},
   "source": [
    "## 获取股票基本信息"
   ]
  },
  {
   "cell_type": "code",
   "execution_count": 1,
   "metadata": {},
   "outputs": [],
   "source": [
    "info = get_security_info('000001.XSHE')"
   ]
  },
  {
   "cell_type": "code",
   "execution_count": 2,
   "metadata": {},
   "outputs": [
    {
     "data": {
      "text/plain": [
       "('平安银行', 'stock', datetime.date(1991, 4, 3))"
      ]
     },
     "execution_count": 2,
     "metadata": {},
     "output_type": "execute_result"
    }
   ],
   "source": [
    "info.display_name, info.type, info.start_date"
   ]
  },
  {
   "cell_type": "markdown",
   "metadata": {},
   "source": [
    "判断股票是否是ST"
   ]
  },
  {
   "cell_type": "code",
   "execution_count": 3,
   "metadata": {},
   "outputs": [
    {
     "data": {
      "text/html": [
       "<div>\n",
       "<style scoped>\n",
       "    .dataframe tbody tr th:only-of-type {\n",
       "        vertical-align: middle;\n",
       "    }\n",
       "\n",
       "    .dataframe tbody tr th {\n",
       "        vertical-align: top;\n",
       "    }\n",
       "\n",
       "    .dataframe thead th {\n",
       "        text-align: right;\n",
       "    }\n",
       "</style>\n",
       "<table border=\"1\" class=\"dataframe\">\n",
       "  <thead>\n",
       "    <tr style=\"text-align: right;\">\n",
       "      <th></th>\n",
       "      <th>000001.XSHE</th>\n",
       "      <th>000018.XSHE</th>\n",
       "    </tr>\n",
       "  </thead>\n",
       "  <tbody>\n",
       "    <tr>\n",
       "      <th>2013-12-02</th>\n",
       "      <td>False</td>\n",
       "      <td>True</td>\n",
       "    </tr>\n",
       "    <tr>\n",
       "      <th>2013-12-03</th>\n",
       "      <td>False</td>\n",
       "      <td>True</td>\n",
       "    </tr>\n",
       "  </tbody>\n",
       "</table>\n",
       "</div>"
      ],
      "text/plain": [
       "            000001.XSHE  000018.XSHE\n",
       "2013-12-02        False         True\n",
       "2013-12-03        False         True"
      ]
     },
     "execution_count": 3,
     "metadata": {},
     "output_type": "execute_result"
    }
   ],
   "source": [
    "get_extras('is_st', ['000001.XSHE', '000018.XSHE'], \n",
    "           start_date='2013-12-01', end_date='2013-12-03')"
   ]
  },
  {
   "cell_type": "markdown",
   "metadata": {},
   "source": [
    "## 获取行情数据"
   ]
  },
  {
   "cell_type": "code",
   "execution_count": 4,
   "metadata": {},
   "outputs": [],
   "source": [
    "data = get_price('000001.XSHE', \n",
    "                 start_date='2021-01-01', end_date='2021-12-31')"
   ]
  },
  {
   "cell_type": "code",
   "execution_count": 5,
   "metadata": {},
   "outputs": [
    {
     "data": {
      "text/html": [
       "<div>\n",
       "<style scoped>\n",
       "    .dataframe tbody tr th:only-of-type {\n",
       "        vertical-align: middle;\n",
       "    }\n",
       "\n",
       "    .dataframe tbody tr th {\n",
       "        vertical-align: top;\n",
       "    }\n",
       "\n",
       "    .dataframe thead th {\n",
       "        text-align: right;\n",
       "    }\n",
       "</style>\n",
       "<table border=\"1\" class=\"dataframe\">\n",
       "  <thead>\n",
       "    <tr style=\"text-align: right;\">\n",
       "      <th></th>\n",
       "      <th>open</th>\n",
       "      <th>close</th>\n",
       "      <th>high</th>\n",
       "      <th>low</th>\n",
       "      <th>volume</th>\n",
       "      <th>money</th>\n",
       "    </tr>\n",
       "  </thead>\n",
       "  <tbody>\n",
       "    <tr>\n",
       "      <th>2021-01-04</th>\n",
       "      <td>18.95</td>\n",
       "      <td>18.45</td>\n",
       "      <td>18.95</td>\n",
       "      <td>18.30</td>\n",
       "      <td>156643831.0</td>\n",
       "      <td>2.891682e+09</td>\n",
       "    </tr>\n",
       "    <tr>\n",
       "      <th>2021-01-05</th>\n",
       "      <td>18.26</td>\n",
       "      <td>18.03</td>\n",
       "      <td>18.34</td>\n",
       "      <td>17.66</td>\n",
       "      <td>183567466.0</td>\n",
       "      <td>3.284607e+09</td>\n",
       "    </tr>\n",
       "    <tr>\n",
       "      <th>2021-01-06</th>\n",
       "      <td>17.94</td>\n",
       "      <td>19.41</td>\n",
       "      <td>19.41</td>\n",
       "      <td>17.86</td>\n",
       "      <td>195016094.0</td>\n",
       "      <td>3.648522e+09</td>\n",
       "    </tr>\n",
       "    <tr>\n",
       "      <th>2021-01-07</th>\n",
       "      <td>19.37</td>\n",
       "      <td>19.74</td>\n",
       "      <td>19.82</td>\n",
       "      <td>19.08</td>\n",
       "      <td>159664285.0</td>\n",
       "      <td>3.111275e+09</td>\n",
       "    </tr>\n",
       "    <tr>\n",
       "      <th>2021-01-08</th>\n",
       "      <td>19.74</td>\n",
       "      <td>19.70</td>\n",
       "      <td>19.94</td>\n",
       "      <td>19.16</td>\n",
       "      <td>120487406.0</td>\n",
       "      <td>2.348316e+09</td>\n",
       "    </tr>\n",
       "  </tbody>\n",
       "</table>\n",
       "</div>"
      ],
      "text/plain": [
       "             open  close   high    low       volume         money\n",
       "2021-01-04  18.95  18.45  18.95  18.30  156643831.0  2.891682e+09\n",
       "2021-01-05  18.26  18.03  18.34  17.66  183567466.0  3.284607e+09\n",
       "2021-01-06  17.94  19.41  19.41  17.86  195016094.0  3.648522e+09\n",
       "2021-01-07  19.37  19.74  19.82  19.08  159664285.0  3.111275e+09\n",
       "2021-01-08  19.74  19.70  19.94  19.16  120487406.0  2.348316e+09"
      ]
     },
     "execution_count": 5,
     "metadata": {},
     "output_type": "execute_result"
    }
   ],
   "source": [
    "data.head()"
   ]
  },
  {
   "cell_type": "code",
   "execution_count": 6,
   "metadata": {},
   "outputs": [
    {
     "data": {
      "text/plain": [
       "<matplotlib.axes._subplots.AxesSubplot at 0x7fed35ced518>"
      ]
     },
     "execution_count": 6,
     "metadata": {},
     "output_type": "execute_result"
    },
    {
     "data": {
      "image/png": "[encoded data removed]",
      "text/plain": [
       "<Figure size 720x288 with 1 Axes>"
      ]
     },
     "metadata": {
      "needs_background": "light"
     },
     "output_type": "display_data"
    }
   ],
   "source": [
    "data['close'].plot(figsize=(10,4))"
   ]
  },
  {
   "cell_type": "markdown",
   "metadata": {},
   "source": [
    "## 获取财务数据"
   ]
  },
  {
   "cell_type": "markdown",
   "metadata": {},
   "source": [
    "市值数据\n",
    "https://www.joinquant.com/help/api/help#Stock:%E5%B8%82%E5%80%BC%E6%95%B0%E6%8D%AE"
   ]
  },
  {
   "cell_type": "code",
   "execution_count": 7,
   "metadata": {},
   "outputs": [
    {
     "data": {
      "text/plain": [
       "pe_ratio                     7.4984\n",
       "pb_ratio                     1.0593\n",
       "market_cap                1598.2791\n",
       "circulating_market_cap    1318.5129\n",
       "turnover_ratio               0.4116\n",
       "Name: 0, dtype: float64"
      ]
     },
     "execution_count": 7,
     "metadata": {},
     "output_type": "execute_result"
    }
   ],
   "source": [
    "q = query(valuation).filter(valuation.code == '000001.XSHE')\n",
    "df = get_fundamentals(q, '2015-10-15')\n",
    "# 市盈率，市净率，市值，流通市值，换手率\n",
    "df[['pe_ratio','pb_ratio','market_cap',\n",
    "    'circulating_market_cap','turnover_ratio']].iloc[0]"
   ]
  },
  {
   "cell_type": "markdown",
   "metadata": {},
   "source": [
    "资产负债表：https://www.joinquant.com/help/api/help#Stock:%E8%B5%84%E4%BA%A7%E8%B4%9F%E5%80%BA%E6%95%B0%E6%8D%AE"
   ]
  },
  {
   "cell_type": "code",
   "execution_count": 8,
   "metadata": {},
   "outputs": [
    {
     "data": {
      "text/plain": [
       "fixed_assets            1.057800e+10\n",
       "cash_equivalents        2.697940e+11\n",
       "total_liability         3.334163e+12\n",
       "total_owner_equities    2.566030e+11\n",
       "Name: 0, dtype: float64"
      ]
     },
     "execution_count": 8,
     "metadata": {},
     "output_type": "execute_result"
    }
   ],
   "source": [
    "q = query(balance).filter(valuation.code == '000001.XSHE')\n",
    "df = get_fundamentals(q, '2019-10-15')\n",
    "# 固定资产，货币资金，负债合计,股东权益合计\n",
    "df[['fixed_assets', 'cash_equivalents',\n",
    "    'total_liability','total_owner_equities']].iloc[0]"
   ]
  },
  {
   "cell_type": "markdown",
   "metadata": {},
   "source": [
    "现金流：https://www.joinquant.com/help/api/help#Stock:%E7%8E%B0%E9%87%91%E6%B5%81%E6%95%B0%E6%8D%AE"
   ]
  },
  {
   "cell_type": "code",
   "execution_count": 9,
   "metadata": {},
   "outputs": [
    {
     "data": {
      "text/plain": [
       "net_operate_cash_flow    1.710270e+11\n",
       "net_invest_cash_flow    -2.714300e+10\n",
       "net_finance_cash_flow    3.663500e+10\n",
       "Name: 0, dtype: float64"
      ]
     },
     "execution_count": 9,
     "metadata": {},
     "output_type": "execute_result"
    }
   ],
   "source": [
    "q = query(cash_flow).filter(valuation.code == '000001.XSHE')\n",
    "df = get_fundamentals(q, '2015-10-15')\n",
    "# 经营活动产生的现金流量净额，投资活动产生的现金流量净额，筹资活动产生的现金流量净额\n",
    "df[['net_operate_cash_flow', 'net_invest_cash_flow','net_finance_cash_flow']].iloc[0]"
   ]
  },
  {
   "cell_type": "markdown",
   "metadata": {},
   "source": [
    "利润数据:https://www.joinquant.com/help/api/help#Stock:%E5%88%A9%E6%B6%A6%E6%95%B0%E6%8D%AE"
   ]
  },
  {
   "cell_type": "code",
   "execution_count": 10,
   "metadata": {},
   "outputs": [
    {
     "data": {
      "text/plain": [
       "operating_revenue    2.590400e+10\n",
       "operating_cost       1.808400e+10\n",
       "operating_profit     7.820000e+09\n",
       "net_profit           5.956000e+09\n",
       "Name: 0, dtype: float64"
      ]
     },
     "execution_count": 10,
     "metadata": {},
     "output_type": "execute_result"
    }
   ],
   "source": [
    "q = query(income).filter(valuation.code == '000001.XSHE')\n",
    "df = get_fundamentals(q, '2015-10-15')\n",
    "# 营业收入,营业成本,营业利润,净利润\n",
    "df[['operating_revenue','operating_cost','operating_profit','net_profit']].iloc[0]"
   ]
  },
  {
   "cell_type": "markdown",
   "metadata": {},
   "source": [
    "财务指标数据:https://www.joinquant.com/help/api/help#Stock:%E8%B4%A2%E5%8A%A1%E6%8C%87%E6%A0%87%E6%95%B0%E6%8D%AE"
   ]
  },
  {
   "cell_type": "code",
   "execution_count": 11,
   "metadata": {},
   "outputs": [
    {
     "data": {
      "text/plain": [
       "roe                                   4.14\n",
       "gross_profit_margin                    NaN\n",
       "net_profit_margin                    22.99\n",
       "inc_revenue_year_on_year             39.02\n",
       "inc_operation_profit_year_on_year    17.90\n",
       "inc_net_profit_year_on_year          18.69\n",
       "Name: 0, dtype: float64"
      ]
     },
     "execution_count": 11,
     "metadata": {},
     "output_type": "execute_result"
    }
   ],
   "source": [
    "q = query(indicator).filter(valuation.code == '000001.XSHE')\n",
    "df = get_fundamentals(q, '2015-10-15')\n",
    "# 净资产收益率ROE,销售毛利,销售净利率,营业收入同比增长率,营业利润同比增长率,净利润同比增长率\n",
    "df[['roe','gross_profit_margin','net_profit_margin',\n",
    "    'inc_revenue_year_on_year','inc_operation_profit_year_on_year',\n",
    "    'inc_net_profit_year_on_year']].iloc[0]"
   ]
  },
  {
   "cell_type": "markdown",
   "metadata": {},
   "source": [
    "## 基本选股"
   ]
  },
  {
   "cell_type": "code",
   "execution_count": 12,
   "metadata": {},
   "outputs": [],
   "source": [
    "# 选出所有的总市值大于1000亿元, 市盈率小于10, \n",
    "#营业总收入大于200亿元, roe 大于 5 的股票\n",
    "df = get_fundamentals(query(\n",
    "      valuation.code, valuation.market_cap, \n",
    "      valuation.pe_ratio, income.total_operating_revenue,\n",
    "      indicator.roe\n",
    "  ).filter(\n",
    "      valuation.market_cap > 1000,\n",
    "      valuation.pe_ratio < 10,\n",
    "      income.total_operating_revenue > 2e10,\n",
    "      indicator.roe > 5\n",
    "  ).order_by(\n",
    "      # 按市值降序排列\n",
    "      valuation.market_cap.desc()\n",
    "  ).limit(\n",
    "      # 最多返回100个\n",
    "      100\n",
    "      ), date='2022-03-15')"
   ]
  },
  {
   "cell_type": "code",
   "execution_count": 13,
   "metadata": {},
   "outputs": [
    {
     "data": {
      "text/html": [
       "<div>\n",
       "<style scoped>\n",
       "    .dataframe tbody tr th:only-of-type {\n",
       "        vertical-align: middle;\n",
       "    }\n",
       "\n",
       "    .dataframe tbody tr th {\n",
       "        vertical-align: top;\n",
       "    }\n",
       "\n",
       "    .dataframe thead th {\n",
       "        text-align: right;\n",
       "    }\n",
       "</style>\n",
       "<table border=\"1\" class=\"dataframe\">\n",
       "  <thead>\n",
       "    <tr style=\"text-align: right;\">\n",
       "      <th></th>\n",
       "      <th>code</th>\n",
       "      <th>market_cap</th>\n",
       "      <th>pe_ratio</th>\n",
       "      <th>total_operating_revenue</th>\n",
       "      <th>roe</th>\n",
       "    </tr>\n",
       "  </thead>\n",
       "  <tbody>\n",
       "    <tr>\n",
       "      <th>0</th>\n",
       "      <td>601919.XSHG</td>\n",
       "      <td>2394.1162</td>\n",
       "      <td>2.6811</td>\n",
       "      <td>9.221423e+10</td>\n",
       "      <td>31.65</td>\n",
       "    </tr>\n",
       "    <tr>\n",
       "      <th>1</th>\n",
       "      <td>600309.XSHG</td>\n",
       "      <td>2372.0786</td>\n",
       "      <td>9.6235</td>\n",
       "      <td>3.821936e+10</td>\n",
       "      <td>7.71</td>\n",
       "    </tr>\n",
       "    <tr>\n",
       "      <th>2</th>\n",
       "      <td>000651.XSHE</td>\n",
       "      <td>1845.3143</td>\n",
       "      <td>7.6502</td>\n",
       "      <td>4.753802e+10</td>\n",
       "      <td>6.49</td>\n",
       "    </tr>\n",
       "    <tr>\n",
       "      <th>3</th>\n",
       "      <td>000725.XSHE</td>\n",
       "      <td>1583.9648</td>\n",
       "      <td>6.1332</td>\n",
       "      <td>5.599302e+10</td>\n",
       "      <td>5.78</td>\n",
       "    </tr>\n",
       "    <tr>\n",
       "      <th>4</th>\n",
       "      <td>600346.XSHG</td>\n",
       "      <td>1440.9037</td>\n",
       "      <td>8.8518</td>\n",
       "      <td>4.691411e+10</td>\n",
       "      <td>7.80</td>\n",
       "    </tr>\n",
       "  </tbody>\n",
       "</table>\n",
       "</div>"
      ],
      "text/plain": [
       "          code  market_cap  pe_ratio  total_operating_revenue    roe\n",
       "0  601919.XSHG   2394.1162    2.6811             9.221423e+10  31.65\n",
       "1  600309.XSHG   2372.0786    9.6235             3.821936e+10   7.71\n",
       "2  000651.XSHE   1845.3143    7.6502             4.753802e+10   6.49\n",
       "3  000725.XSHE   1583.9648    6.1332             5.599302e+10   5.78\n",
       "4  600346.XSHG   1440.9037    8.8518             4.691411e+10   7.80"
      ]
     },
     "execution_count": 13,
     "metadata": {},
     "output_type": "execute_result"
    }
   ],
   "source": [
    "df.head()"
   ]
  },
  {
   "cell_type": "code",
   "execution_count": 14,
   "metadata": {},
   "outputs": [
    {
     "name": "stdout",
     "output_type": "stream",
     "text": [
      "601919.XSHG 中远海控\n",
      "600309.XSHG 万华化学\n",
      "000651.XSHE 格力电器\n",
      "000725.XSHE 京东方A\n",
      "600346.XSHG 恒力石化\n",
      "601225.XSHG 陕西煤业\n"
     ]
    }
   ],
   "source": [
    "for code in df['code']:\n",
    "    print(code, get_security_info(code).display_name)"
   ]
  },
  {
   "cell_type": "code",
   "execution_count": null,
   "metadata": {},
   "outputs": [],
   "source": []
  }
 ],
 "metadata": {
  "kernelspec": {
   "display_name": "Python 3",
   "language": "python",
   "name": "python3"
  },
  "language_info": {
   "codemirror_mode": {
    "name": "ipython",
    "version": 3
   },
   "file_extension": ".py",
   "mimetype": "text/x-python",
   "name": "python",
   "nbconvert_exporter": "python",
   "pygments_lexer": "ipython3",
   "version": "3.6.7"
  },
  "toc": {
   "base_numbering": 1,
   "nav_menu": {},
   "number_sections": false,
   "sideBar": true,
   "skip_h1_title": false,
   "title_cell": "MarkDown菜单",
   "title_sidebar": "Contents",
   "toc_cell": false,
   "toc_position": {},
   "toc_section_display": true,
   "toc_window_display": false
  }
 },
 "nbformat": 4,
 "nbformat_minor": 2
}
