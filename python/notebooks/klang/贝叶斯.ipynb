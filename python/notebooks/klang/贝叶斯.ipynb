{
 "cells": [
  {
   "cell_type": "markdown",
   "metadata": {},
   "source": [
    "### 贝叶斯模型实现"
   ]
  },
  {
   "cell_type": "code",
   "execution_count": 1,
   "metadata": {},
   "outputs": [],
   "source": [
    "import numpy as np\n",
    "\n",
    "\n",
    "class GaussianNB():\n",
    "\n",
    "    def fit(self, X, y):\n",
    "        \"\"\"模型拟合\"\"\"\n",
    "        self.y_prior = [round(sum(y == i) / len(y), 6) for i in sorted(set(y))]\n",
    "        self.features_param = []\n",
    "\n",
    "        for i in sorted(set(y)):\n",
    "            pos = np.where(y == i)\n",
    "            features_data = X[pos]\n",
    "            features_mean = np.mean(features_data, axis=0)\n",
    "            features_std = np.std(features_data, axis=0)\n",
    "\n",
    "            param = [(round(avg, 6), round(std, 6)) for avg, std in zip(features_mean, features_std)]\n",
    "            self.features_param.append(param)\n",
    "\n",
    "    def predict(self, x):\n",
    "        \"\"\"模型预测\"\"\"\n",
    "        result = []\n",
    "        for i in range(x.shape[0]):\n",
    "            bayes_prob = []\n",
    "\n",
    "            for j in range(len(self.y_prior)):\n",
    "                x_param = self.features_param[j]\n",
    "                y_param = self.y_prior[j]\n",
    "                xi_conditional_prob = 1\n",
    "\n",
    "                for k in range(len(x_param)):\n",
    "                    xi_conditional_prob *= self.gauss_pro(x[i][k], x_param[k][0], x_param[k][1])\n",
    "                bayes_prob.append(round(y_param * xi_conditional_prob, 6))\n",
    "            result.append(np.where(bayes_prob == np.max(bayes_prob))[0][0])\n",
    "\n",
    "        return np.array(result)\n",
    "\n",
    "    def gauss_pro(self, v, miu, sigma):\n",
    "        \"\"\"高斯分布概率密度计算\"\"\"\n",
    "        part1 = 1 / (sigma * np.sqrt(2 * np.pi))\n",
    "        part2 = np.exp(-1 * (v - miu) ** 2 / (2 * sigma ** 2))\n",
    "        return round(part1 * part2, 6)"
   ]
  },
  {
   "cell_type": "markdown",
   "metadata": {},
   "source": [
    "### 使用"
   ]
  },
  {
   "cell_type": "code",
   "execution_count": 2,
   "metadata": {},
   "outputs": [],
   "source": [
    "from sklearn import datasets\n",
    "\n",
    "iris = datasets.load_iris()\n",
    "X = iris.data\n",
    "y = iris.target"
   ]
  },
  {
   "cell_type": "markdown",
   "metadata": {},
   "source": [
    "X 为训练数据，每一行表示一个样本，每个样本里有 4 个特征"
   ]
  },
  {
   "cell_type": "code",
   "execution_count": 3,
   "metadata": {},
   "outputs": [
    {
     "data": {
      "text/plain": [
       "array([[5.1, 3.5, 1.4, 0.2],\n",
       "       [4.9, 3.0, 1.4, 0.2],\n",
       "       [4.7, 3.2, 1.3, 0.2],\n",
       "       [4.6, 3.1, 1.5, 0.2],\n",
       "       [5.0, 3.6, 1.4, 0.2],\n",
       "       [5.4, 3.9, 1.7, 0.4],\n",
       "       [4.6, 3.4, 1.4, 0.3],\n",
       "       [5.0, 3.4, 1.5, 0.2],\n",
       "       [4.4, 2.9, 1.4, 0.2],\n",
       "       [4.9, 3.1, 1.5, 0.1]])"
      ]
     },
     "execution_count": 3,
     "metadata": {},
     "output_type": "execute_result"
    }
   ],
   "source": [
    "X[:10]"
   ]
  },
  {
   "cell_type": "markdown",
   "metadata": {},
   "source": [
    "y 为标签数据，每个值表示对应索引的具体分类"
   ]
  },
  {
   "cell_type": "code",
   "execution_count": 4,
   "metadata": {},
   "outputs": [
    {
     "data": {
      "text/plain": [
       "array([0, 0, 0, 0, 0, 0, 0, 0, 0, 0, 0, 0, 0, 0, 0, 0, 0, 0, 0, 0, 0, 0,\n",
       "       0, 0, 0, 0, 0, 0, 0, 0, 0, 0, 0, 0, 0, 0, 0, 0, 0, 0, 0, 0, 0, 0,\n",
       "       0, 0, 0, 0, 0, 0, 1, 1, 1, 1, 1, 1, 1, 1, 1, 1, 1, 1, 1, 1, 1, 1,\n",
       "       1, 1, 1, 1, 1, 1, 1, 1, 1, 1, 1, 1, 1, 1, 1, 1, 1, 1, 1, 1, 1, 1,\n",
       "       1, 1, 1, 1, 1, 1, 1, 1, 1, 1, 1, 1, 2, 2, 2, 2, 2, 2, 2, 2, 2, 2,\n",
       "       2, 2, 2, 2, 2, 2, 2, 2, 2, 2, 2, 2, 2, 2, 2, 2, 2, 2, 2, 2, 2, 2,\n",
       "       2, 2, 2, 2, 2, 2, 2, 2, 2, 2, 2, 2, 2, 2, 2, 2, 2, 2])"
      ]
     },
     "execution_count": 4,
     "metadata": {},
     "output_type": "execute_result"
    }
   ],
   "source": [
    "y"
   ]
  },
  {
   "cell_type": "markdown",
   "metadata": {},
   "source": [
    "创建模型并填充模型"
   ]
  },
  {
   "cell_type": "code",
   "execution_count": 5,
   "metadata": {},
   "outputs": [],
   "source": [
    "gnb = GaussianNB()\n",
    "gnb.fit(X, y)"
   ]
  },
  {
   "cell_type": "markdown",
   "metadata": {},
   "source": [
    "预测数据，一般情况下会分训练集和测试集，这里简单的训练集测试预测效果"
   ]
  },
  {
   "cell_type": "code",
   "execution_count": 6,
   "metadata": {},
   "outputs": [
    {
     "name": "stdout",
     "output_type": "stream",
     "text": [
      "[0 0 0 0 0 0 0 0 0 0 0 0 0 0 0 0 0 0 0 0 0 0 0 0 0 0 0 0 0 0 0 0 0 0 0 0 0\n",
      " 0 0 0 0 0 0 0 0 0 0 0 0 0 1 1 2 1 1 1 1 1 1 1 1 1 1 1 1 1 1 1 1 1 2 1 1 1\n",
      " 1 1 1 2 1 1 1 1 1 1 1 1 1 1 1 1 1 1 1 1 1 1 1 1 1 1 2 2 2 2 2 2 1 2 2 2 2\n",
      " 2 2 2 2 2 2 2 2 1 2 2 2 2 2 2 2 2 2 2 2 2 2 1 2 2 2 2 2 2 2 2 2 2 2 2 2 2\n",
      " 2 2]\n"
     ]
    }
   ],
   "source": [
    "res = gnb.predict(X)\n",
    "print(res)"
   ]
  },
  {
   "cell_type": "markdown",
   "metadata": {},
   "source": [
    "### 步骤分解"
   ]
  },
  {
   "cell_type": "markdown",
   "metadata": {},
   "source": [
    "查询标签数据中指定分类的索引"
   ]
  },
  {
   "cell_type": "code",
   "execution_count": 7,
   "metadata": {},
   "outputs": [
    {
     "data": {
      "text/plain": [
       "(array([50, 51, 52, 53, 54, 55, 56, 57, 58, 59, 60, 61, 62, 63, 64, 65, 66,\n",
       "        67, 68, 69, 70, 71, 72, 73, 74, 75, 76, 77, 78, 79, 80, 81, 82, 83,\n",
       "        84, 85, 86, 87, 88, 89, 90, 91, 92, 93, 94, 95, 96, 97, 98, 99]),)"
      ]
     },
     "execution_count": 7,
     "metadata": {},
     "output_type": "execute_result"
    }
   ],
   "source": [
    "pos = np.where(y == 1)\n",
    "pos"
   ]
  },
  {
   "cell_type": "markdown",
   "metadata": {},
   "source": [
    "得到该分类的特征数据"
   ]
  },
  {
   "cell_type": "code",
   "execution_count": 8,
   "metadata": {},
   "outputs": [
    {
     "data": {
      "text/plain": [
       "array([[7.0, 3.2, 4.7, 1.4],\n",
       "       [6.4, 3.2, 4.5, 1.5],\n",
       "       [6.9, 3.1, 4.9, 1.5],\n",
       "       [5.5, 2.3, 4.0, 1.3],\n",
       "       [6.5, 2.8, 4.6, 1.5],\n",
       "       [5.7, 2.8, 4.5, 1.3],\n",
       "       [6.3, 3.3, 4.7, 1.6],\n",
       "       [4.9, 2.4, 3.3, 1.0],\n",
       "       [6.6, 2.9, 4.6, 1.3],\n",
       "       [5.2, 2.7, 3.9, 1.4]])"
      ]
     },
     "execution_count": 8,
     "metadata": {},
     "output_type": "execute_result"
    }
   ],
   "source": [
    "features_data = X[pos]\n",
    "features_data[:10]"
   ]
  },
  {
   "cell_type": "markdown",
   "metadata": {},
   "source": [
    "求该分类每个特征的均值"
   ]
  },
  {
   "cell_type": "code",
   "execution_count": 9,
   "metadata": {},
   "outputs": [
    {
     "data": {
      "text/plain": [
       "array([5.936, 2.7700000000000005, 4.26, 1.3259999999999998])"
      ]
     },
     "execution_count": 9,
     "metadata": {},
     "output_type": "execute_result"
    }
   ],
   "source": [
    "features_mean = np.mean(features_data, axis=0)\n",
    "features_mean"
   ]
  },
  {
   "cell_type": "markdown",
   "metadata": {},
   "source": [
    "求该分类每个特征的标准差"
   ]
  },
  {
   "cell_type": "code",
   "execution_count": 10,
   "metadata": {},
   "outputs": [
    {
     "data": {
      "text/plain": [
       "array([0.5109833656783752, 0.31064449134018135, 0.4651881339845204,\n",
       "       0.19576516544063702])"
      ]
     },
     "execution_count": 10,
     "metadata": {},
     "output_type": "execute_result"
    }
   ],
   "source": [
    "features_std = np.std(features_data, axis=0)\n",
    "features_std"
   ]
  },
  {
   "cell_type": "markdown",
   "metadata": {},
   "source": [
    "得到该分类每个特征的均值，标准差列表"
   ]
  },
  {
   "cell_type": "code",
   "execution_count": 11,
   "metadata": {},
   "outputs": [
    {
     "data": {
      "text/plain": [
       "[(5.936, 0.5109833656783752),\n",
       " (2.7700000000000005, 0.31064449134018135),\n",
       " (4.26, 0.4651881339845204),\n",
       " (1.3259999999999998, 0.19576516544063702)]"
      ]
     },
     "execution_count": 11,
     "metadata": {},
     "output_type": "execute_result"
    }
   ],
   "source": [
    "list(zip(features_mean, features_std))"
   ]
  },
  {
   "cell_type": "code",
   "execution_count": 12,
   "metadata": {},
   "outputs": [
    {
     "data": {
      "text/plain": [
       "[(5.936, 0.510983), (2.77, 0.310644), (4.26, 0.465188), (1.326, 0.195765)]"
      ]
     },
     "execution_count": 12,
     "metadata": {},
     "output_type": "execute_result"
    }
   ],
   "source": [
    "param = [(round(avg, 6), round(std, 6)) for avg, std in zip(features_mean, features_std)]\n",
    "param"
   ]
  },
  {
   "cell_type": "markdown",
   "metadata": {},
   "source": [
    "上面是得到某一类样本的每个特征的统计数据\n",
    "下面得到所有分类的每个特征的统计数据"
   ]
  },
  {
   "cell_type": "code",
   "execution_count": 13,
   "metadata": {},
   "outputs": [],
   "source": [
    "features_param=[]\n",
    "for i in sorted(set(y)):\n",
    "    pos = np.where(y == i)\n",
    "    features_data = X[pos]\n",
    "    features_mean = np.mean(features_data, axis=0)\n",
    "    features_std = np.std(features_data, axis=0)\n",
    "\n",
    "    param = [(round(avg, 6), round(std, 6)) for avg, std in zip(features_mean, features_std)]\n",
    "    features_param.append(param)"
   ]
  },
  {
   "cell_type": "markdown",
   "metadata": {},
   "source": [
    "每一行表示一个分类，每个分类里有4个特征的统计信息，每个统计信息包括均值和标准差"
   ]
  },
  {
   "cell_type": "code",
   "execution_count": 14,
   "metadata": {},
   "outputs": [
    {
     "data": {
      "text/plain": [
       "[[(5.006, 0.348947), (3.418, 0.377195), (1.464, 0.171767), (0.244, 0.106132)],\n",
       " [(5.936, 0.510983), (2.77, 0.310644), (4.26, 0.465188), (1.326, 0.195765)],\n",
       " [(6.588, 0.629489), (2.974, 0.319255), (5.552, 0.546348), (2.026, 0.27189)]]"
      ]
     },
     "execution_count": 14,
     "metadata": {},
     "output_type": "execute_result"
    }
   ],
   "source": [
    "features_param"
   ]
  },
  {
   "cell_type": "markdown",
   "metadata": {},
   "source": [
    "得到样本大小"
   ]
  },
  {
   "cell_type": "code",
   "execution_count": 15,
   "metadata": {},
   "outputs": [
    {
     "data": {
      "text/plain": [
       "150"
      ]
     },
     "execution_count": 15,
     "metadata": {},
     "output_type": "execute_result"
    }
   ],
   "source": [
    "X.shape[0]"
   ]
  },
  {
   "cell_type": "markdown",
   "metadata": {},
   "source": [
    "定义函数求正态分布概率密度函数"
   ]
  },
  {
   "cell_type": "code",
   "execution_count": 16,
   "metadata": {},
   "outputs": [],
   "source": [
    "def gauss_pro(v, miu, sigma):\n",
    "    \"\"\"高斯分布概率密度计算\"\"\"\n",
    "    part1 = 1 / (sigma * np.sqrt(2 * np.pi))\n",
    "    part2 = np.exp(-1 * (v - miu) ** 2 / (2 * sigma ** 2))\n",
    "    return round(part1 * part2, 6)"
   ]
  },
  {
   "cell_type": "markdown",
   "metadata": {},
   "source": [
    "准备参数，测试概率密度函数"
   ]
  },
  {
   "cell_type": "code",
   "execution_count": 17,
   "metadata": {},
   "outputs": [
    {
     "data": {
      "text/plain": [
       "6.4"
      ]
     },
     "execution_count": 17,
     "metadata": {},
     "output_type": "execute_result"
    }
   ],
   "source": [
    "i = 51 # 第 i 个样本\n",
    "k = 0  # 第 k 个特征\n",
    "X[i][k] # 第 i 个样本的第 k 个特征"
   ]
  },
  {
   "cell_type": "code",
   "execution_count": 18,
   "metadata": {},
   "outputs": [
    {
     "data": {
      "text/plain": [
       "[(5.006, 0.348947), (3.418, 0.377195), (1.464, 0.171767), (0.244, 0.106132)]"
      ]
     },
     "execution_count": 18,
     "metadata": {},
     "output_type": "execute_result"
    }
   ],
   "source": [
    "j = 0                       # 第 j 个分类\n",
    "x_param = features_param[j] # 第 j 个分类的所有特征的统计信息\n",
    "x_param"
   ]
  },
  {
   "cell_type": "code",
   "execution_count": 19,
   "metadata": {},
   "outputs": [
    {
     "data": {
      "text/plain": [
       "5.006"
      ]
     },
     "execution_count": 19,
     "metadata": {},
     "output_type": "execute_result"
    }
   ],
   "source": [
    "# 该分类第 k 个特征的均值\n",
    "x_param[k][0]"
   ]
  },
  {
   "cell_type": "code",
   "execution_count": 20,
   "metadata": {},
   "outputs": [
    {
     "data": {
      "text/plain": [
       "0.348947"
      ]
     },
     "execution_count": 20,
     "metadata": {},
     "output_type": "execute_result"
    }
   ],
   "source": [
    "# 该分类第 k 个特征的标准差\n",
    "x_param[k][1]"
   ]
  },
  {
   "cell_type": "code",
   "execution_count": 21,
   "metadata": {},
   "outputs": [
    {
     "data": {
      "text/plain": [
       "0.000391"
      ]
     },
     "execution_count": 21,
     "metadata": {},
     "output_type": "execute_result"
    }
   ],
   "source": [
    "# 求概率密度\n",
    "gauss_pro(X[i][k],x_param[k][0],x_param[k][1])"
   ]
  },
  {
   "cell_type": "markdown",
   "metadata": {},
   "source": [
    "样本中每个分类的占比"
   ]
  },
  {
   "cell_type": "code",
   "execution_count": 22,
   "metadata": {},
   "outputs": [
    {
     "data": {
      "text/plain": [
       "[0.333333, 0.333333, 0.333333]"
      ]
     },
     "execution_count": 22,
     "metadata": {},
     "output_type": "execute_result"
    }
   ],
   "source": [
    "y_prior = [round(sum(y == i) / len(y), 6) for i in sorted(set(y))]\n",
    "y_prior"
   ]
  },
  {
   "cell_type": "markdown",
   "metadata": {},
   "source": [
    "计算第 i 个样本属于每个分类的概率"
   ]
  },
  {
   "cell_type": "code",
   "execution_count": 23,
   "metadata": {},
   "outputs": [
    {
     "name": "stdout",
     "output_type": "stream",
     "text": [
      "i=51, j=0, x_param=[(5.006, 0.348947), (3.418, 0.377195), (1.464, 0.171767), (0.244, 0.106132)], y_param=0.333333\n",
      "\tk=0 xi_conditional_prob=0.000391\n",
      "\tk=1 xi_conditional_prob=0.00034993561600000004\n",
      "\tk=2 xi_conditional_prob=0.0\n",
      "\tk=3 xi_conditional_prob=0.0\n",
      "prob= 0.0\n",
      "i=51, j=1, x_param=[(5.936, 0.510983), (2.77, 0.310644), (4.26, 0.465188), (1.326, 0.195765)], y_param=0.333333\n",
      "\tk=0 xi_conditional_prob=0.516955\n",
      "\tk=1 xi_conditional_prob=0.254701143725\n",
      "\tk=2 xi_conditional_prob=0.1912112802263818\n",
      "\tk=3 xi_conditional_prob=0.2625074654392719\n",
      "prob= 0.087502\n",
      "i=51, j=2, x_param=[(6.588, 0.629489), (2.974, 0.319255), (5.552, 0.546348), (2.026, 0.27189)], y_param=0.333333\n",
      "\tk=0 xi_conditional_prob=0.606113\n",
      "\tk=1 xi_conditional_prob=0.589534597224\n",
      "\tk=2 xi_conditional_prob=0.06743037769588389\n",
      "\tk=3 xi_conditional_prob=0.015228409068460723\n",
      "prob= 0.005076\n"
     ]
    }
   ],
   "source": [
    "bayes_prob = []\n",
    "for j in range(len(y_prior)):\n",
    "    x_param = features_param[j]\n",
    "    y_param = y_prior[j]\n",
    "    xi_conditional_prob = 1\n",
    "    print('i=%s, j=%s, x_param=%s, y_param=%s' % (i, j, x_param, y_param))\n",
    "\n",
    "    for k in range(len(x_param)):        \n",
    "        xi_conditional_prob *= gauss_pro(X[i][k], x_param[k][0], x_param[k][1])\n",
    "        print('\\tk=%s xi_conditional_prob=%s' % (k, xi_conditional_prob))\n",
    "    bayes_prob.append(round(y_param * xi_conditional_prob, 6))\n",
    "    print('prob=', round(y_param * xi_conditional_prob, 6))"
   ]
  },
  {
   "cell_type": "markdown",
   "metadata": {},
   "source": [
    "得到每个概率分布"
   ]
  },
  {
   "cell_type": "code",
   "execution_count": 24,
   "metadata": {},
   "outputs": [
    {
     "data": {
      "text/plain": [
       "[0.0, 0.087502, 0.005076]"
      ]
     },
     "execution_count": 24,
     "metadata": {},
     "output_type": "execute_result"
    }
   ],
   "source": [
    "bayes_prob"
   ]
  },
  {
   "cell_type": "markdown",
   "metadata": {},
   "source": [
    "得到最大概率的分类"
   ]
  },
  {
   "cell_type": "code",
   "execution_count": 25,
   "metadata": {},
   "outputs": [
    {
     "data": {
      "text/plain": [
       "1"
      ]
     },
     "execution_count": 25,
     "metadata": {},
     "output_type": "execute_result"
    }
   ],
   "source": [
    "np.where(bayes_prob == np.max(bayes_prob))[0][0]"
   ]
  }
 ],
 "metadata": {
  "kernelspec": {
   "display_name": "Python 3",
   "language": "python",
   "name": "python3"
  },
  "language_info": {
   "codemirror_mode": {
    "name": "ipython",
    "version": 3
   },
   "file_extension": ".py",
   "mimetype": "text/x-python",
   "name": "python",
   "nbconvert_exporter": "python",
   "pygments_lexer": "ipython3",
   "version": "3.6.7"
  },
  "toc": {
   "base_numbering": 1,
   "nav_menu": {},
   "number_sections": false,
   "sideBar": true,
   "skip_h1_title": false,
   "title_cell": "MarkDown菜单",
   "title_sidebar": "Contents",
   "toc_cell": false,
   "toc_position": {},
   "toc_section_display": true,
   "toc_window_display": false
  }
 },
 "nbformat": 4,
 "nbformat_minor": 2
}
