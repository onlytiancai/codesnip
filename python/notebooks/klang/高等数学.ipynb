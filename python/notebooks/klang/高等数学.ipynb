{
 "cells": [
  {
   "cell_type": "markdown",
   "metadata": {},
   "source": [
    "线性回归，最小二乘法，最优化，线性规划，求导，求积分，梯度，偏微分方程"
   ]
  },
  {
   "cell_type": "markdown",
   "metadata": {},
   "source": [
    "## 一、线性归回"
   ]
  },
  {
   "cell_type": "markdown",
   "metadata": {},
   "source": [
    "https://zhuanlan.zhihu.com/p/22692029"
   ]
  },
  {
   "cell_type": "code",
   "execution_count": 1,
   "metadata": {},
   "outputs": [],
   "source": [
    "import numpy as np\n",
    "import pandas as pd\n",
    "from scipy import stats\n",
    "import matplotlib.pyplot as plt\n",
    "import talib as ta\n",
    "import statsmodels.api as sm\n",
    "%matplotlib inline"
   ]
  },
  {
   "cell_type": "code",
   "execution_count": 2,
   "metadata": {},
   "outputs": [],
   "source": [
    "# 设置图表默认大小\n",
    "plt.rcParams['figure.figsize'] = 10,5"
   ]
  },
  {
   "attachments": {
    "image.png": {
     "image/png": "[encoded data removed]"
    }
   },
   "cell_type": "markdown",
   "metadata": {},
   "source": [
    "### 简单 OLS 回归\n",
    "\n",
    "![image.png](attachment:image.png)"
   ]
  },
  {
   "cell_type": "code",
   "execution_count": 4,
   "metadata": {},
   "outputs": [
    {
     "data": {
      "text/plain": [
       "array([0.0, 0.10101010101010101, 0.20202020202020202, 0.30303030303030304,\n",
       "       0.40404040404040403, 0.5050505050505051, 0.6060606060606061,\n",
       "       0.7070707070707071, 0.8080808080808081, 0.9090909090909091,\n",
       "       1.0101010101010102, 1.1111111111111112, 1.2121212121212122,\n",
       "       1.3131313131313131, 1.4141414141414141, 1.5151515151515151,\n",
       "       1.6161616161616161, 1.7171717171717171, 1.8181818181818181,\n",
       "       1.9191919191919191, 2.0202020202020203, 2.121212121212121,\n",
       "       2.2222222222222223, 2.323232323232323, 2.4242424242424243,\n",
       "       2.525252525252525, 2.6262626262626263, 2.727272727272727,\n",
       "       2.8282828282828283, 2.929292929292929, 3.0303030303030303,\n",
       "       3.131313131313131, 3.2323232323232323, 3.3333333333333335,\n",
       "       3.4343434343434343, 3.5353535353535355, 3.6363636363636362,\n",
       "       3.7373737373737375, 3.8383838383838382, 3.9393939393939394,\n",
       "       4.040404040404041, 4.141414141414141, 4.242424242424242,\n",
       "       4.343434343434343, 4.444444444444445, 4.545454545454545,\n",
       "       4.646464646464646, 4.747474747474747, 4.848484848484849,\n",
       "       4.94949494949495, 5.05050505050505, 5.151515151515151,\n",
       "       5.252525252525253, 5.353535353535354, 5.454545454545454,\n",
       "       5.555555555555555, 5.656565656565657, 5.757575757575758,\n",
       "       5.858585858585858, 5.959595959595959, 6.0606060606060606,\n",
       "       6.161616161616162, 6.262626262626262, 6.363636363636363,\n",
       "       6.4646464646464645, 6.565656565656566, 6.666666666666667,\n",
       "       6.767676767676767, 6.8686868686868685, 6.96969696969697,\n",
       "       7.070707070707071, 7.171717171717171, 7.2727272727272725,\n",
       "       7.373737373737374, 7.474747474747475, 7.575757575757575,\n",
       "       7.6767676767676765, 7.777777777777778, 7.878787878787879,\n",
       "       7.979797979797979, 8.080808080808081, 8.181818181818182,\n",
       "       8.282828282828282, 8.383838383838384, 8.484848484848484,\n",
       "       8.585858585858587, 8.686868686868687, 8.787878787878787,\n",
       "       8.88888888888889, 8.98989898989899, 9.09090909090909,\n",
       "       9.191919191919192, 9.292929292929292, 9.393939393939394,\n",
       "       9.494949494949495, 9.595959595959595, 9.696969696969697,\n",
       "       9.797979797979798, 9.8989898989899, 10.0])"
      ]
     },
     "execution_count": 4,
     "metadata": {},
     "output_type": "execute_result"
    }
   ],
   "source": [
    "# 先设定数据量\n",
    "nsample = 100\n",
    "# 创建一个 array，这里，我们想要 x1 的值从 0 到 10 等差排列\n",
    "x = np.linspace(0, 10, nsample)\n",
    "x"
   ]
  },
  {
   "cell_type": "code",
   "execution_count": 19,
   "metadata": {},
   "outputs": [],
   "source": [
    "# 在 array 上加入一列常项1\n",
    "X = sm.add_constant(x)"
   ]
  },
  {
   "cell_type": "code",
   "execution_count": 21,
   "metadata": {},
   "outputs": [],
   "source": [
    "# 设置模型里的 β0,β1，这里要设置成 1,10\n",
    "beta = np.array([1, 10])"
   ]
  },
  {
   "cell_type": "code",
   "execution_count": 22,
   "metadata": {},
   "outputs": [],
   "source": [
    "# 加上误差项，所以生成一个长度为k的正态分布样本\n",
    "e = np.random.normal(size=nsample)"
   ]
  },
  {
   "cell_type": "code",
   "execution_count": 23,
   "metadata": {},
   "outputs": [],
   "source": [
    "# 我们生成反应项 y(t)\n",
    "y = np.dot(X, beta) + e"
   ]
  },
  {
   "cell_type": "code",
   "execution_count": 24,
   "metadata": {},
   "outputs": [],
   "source": [
    "# 反应变量和回归变量上使用 OLS() 函数\n",
    "model = sm.OLS(y,X)"
   ]
  },
  {
   "cell_type": "code",
   "execution_count": 25,
   "metadata": {},
   "outputs": [],
   "source": [
    "# 获取拟合结果\n",
    "results = model.fit()"
   ]
  },
  {
   "cell_type": "code",
   "execution_count": 26,
   "metadata": {},
   "outputs": [
    {
     "name": "stdout",
     "output_type": "stream",
     "text": [
      "[1.1434358607111308 9.98801040595726]\n"
     ]
    }
   ],
   "source": [
    "# 取计算出的回归系数\n",
    "print(results.params)"
   ]
  },
  {
   "cell_type": "code",
   "execution_count": 27,
   "metadata": {},
   "outputs": [
    {
     "name": "stdout",
     "output_type": "stream",
     "text": [
      "                            OLS Regression Results                            \n",
      "==============================================================================\n",
      "Dep. Variable:                      y   R-squared:                       0.999\n",
      "Model:                            OLS   Adj. R-squared:                  0.999\n",
      "Method:                 Least Squares   F-statistic:                 9.356e+04\n",
      "Date:                Thu, 02 Jun 2022   Prob (F-statistic):          7.40e-148\n",
      "Time:                        17:28:07   Log-Likelihood:                -135.98\n",
      "No. Observations:                 100   AIC:                             276.0\n",
      "Df Residuals:                      98   BIC:                             281.2\n",
      "Df Model:                           1                                         \n",
      "Covariance Type:            nonrobust                                         \n",
      "==============================================================================\n",
      "                 coef    std err          t      P>|t|      [0.025      0.975]\n",
      "------------------------------------------------------------------------------\n",
      "const          1.1434      0.189      6.050      0.000       0.768       1.519\n",
      "x1             9.9880      0.033    305.878      0.000       9.923      10.053\n",
      "==============================================================================\n",
      "Omnibus:                        1.868   Durbin-Watson:                   2.436\n",
      "Prob(Omnibus):                  0.393   Jarque-Bera (JB):                1.590\n",
      "Skew:                          -0.165   Prob(JB):                        0.452\n",
      "Kurtosis:                       2.477   Cond. No.                         11.7\n",
      "==============================================================================\n",
      "\n",
      "Warnings:\n",
      "[1] Standard Errors assume that the covariance matrix of the errors is correctly specified.\n"
     ]
    }
   ],
   "source": [
    "# 回归拟合的摘要\n",
    "print(results.summary())"
   ]
  },
  {
   "cell_type": "code",
   "execution_count": 29,
   "metadata": {},
   "outputs": [],
   "source": [
    "# 调用拟合结果的 fittedvalues 得到拟合的 y 值\n",
    "y_fitted = results.fittedvalues"
   ]
  },
  {
   "cell_type": "code",
   "execution_count": 16,
   "metadata": {},
   "outputs": [
    {
     "data": {
      "text/plain": [
       "<matplotlib.legend.Legend at 0x7fe3d1e66e80>"
      ]
     },
     "execution_count": 16,
     "metadata": {},
     "output_type": "execute_result"
    },
    {
     "data": {
      "image/png": "[encoded data removed]",
      "text/plain": [
       "<Figure size 576x432 with 1 Axes>"
      ]
     },
     "metadata": {
      "needs_background": "light"
     },
     "output_type": "display_data"
    }
   ],
   "source": [
    "# 将拟合结果画出来\n",
    "fig, ax = plt.subplots(figsize=(8,6))\n",
    "ax.plot(x, y, 'o', label='data')\n",
    "ax.plot(x, y_fitted, 'r--.',label='OLS')\n",
    "ax.legend(loc='best')"
   ]
  },
  {
   "cell_type": "code",
   "execution_count": 28,
   "metadata": {},
   "outputs": [
    {
     "data": {
      "text/plain": [
       "(-0.05, 2, -1, 25)"
      ]
     },
     "execution_count": 28,
     "metadata": {},
     "output_type": "execute_result"
    },
    {
     "data": {
      "image/png": "[encoded data removed]",
      "text/plain": [
       "<Figure size 576x432 with 1 Axes>"
      ]
     },
     "metadata": {
      "needs_background": "light"
     },
     "output_type": "display_data"
    }
   ],
   "source": [
    "# 放大细节\n",
    "fig, ax = plt.subplots(figsize=(8,6))\n",
    "ax.plot(x, y, 'o', label='data')\n",
    "ax.plot(x, y_fitted, 'r--.',label='OLS')\n",
    "ax.legend(loc='best')\n",
    "ax.axis((-0.05, 2, -1, 25))"
   ]
  },
  {
   "attachments": {
    "image.png": {
     "image/png": "[encoded data removed]"
    }
   },
   "cell_type": "markdown",
   "metadata": {},
   "source": [
    "### 高次模型的回归\n",
    "![image.png](attachment:image.png)"
   ]
  },
  {
   "cell_type": "code",
   "execution_count": 30,
   "metadata": {},
   "outputs": [],
   "source": [
    "# 设定数据量\n",
    "nsample = 100"
   ]
  },
  {
   "cell_type": "code",
   "execution_count": 35,
   "metadata": {},
   "outputs": [],
   "source": [
    "# 创建一个 array，x1 的值从 0 到 10 等差排列\n",
    "x = np.linspace(0, 10, nsample)"
   ]
  },
  {
   "cell_type": "code",
   "execution_count": 36,
   "metadata": {},
   "outputs": [],
   "source": [
    "# 再创建一个 k×2 的 array，两列分别为 x1 和 x2。我们需要 x2 为 x1 的平方\n",
    "X = np.column_stack((x, x**2))"
   ]
  },
  {
   "cell_type": "code",
   "execution_count": 37,
   "metadata": {},
   "outputs": [],
   "source": [
    "# 在 array 上加入一列常项 1\n",
    "X = sm.add_constant(X)"
   ]
  },
  {
   "cell_type": "code",
   "execution_count": 38,
   "metadata": {},
   "outputs": [],
   "source": [
    "# 设置模型里的 β0,β1,β2，我们想设置成 1,0.1,10\n",
    "beta = np.array([1, 0.1, 10])"
   ]
  },
  {
   "cell_type": "code",
   "execution_count": 40,
   "metadata": {},
   "outputs": [],
   "source": [
    "#加上误差项\n",
    "e = np.random.normal(size=nsample)"
   ]
  },
  {
   "cell_type": "code",
   "execution_count": 41,
   "metadata": {},
   "outputs": [],
   "source": [
    "# 生成反应项 y(t)，它与 x1(t) 是二次多项式关系\n",
    "y = np.dot(X, beta) + e"
   ]
  },
  {
   "cell_type": "code",
   "execution_count": 42,
   "metadata": {},
   "outputs": [],
   "source": [
    "# 反应变量和回归变量上使用 OLS() 函数\n",
    "model = sm.OLS(y,X)"
   ]
  },
  {
   "cell_type": "code",
   "execution_count": 43,
   "metadata": {},
   "outputs": [],
   "source": [
    "results = model.fit()"
   ]
  },
  {
   "cell_type": "code",
   "execution_count": 44,
   "metadata": {},
   "outputs": [
    {
     "name": "stdout",
     "output_type": "stream",
     "text": [
      "[1.1330919489355438 0.1837487948499934 9.985370781669456]\n"
     ]
    }
   ],
   "source": [
    "print(results.params)"
   ]
  },
  {
   "cell_type": "code",
   "execution_count": 45,
   "metadata": {},
   "outputs": [
    {
     "name": "stdout",
     "output_type": "stream",
     "text": [
      "                            OLS Regression Results                            \n",
      "==============================================================================\n",
      "Dep. Variable:                      y   R-squared:                       1.000\n",
      "Model:                            OLS   Adj. R-squared:                  1.000\n",
      "Method:                 Least Squares   F-statistic:                 4.508e+06\n",
      "Date:                Thu, 02 Jun 2022   Prob (F-statistic):          1.09e-241\n",
      "Time:                        17:35:10   Log-Likelihood:                -140.75\n",
      "No. Observations:                 100   AIC:                             287.5\n",
      "Df Residuals:                      97   BIC:                             295.3\n",
      "Df Model:                           2                                         \n",
      "Covariance Type:            nonrobust                                         \n",
      "==============================================================================\n",
      "                 coef    std err          t      P>|t|      [0.025      0.975]\n",
      "------------------------------------------------------------------------------\n",
      "const          1.1331      0.295      3.838      0.000       0.547       1.719\n",
      "x1             0.1837      0.136      1.347      0.181      -0.087       0.455\n",
      "x2             9.9854      0.013    756.352      0.000       9.959      10.012\n",
      "==============================================================================\n",
      "Omnibus:                        1.298   Durbin-Watson:                   2.024\n",
      "Prob(Omnibus):                  0.522   Jarque-Bera (JB):                1.125\n",
      "Skew:                           0.052   Prob(JB):                        0.570\n",
      "Kurtosis:                       2.491   Cond. No.                         144.\n",
      "==============================================================================\n",
      "\n",
      "Warnings:\n",
      "[1] Standard Errors assume that the covariance matrix of the errors is correctly specified.\n"
     ]
    }
   ],
   "source": [
    "print(results.summary())"
   ]
  },
  {
   "cell_type": "code",
   "execution_count": 46,
   "metadata": {},
   "outputs": [
    {
     "data": {
      "text/plain": [
       "<matplotlib.legend.Legend at 0x7fe3d1cf26d8>"
      ]
     },
     "execution_count": 46,
     "metadata": {},
     "output_type": "execute_result"
    },
    {
     "data": {
      "image/png": "[encoded data removed]",
      "text/plain": [
       "<Figure size 576x432 with 1 Axes>"
      ]
     },
     "metadata": {
      "needs_background": "light"
     },
     "output_type": "display_data"
    }
   ],
   "source": [
    "y_fitted = results.fittedvalues\n",
    "fig, ax = plt.subplots(figsize=(8,6))\n",
    "ax.plot(x, y, 'o', label='data')\n",
    "ax.plot(x, y_fitted, 'r--.',label='OLS')\n",
    "ax.legend(loc='best')"
   ]
  },
  {
   "cell_type": "code",
   "execution_count": 47,
   "metadata": {},
   "outputs": [
    {
     "data": {
      "text/plain": [
       "(-0.05, 2, -1, 25)"
      ]
     },
     "execution_count": 47,
     "metadata": {},
     "output_type": "execute_result"
    },
    {
     "data": {
      "image/png": "[encoded data removed]",
      "text/plain": [
       "<Figure size 576x432 with 1 Axes>"
      ]
     },
     "metadata": {
      "needs_background": "light"
     },
     "output_type": "display_data"
    }
   ],
   "source": [
    "# 放大细节\n",
    "fig, ax = plt.subplots(figsize=(8,6))\n",
    "ax.plot(x, y, 'o', label='data')\n",
    "ax.plot(x, y_fitted, 'r--.',label='OLS')\n",
    "ax.legend(loc='best')\n",
    "ax.axis((-0.05, 2, -1, 25))"
   ]
  },
  {
   "attachments": {
    "image.png": {
     "image/png": "[encoded data removed]"
    }
   },
   "cell_type": "markdown",
   "metadata": {},
   "source": [
    "### 简单应用\n",
    "\n",
    "我们来做一个非常简单的实际应用。设 x 为上证指数的日收益率，y 为深证成指的日收益率。通过对股票市场的认知，我们认为 x 和 y 有很强的线性关系。因此可以假设模型\n",
    "\n",
    "![image.png](attachment:image.png)"
   ]
  },
  {
   "cell_type": "code",
   "execution_count": 51,
   "metadata": {},
   "outputs": [],
   "source": [
    "# 我们取上证指数和深证成指一年中的收盘价\n",
    "x_price = get_price('000001.XSHG', start_date='2015-01-01', end_date='2016-01-01', \n",
    "                    frequency='daily', fields=['close'])['close'].values\n",
    "y_price = get_price('399001.XSHE', start_date='2015-01-01', end_date='2016-01-01', \n",
    "                    frequency='daily', fields=['close'])['close'].values"
   ]
  },
  {
   "cell_type": "code",
   "execution_count": 53,
   "metadata": {},
   "outputs": [],
   "source": [
    "# 计算两个指数一年内的日收益率，记载于 x_pct 和 y_pct 两个 list 中\n",
    "x_pct, y_pct = [], []\n",
    "for i in range(1, len(x_price)):\n",
    "    x_pct.append(x_price[i]/x_price[i-1]-1)\n",
    "for i in range(1, len(y_price)):\n",
    "    y_pct.append(y_price[i]/y_price[i-1]-1)"
   ]
  },
  {
   "cell_type": "code",
   "execution_count": 54,
   "metadata": {},
   "outputs": [],
   "source": [
    "# 将数据转化为 array 的形式；不要忘记添加常数项\n",
    "x = np.array(x_pct)\n",
    "X = sm.add_constant(x)\n",
    "y = np.array(y_pct)"
   ]
  },
  {
   "cell_type": "code",
   "execution_count": 55,
   "metadata": {},
   "outputs": [
    {
     "name": "stdout",
     "output_type": "stream",
     "text": [
      "                            OLS Regression Results                            \n",
      "==============================================================================\n",
      "Dep. Variable:                      y   R-squared:                       0.846\n",
      "Model:                            OLS   Adj. R-squared:                  0.845\n",
      "Method:                 Least Squares   F-statistic:                     1325.\n",
      "Date:                Thu, 02 Jun 2022   Prob (F-statistic):          6.57e-100\n",
      "Time:                        17:44:09   Log-Likelihood:                 765.13\n",
      "No. Observations:                 243   AIC:                            -1526.\n",
      "Df Residuals:                     241   BIC:                            -1519.\n",
      "Df Model:                           1                                         \n",
      "Covariance Type:            nonrobust                                         \n",
      "==============================================================================\n",
      "                 coef    std err          t      P>|t|      [0.025      0.975]\n",
      "------------------------------------------------------------------------------\n",
      "const          0.0002      0.001      0.327      0.744      -0.001       0.002\n",
      "x1             0.9991      0.027     36.396      0.000       0.945       1.053\n",
      "==============================================================================\n",
      "Omnibus:                       41.395   Durbin-Watson:                   2.013\n",
      "Prob(Omnibus):                  0.000   Jarque-Bera (JB):               95.108\n",
      "Skew:                          -0.802   Prob(JB):                     2.23e-21\n",
      "Kurtosis:                       5.611   Cond. No.                         41.0\n",
      "==============================================================================\n",
      "\n",
      "Warnings:\n",
      "[1] Standard Errors assume that the covariance matrix of the errors is correctly specified.\n"
     ]
    }
   ],
   "source": [
    "results = sm.OLS(y, X).fit()\n",
    "print(results.summary())"
   ]
  },
  {
   "cell_type": "code",
   "execution_count": 56,
   "metadata": {},
   "outputs": [
    {
     "data": {
      "text/plain": [
       "<matplotlib.legend.Legend at 0x7fe3d1daf160>"
      ]
     },
     "execution_count": 56,
     "metadata": {},
     "output_type": "execute_result"
    },
    {
     "data": {
      "image/png": "[encoded data removed]",
      "text/plain": [
       "<Figure size 576x432 with 1 Axes>"
      ]
     },
     "metadata": {
      "needs_background": "light"
     },
     "output_type": "display_data"
    }
   ],
   "source": [
    "fig, ax = plt.subplots(figsize=(8,6))\n",
    "ax.plot(x, y, 'o', label=\"data\")\n",
    "ax.plot(x, results.fittedvalues, 'r--', label=\"OLS\")\n",
    "ax.legend(loc='best')"
   ]
  },
  {
   "cell_type": "markdown",
   "metadata": {},
   "source": [
    "https://www.jianshu.com/p/e20fa0879d95"
   ]
  },
  {
   "cell_type": "markdown",
   "metadata": {},
   "source": [
    "## 二、最优化"
   ]
  },
  {
   "cell_type": "markdown",
   "metadata": {},
   "source": [
    "### 梯度下降法\n",
    "梯度下降本身是沿梯度方向变化，对于一些友好的函数我们可以很容易找到最低点，但是对于一些复杂的函数，我们通过梯度下降不一定可以找到最低点。"
   ]
  },
  {
   "cell_type": "code",
   "execution_count": 57,
   "metadata": {},
   "outputs": [
    {
     "name": "stdout",
     "output_type": "stream",
     "text": [
      "Optimization terminated successfully.\n",
      "         Current function value: 0.000000\n",
      "         Iterations: 3\n",
      "         Function evaluations: 32\n",
      "         Gradient evaluations: 8\n"
     ]
    },
    {
     "data": {
      "text/plain": [
       "array([0.9999999919141427, 6.999999987663085])"
      ]
     },
     "execution_count": 57,
     "metadata": {},
     "output_type": "execute_result"
    }
   ],
   "source": [
    "from scipy import optimize\n",
    "# 这里的f 可以自定义，这里为了更加直观的演示，使用的是较为简单的函数。\n",
    "def f(x):\n",
    "    return 0.5*(1 - x[0])**2 + (x[1] - 7)**2\n",
    "#  梯度下降，这里我们要给出函数变量的初始值。\n",
    "optimize.fmin_cg(f,[0,0])"
   ]
  },
  {
   "cell_type": "code",
   "execution_count": 58,
   "metadata": {},
   "outputs": [
    {
     "name": "stdout",
     "output_type": "stream",
     "text": [
      "Optimization terminated successfully.\n",
      "         Current function value: 0.000000\n",
      "         Iterations: 3\n",
      "         Function evaluations: 8\n",
      "         Gradient evaluations: 8\n"
     ]
    },
    {
     "data": {
      "text/plain": [
       "array([0.9999999999999999, 7.0])"
      ]
     },
     "execution_count": 58,
     "metadata": {},
     "output_type": "execute_result"
    }
   ],
   "source": [
    "# 也可以主动传入函数的梯度(基于每个自变量求偏导)\n",
    "def fprime(x):\n",
    "    return np.array((-2*.5*(1 - x[0]), 2*(x[1] - 7)))\n",
    "optimize.fmin_cg(f, [0, 0], fprime=fprime)"
   ]
  },
  {
   "cell_type": "markdown",
   "metadata": {},
   "source": [
    "### 牛顿法\n",
    "\n",
    "牛顿法的基本思路是，在现有极小点估计值的附近对目标函数做二阶展开，进而找到极小点的下一个估计值。"
   ]
  },
  {
   "cell_type": "code",
   "execution_count": 59,
   "metadata": {},
   "outputs": [
    {
     "name": "stdout",
     "output_type": "stream",
     "text": [
      "Optimization terminated successfully.\n",
      "         Current function value: 0.000000\n",
      "         Iterations: 7\n",
      "         Function evaluations: 8\n",
      "         Gradient evaluations: 32\n",
      "         Hessian evaluations: 0\n",
      "Optimization terminated successfully.\n",
      "         Current function value: 0.000000\n",
      "         Iterations: 38\n",
      "         Function evaluations: 68\n",
      "         Gradient evaluations: 105\n",
      "         Hessian evaluations: 38\n"
     ]
    },
    {
     "data": {
      "text/plain": [
       "array([1.0, 7.000000003802888])"
      ]
     },
     "execution_count": 59,
     "metadata": {},
     "output_type": "execute_result"
    }
   ],
   "source": [
    "def f(x):\n",
    "    return 0.5*(1 - x[0])**2 + (x[1] - 7)**2\n",
    "# 一阶求导\n",
    "def fprime(x):\n",
    "    return np.array((-2*.5*(1 - x[0]), 2*(x[1] - 7)))\n",
    "# 二阶求导\n",
    "def hessian(x):\n",
    "    return np.array(-2*.5*x[0], 2*x[1])\n",
    "# 最少需要传入一阶导\n",
    "optimize.fmin_ncg(f,[200,800],fprime=fprime)\n",
    "optimize.fmin_ncg(f,[200,800],fprime=fprime, fhess=hessian)"
   ]
  },
  {
   "cell_type": "markdown",
   "metadata": {},
   "source": [
    "### 拟牛顿法\n",
    "BFGS: BFGS (Broyden-Fletcher-Goldfarb-Shanno算法) 改进了每一步对Hessian的近似。在一些正常的函数中，BFGS 虽然不如牛顿法快，但是还是比较快的。而且对于一些情况复杂的函数，BFGS 要比牛顿法好，因为它对 Hessian 进行了改进。"
   ]
  },
  {
   "cell_type": "code",
   "execution_count": 60,
   "metadata": {},
   "outputs": [
    {
     "name": "stdout",
     "output_type": "stream",
     "text": [
      "Optimization terminated successfully.\n",
      "         Current function value: 0.000000\n",
      "         Iterations: 5\n",
      "         Function evaluations: 9\n",
      "         Gradient evaluations: 9\n"
     ]
    },
    {
     "data": {
      "text/plain": [
       "array([1.0000003503948267, 6.999999953447061])"
      ]
     },
     "execution_count": 60,
     "metadata": {},
     "output_type": "execute_result"
    }
   ],
   "source": [
    "def f(x):\n",
    "    return 0.5*(1 - x[0])**2 + (x[1] - 7)**2\n",
    "# 一阶求导\n",
    "def fprime(x):\n",
    "    return np.array((-2*.5*(1 - x[0]), 2*(x[1] - 7)))\n",
    "optimize.fmin_bfgs(f,[200,800],fprime=fprime)"
   ]
  },
  {
   "cell_type": "markdown",
   "metadata": {},
   "source": [
    "L-BFGS: 限制内存的 BFGS 介于 BFGS 和梯度之间: 在非常高的维度 (> 250) 计算和翻转的Hessian矩阵的成本非常高。L-BFGS保留了低秩的版本。并且在这种情况下可以不为 L-BFGS 求解器传入梯度，添加 approx_grad = 1 即可。"
   ]
  },
  {
   "cell_type": "code",
   "execution_count": 63,
   "metadata": {},
   "outputs": [
    {
     "data": {
      "text/plain": [
       "(array([0.999999996595188, 7.000000003173628]),\n",
       " 1.586828437177446e-17,\n",
       " {'grad': array([1.5951879720119495e-09, 1.6347255005781383e-08]),\n",
       "  'task': b'CONVERGENCE: NORM_OF_PROJECTED_GRADIENT_<=_PGTOL',\n",
       "  'funcalls': 27,\n",
       "  'nit': 5,\n",
       "  'warnflag': 0})"
      ]
     },
     "execution_count": 63,
     "metadata": {},
     "output_type": "execute_result"
    }
   ],
   "source": [
    "optimize.fmin_l_bfgs_b(f,[200,800],approx_grad=1)"
   ]
  },
  {
   "cell_type": "code",
   "execution_count": 64,
   "metadata": {},
   "outputs": [
    {
     "data": {
      "text/plain": [
       "(array([1.0000000017863901, 7.00000000910477]),\n",
       " 8.449243656712068e-17,\n",
       " {'grad': array([1.786390146918393e-09, 1.820954054210233e-08]),\n",
       "  'task': b'CONVERGENCE: NORM_OF_PROJECTED_GRADIENT_<=_PGTOL',\n",
       "  'funcalls': 9,\n",
       "  'nit': 5,\n",
       "  'warnflag': 0})"
      ]
     },
     "execution_count": 64,
     "metadata": {},
     "output_type": "execute_result"
    }
   ],
   "source": [
    "optimize.fmin_l_bfgs_b(f,[200,800],fprime=fprime)"
   ]
  },
  {
   "cell_type": "markdown",
   "metadata": {},
   "source": [
    "### Powell 算法\n",
    "\n",
    "和梯度下降类似的方法"
   ]
  },
  {
   "cell_type": "code",
   "execution_count": 65,
   "metadata": {},
   "outputs": [
    {
     "name": "stdout",
     "output_type": "stream",
     "text": [
      "Optimization terminated successfully.\n",
      "         Current function value: 0.000000\n",
      "         Iterations: 2\n",
      "         Function evaluations: 36\n"
     ]
    },
    {
     "data": {
      "text/plain": [
       "array([1.0, 6.9999999999999964])"
      ]
     },
     "execution_count": 65,
     "metadata": {},
     "output_type": "execute_result"
    }
   ],
   "source": [
    "def f(x):\n",
    "    return 0.5*(1 - x[0])**2 + (x[1] - 7)**2\n",
    "# 一阶求导\n",
    "def fprime(x):\n",
    "    return np.array((-2*.5*(1 - x[0]), 2*(x[1] - 7)))\n",
    "optimize.fmin_powell(f,[0,0])"
   ]
  },
  {
   "cell_type": "markdown",
   "metadata": {},
   "source": [
    "### Nelder-Mead 算法\n",
    "\n",
    "对噪音很强壮，他不依赖于计算梯度。因此，它可以在局部光滑的函数上工作。但是，它在光滑、非噪音函数上比基于梯度的方法慢。"
   ]
  },
  {
   "cell_type": "code",
   "execution_count": 66,
   "metadata": {},
   "outputs": [
    {
     "name": "stdout",
     "output_type": "stream",
     "text": [
      "Optimization terminated successfully.\n",
      "         Current function value: 0.000000\n",
      "         Iterations: 49\n",
      "         Function evaluations: 93\n"
     ]
    },
    {
     "data": {
      "text/plain": [
       "array([0.999997964319626, 6.999959750679565])"
      ]
     },
     "execution_count": 66,
     "metadata": {},
     "output_type": "execute_result"
    }
   ],
   "source": [
    "def f(x):\n",
    "    return 0.5*(1 - x[0])**2 + (x[1] - 7)**2\n",
    "# 一阶求导\n",
    "def fprime(x):\n",
    "    return np.array((-2*.5*(1 - x[0]), 2*(x[1] - 7)))\n",
    "optimize.fmin(f, [2, 2])"
   ]
  },
  {
   "cell_type": "markdown",
   "metadata": {},
   "source": [
    "带有限制条件的优化\n",
    "更多的情况，我们需要关注的不仅仅是目标函数，同时还会对变量有一定的限制条件，下面分别介绍了三种限制条件：边界限制、等于限制、大于(小于)限制。"
   ]
  },
  {
   "cell_type": "markdown",
   "metadata": {},
   "source": [
    "### 边界限制\n",
    "\n",
    "最优解不会出现在指定边界以外的位置，即在指定边界内寻找最优解"
   ]
  },
  {
   "cell_type": "code",
   "execution_count": 67,
   "metadata": {},
   "outputs": [
    {
     "data": {
      "text/plain": [
       "(array([1.0, 9.0]),\n",
       " 4.0,\n",
       " {'grad': array([0.0, 4.000000330961484]),\n",
       "  'task': b'CONVERGENCE: NORM_OF_PROJECTED_GRADIENT_<=_PGTOL',\n",
       "  'funcalls': 3,\n",
       "  'nit': 0,\n",
       "  'warnflag': 0})"
      ]
     },
     "execution_count": 67,
     "metadata": {},
     "output_type": "execute_result"
    }
   ],
   "source": [
    "def f(x):\n",
    "    return 0.5*(1 - x[0])**2 + (x[1] - 7)**2\n",
    "# 一阶求导\n",
    "def fprime(x):\n",
    "    return np.array((-2*.5*(1 - x[0]), 2*(x[1] - 7)))\n",
    "# 这里限制了 x[0] 的取值在(1,2), x[1] 的取值在(9,19)\n",
    "optimize.fmin_l_bfgs_b(f, [0,0], approx_grad=1, bounds=((1,2),(9,19)))"
   ]
  },
  {
   "cell_type": "markdown",
   "metadata": {},
   "source": [
    "### 等于限制\n",
    "\n",
    "最优解会满足等于限制条件，即在指定等于限制条件内寻找最优解。"
   ]
  },
  {
   "cell_type": "code",
   "execution_count": 68,
   "metadata": {},
   "outputs": [
    {
     "name": "stdout",
     "output_type": "stream",
     "text": [
      "Optimization terminated successfully.    (Exit mode 0)\n",
      "            Current function value: 0.7071067813854752\n",
      "            Iterations: 5\n",
      "            Function evaluations: 20\n",
      "            Gradient evaluations: 5\n"
     ]
    },
    {
     "data": {
      "text/plain": [
       "array([2.500011860154142, 1.4999881398458583])"
      ]
     },
     "execution_count": 68,
     "metadata": {},
     "output_type": "execute_result"
    }
   ],
   "source": [
    "def f(x):\n",
    "    return np.sqrt((x[0] - 3)**2 + (x[1] - 2)**2)\n",
    "# 自定义限制条件\n",
    "def constraint(x):\n",
    "    return x[0]+x[1] - 4\n",
    "#   eqcons == 0.0 \n",
    "optimize.fmin_slsqp(f, np.array([0, 0]), eqcons=[constraint,])"
   ]
  },
  {
   "cell_type": "markdown",
   "metadata": {},
   "source": [
    "### 大于限制\n",
    "\n",
    "最优解会满足大于限制条件，即在大于限制条件内寻找最优解。"
   ]
  },
  {
   "cell_type": "code",
   "execution_count": 69,
   "metadata": {},
   "outputs": [
    {
     "name": "stdout",
     "output_type": "stream",
     "text": [
      "Optimization terminated successfully.    (Exit mode 0)\n",
      "            Current function value: 2.634138291391657e-06\n",
      "            Iterations: 21\n",
      "            Function evaluations: 102\n",
      "            Gradient evaluations: 21\n"
     ]
    },
    {
     "data": {
      "text/plain": [
       "array([2.9999996522178796, 1.9999973889212699])"
      ]
     },
     "execution_count": 69,
     "metadata": {},
     "output_type": "execute_result"
    }
   ],
   "source": [
    "def f(x):\n",
    "    return np.sqrt((x[0] - 3)**2 + (x[1] - 2)**2)\n",
    "# 自定义限制条件\n",
    "def constraint(x):\n",
    "    return x[0]+x[1] - 4\n",
    "#   eqcons >= 0.0 \n",
    "optimize.fmin_slsqp(f, np.array([0, 0]), ieqcons=[constraint,])"
   ]
  },
  {
   "cell_type": "markdown",
   "metadata": {},
   "source": [
    "## 三 求导\n",
    "\n",
    "https://blog.csdn.net/dontla/article/details/106201901\n",
    "\n",
    "SymPy是一个符号计算的Python库。它的目标是成为一个全功能的计算机代数系统，同时保持代码简洁、易于理解和扩展。它完全由Python写成，不依赖于外部库。\n",
    "\n",
    "SymPy支持符号计算、高精度计算、模式匹配、绘图、解方程、微积分、组合数学、离散数学、几何学、概率与统计、物理学等方面的功能。\n"
   ]
  },
  {
   "cell_type": "code",
   "execution_count": null,
   "metadata": {},
   "outputs": [],
   "source": [
    "from sympy import symbols, diff"
   ]
  },
  {
   "cell_type": "code",
   "execution_count": 78,
   "metadata": {},
   "outputs": [
    {
     "name": "stdout",
     "output_type": "stream",
     "text": [
      "2*x\n"
     ]
    }
   ],
   "source": [
    "# 求已定义函数的导数/偏导\n",
    "def f(a, b):\n",
    "    return a ** 2 + b ** 3\n",
    "\n",
    "x, y = symbols('x y', real=True)\n",
    "print(diff(f(x, y), x))  # 2*x"
   ]
  },
  {
   "cell_type": "code",
   "execution_count": 77,
   "metadata": {},
   "outputs": [
    {
     "name": "stdout",
     "output_type": "stream",
     "text": [
      "3*y**2\n"
     ]
    }
   ],
   "source": [
    "# 直接代入函数式求导数/偏导\n",
    "x, y = symbols('x y', real=True)\n",
    "print(diff(x ** 2 + y ** 3, y))"
   ]
  },
  {
   "cell_type": "code",
   "execution_count": 76,
   "metadata": {},
   "outputs": [
    {
     "name": "stdout",
     "output_type": "stream",
     "text": [
      "3\n"
     ]
    }
   ],
   "source": [
    "# 用subs()函数求指定位置的导数/偏导值\n",
    "x, y = symbols('x y', real=True)\n",
    "print(diff(x ** 2 + y ** 3, y).subs({x: 3, y: 1}))  # 3"
   ]
  },
  {
   "cell_type": "code",
   "execution_count": 83,
   "metadata": {},
   "outputs": [
    {
     "name": "stdout",
     "output_type": "stream",
     "text": [
      "4.999999999866223\n",
      "80.00000000230045\n",
      "405.00000005749826\n"
     ]
    }
   ],
   "source": [
    "from scipy.misc import derivative\n",
    "def f(x):\n",
    "    return x**5\n",
    "# 一阶导数\n",
    "for x in range(1, 4):\n",
    "    print(derivative(f, x, dx=1e-6))"
   ]
  },
  {
   "cell_type": "code",
   "execution_count": 82,
   "metadata": {},
   "outputs": [
    {
     "name": "stdout",
     "output_type": "stream",
     "text": [
      "19.999335520992645\n",
      "160.02132952053216\n",
      "540.0124791776761\n"
     ]
    }
   ],
   "source": [
    "# 二阶导数\n",
    "for x in range(1, 4):\n",
    "    print(derivative(f, x, dx=1e-6, n = 2))"
   ]
  },
  {
   "cell_type": "code",
   "execution_count": null,
   "metadata": {},
   "outputs": [],
   "source": [
    "\n",
    "p = np.poly1d([1,2,0,3,0,5])\n",
    "print(p)\n",
    "for i in range(1, 4):\n",
    "    print(np.polyder(p,i))\n",
    "    print(np.polyder(p,i)(1.0))\n",
    "\n",
    "for i in range(1, 4):\n",
    "    print(p.deriv(i)\n",
    "    print(p.deriv(i)(1.0)"
   ]
  }
 ],
 "metadata": {
  "kernelspec": {
   "display_name": "Python 3",
   "language": "python",
   "name": "python3"
  },
  "language_info": {
   "codemirror_mode": {
    "name": "ipython",
    "version": 3
   },
   "file_extension": ".py",
   "mimetype": "text/x-python",
   "name": "python",
   "nbconvert_exporter": "python",
   "pygments_lexer": "ipython3",
   "version": "3.6.7"
  },
  "toc": {
   "base_numbering": 1,
   "nav_menu": {},
   "number_sections": false,
   "sideBar": true,
   "skip_h1_title": false,
   "title_cell": "MarkDown菜单",
   "title_sidebar": "Contents",
   "toc_cell": false,
   "toc_position": {},
   "toc_section_display": true,
   "toc_window_display": false
  }
 },
 "nbformat": 4,
 "nbformat_minor": 2
}
