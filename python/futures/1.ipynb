{
 "cells": [
  {
   "cell_type": "markdown",
   "id": "047d6cb3-1658-4ceb-81dc-11b1b31432a6",
   "metadata": {},
   "source": [
    "我有一个期货数据10分钟粒度的csv，格式如下 \n",
    "```\n",
    "timestamps,open,high,low,close,volume,amount \n",
    "2025-07-21 21:20:00,2323.0,2324.0,2321.0,2323.0,16579.0,385041430.0 \n",
    "```\n",
    "交易时间是 \n",
    "1. 上午：9:00 - 11:30 \n",
    "2. 下午：13:30 - 15:00； \n",
    "3. 晚上：21:00 - 23:00 \n",
    "\n",
    "我想统计上午、下午、晚上开盘后半小时内的和开盘后半小时外的波动率是否有显著差异。"
   ]
  },
  {
   "cell_type": "markdown",
   "id": "1465c675-718a-4596-80b0-a7a068ecd4aa",
   "metadata": {},
   "source": [
    "## 🧩 一、问题目标\n",
    "\n",
    "比较期货在 **开盘后半小时内** 与 **开盘后半小时外** 的波动率是否有显著差异，分别针对：\n",
    "\n",
    "* 上午盘：09:00 - 11:30\n",
    "* 下午盘：13:30 - 15:00\n",
    "* 夜盘：21:00 - 23:00"
   ]
  },
  {
   "cell_type": "markdown",
   "id": "b764f499-6d3d-43d1-a1b8-b973a3a223a3",
   "metadata": {},
   "source": [
    "## 🧮 二、关键定义\n",
    "\n",
    "### 1. 波动率的定义（可选几种）\n",
    "\n",
    "我们可以选择：\n",
    "\n",
    "* **收盘价收益率标准差**：\n",
    "  $$\n",
    "  \\sigma = \\text{std}(\\ln(P_t / P_{t-1}))\n",
    "  $$\n",
    "* 或者使用 **高低价波动率**：\n",
    "  $$\n",
    "  \\sigma = \\ln(\\text{high}) - \\ln(\\text{low})\n",
    "  $$\n",
    "  通常建议用 **收益率标准差**，更稳定。\n",
    "\n",
    "### 2. 前后半小时的区间定义（10分钟K线）\n",
    "\n",
    "每个交易时段按10分钟划分：\n",
    "\n",
    "| 时段  | 开盘后半小时内        | 开盘后半小时外        |\n",
    "| --- | ------------- | ------------- |\n",
    "| 上午盘 | 09:00 - 09:30 | 09:30 - 11:30 |\n",
    "| 下午盘 | 13:30 - 14:00 | 14:00 - 15:00 |\n",
    "| 夜盘  | 21:00 - 21:30 | 21:30 - 23:00 |\n"
   ]
  },
  {
   "cell_type": "markdown",
   "id": "e144aabd-0135-4737-89d4-8b30f448107a",
   "metadata": {},
   "source": [
    "## 🧠 三、实现思路（pandas 实现）\n",
    "\n",
    "假设文件名为 `data/C9999.XDCE.10m.20251018.csv`。"
   ]
  },
  {
   "cell_type": "markdown",
   "id": "0f298543-7e35-4d30-bfe4-3ea34de63b0f",
   "metadata": {},
   "source": [
    "### 步骤 1：加载并预处理"
   ]
  },
  {
   "cell_type": "code",
   "execution_count": null,
   "id": "78d1fec4-cc1b-46f4-85bb-4de68fdf061c",
   "metadata": {},
   "outputs": [],
   "source": [
    "import pandas as pd\n",
    "import numpy as np\n",
    "\n",
    "df = pd.read_csv(\"data/C9999.XDCE.10m.20251018.csv\", parse_dates=[\"timestamps\"])\n",
    "df = df.sort_values(\"timestamps\")"
   ]
  },
  {
   "cell_type": "code",
   "execution_count": null,
   "id": "369594a0-bfa3-4546-bf0a-82a50ff701ab",
   "metadata": {},
   "outputs": [],
   "source": [
    "df['close'].plot()"
   ]
  },
  {
   "cell_type": "markdown",
   "id": "0dc0bcd2-04fd-4f8c-bdf8-f8d6fc6f6067",
   "metadata": {},
   "source": [
    "### 步骤 2：计算收益率"
   ]
  },
  {
   "cell_type": "code",
   "execution_count": null,
   "id": "7a8e8f29-5f1b-4836-9409-e434d4b23745",
   "metadata": {},
   "outputs": [],
   "source": [
    "df[\"ret\"] = np.log(df[\"close\"]).diff()"
   ]
  },
  {
   "cell_type": "code",
   "execution_count": null,
   "id": "a7ccb1b7-dc29-41f2-b20a-03e74f9bf50b",
   "metadata": {},
   "outputs": [],
   "source": [
    "df[\"ret\"].plot()"
   ]
  },
  {
   "cell_type": "markdown",
   "id": "cb88485d-cc95-4646-81ce-e19476c1865b",
   "metadata": {},
   "source": [
    "极值处理"
   ]
  },
  {
   "cell_type": "code",
   "execution_count": null,
   "id": "aa89132f-3bff-4d70-a2c4-81a5aefa198f",
   "metadata": {},
   "outputs": [],
   "source": [
    "q_low, q_high = df[\"ret\"].quantile(0.01), df[\"ret\"].quantile(0.99)\n",
    "df[\"ret\"] = df[\"ret\"].clip(q_low, q_high)"
   ]
  },
  {
   "cell_type": "code",
   "execution_count": null,
   "id": "145427bb-da2f-4d27-851b-f77a1c23d45a",
   "metadata": {},
   "outputs": [],
   "source": [
    "df[\"ret\"].plot()"
   ]
  },
  {
   "cell_type": "code",
   "execution_count": null,
   "id": "f4b627f0-e615-4807-a41c-c4188a3f9ce0",
   "metadata": {},
   "outputs": [],
   "source": [
    "import matplotlib.pyplot as plt\n",
    "\n",
    "plt.figure(figsize=(10,5))\n",
    "df[\"ret\"].hist(bins=100, alpha=0.6, label=\"Winsorized ret\")\n",
    "plt.legend()\n",
    "plt.title(\"Distribution of Returns after Outlier Clipping\")\n",
    "plt.show()"
   ]
  },
  {
   "cell_type": "markdown",
   "id": "d7f28309-3b0b-4fa6-9917-965028677d89",
   "metadata": {},
   "source": [
    "### 步骤 3：提取交易日、时段"
   ]
  },
  {
   "cell_type": "code",
   "execution_count": null,
   "id": "15847420-2469-4735-a1cb-f7b186035455",
   "metadata": {},
   "outputs": [],
   "source": [
    "df[\"date\"] = df[\"timestamps\"].dt.date\n",
    "df[\"time\"] = df[\"timestamps\"].dt.time"
   ]
  },
  {
   "cell_type": "code",
   "execution_count": null,
   "id": "3f322b78-f25f-406e-99a0-6573e673917a",
   "metadata": {},
   "outputs": [],
   "source": [
    "df.head()"
   ]
  },
  {
   "cell_type": "markdown",
   "id": "1fe258f2-f900-456c-b73c-d7a5ae9d1eb6",
   "metadata": {},
   "source": [
    "## ⏰ 四、定义时段函数"
   ]
  },
  {
   "cell_type": "code",
   "execution_count": null,
   "id": "8e5c7e68-9d8b-4d9b-bd0a-66ee9a90e3af",
   "metadata": {},
   "outputs": [],
   "source": [
    "from datetime import time\n",
    "\n",
    "def get_session_period(t):\n",
    "    if time(9,0) <= t < time(11,30):\n",
    "        return \"morning\"\n",
    "    elif time(13,30) <= t < time(15,0):\n",
    "        return \"afternoon\"\n",
    "    elif time(21,0) <= t < time(23,0):\n",
    "        return \"night\"\n",
    "    else:\n",
    "        return None"
   ]
  },
  {
   "cell_type": "code",
   "execution_count": null,
   "id": "57589875-4b16-49a1-8890-b30de41f77f0",
   "metadata": {},
   "outputs": [],
   "source": [
    "df[\"session\"] = df[\"timestamps\"].dt.time.apply(get_session_period)"
   ]
  },
  {
   "cell_type": "code",
   "execution_count": null,
   "id": "88a0c7eb-58e6-4895-9847-d78ac3470b30",
   "metadata": {},
   "outputs": [],
   "source": [
    "df['session'].value_counts()"
   ]
  },
  {
   "cell_type": "markdown",
   "id": "390334cb-00b5-4f2c-ae7c-a53dbbf0be48",
   "metadata": {},
   "source": [
    "## 📊 五、提取开盘前后半小时，所有交易日循环统计"
   ]
  },
  {
   "cell_type": "code",
   "execution_count": null,
   "id": "2fe882d4-19bf-4525-8d1b-447b383a703c",
   "metadata": {},
   "outputs": [],
   "source": [
    "periods = {\n",
    "    \"morning\": {\n",
    "        \"before\": (time(9,0), time(9,30)),\n",
    "        \"after\": (time(9,30), time(11,30)),\n",
    "    },\n",
    "    \"afternoon\": {\n",
    "        \"before\": (time(13,30), time(14,0)),\n",
    "        \"after\": (time(14,0), time(15,0)),\n",
    "    },\n",
    "    \"night\": {\n",
    "        \"before\": (time(21,0), time(21,30)),\n",
    "        \"after\": (time(21,30), time(23,0)),\n",
    "    }\n",
    "}\n",
    "\n",
    "records = []\n",
    "\n",
    "for d, group in df.groupby(\"date\"):\n",
    "    for session, p in periods.items():\n",
    "        before_mask = (group[\"time\"] >= p[\"before\"][0]) & (group[\"time\"] < p[\"before\"][1])\n",
    "        after_mask  = (group[\"time\"] >= p[\"after\"][0]) & (group[\"time\"] < p[\"after\"][1])\n",
    "        \n",
    "        before_vol = group.loc[before_mask, \"ret\"].std()\n",
    "        after_vol  = group.loc[after_mask, \"ret\"].std()\n",
    "        \n",
    "        if not np.isnan(before_vol) and not np.isnan(after_vol):\n",
    "            records.append({\n",
    "                \"date\": d,\n",
    "                \"session\": session,\n",
    "                \"before_vol\": before_vol,\n",
    "                \"after_vol\": after_vol\n",
    "            })\n",
    "\n",
    "vol_df = pd.DataFrame(records)"
   ]
  },
  {
   "cell_type": "code",
   "execution_count": null,
   "id": "fbeeefe1-8977-4e58-ae89-e728d2c25d85",
   "metadata": {},
   "outputs": [],
   "source": [
    "vol_df"
   ]
  },
  {
   "cell_type": "markdown",
   "id": "69592951-a961-45cb-bf08-7e6d80af3dd6",
   "metadata": {},
   "source": [
    "## 🧪 六、显著性检验（配对样本 t 检验）"
   ]
  },
  {
   "cell_type": "code",
   "execution_count": null,
   "id": "595afa15-f43f-472f-a759-fe8201f8b604",
   "metadata": {},
   "outputs": [],
   "source": [
    "from scipy.stats import ttest_rel\n",
    "\n",
    "for s in [\"morning\", \"afternoon\", \"night\"]:\n",
    "    sub = vol_df[vol_df[\"session\"] == s].dropna()\n",
    "    t, p = ttest_rel(sub[\"before_vol\"], sub[\"after_vol\"])\n",
    "    print(f\"{s}：t={t:.3f}, p={p:.4f}\")"
   ]
  },
  {
   "cell_type": "markdown",
   "id": "25e25254-8a06-4258-9cd3-5a370fe07a2c",
   "metadata": {},
   "source": [
    "> 若 p < 0.05，则认为开盘前后半小时波动率显著不同。"
   ]
  },
  {
   "cell_type": "markdown",
   "id": "3f925af6-5864-4028-8787-bf056b5d15f1",
   "metadata": {},
   "source": [
    "## 📈 七、可视化建议"
   ]
  },
  {
   "cell_type": "code",
   "execution_count": null,
   "id": "a0f10c91-c560-4587-9076-16dd8c5fa828",
   "metadata": {},
   "outputs": [],
   "source": [
    "import matplotlib.pyplot as plt\n",
    "\n",
    "plt.figure(figsize=(8,5))\n",
    "vol_df.boxplot(column=[\"before_vol\",\"after_vol\"], by=\"session\")\n",
    "plt.suptitle(\"\")\n",
    "plt.title(\"Volatility Before vs After Open by Session\")\n",
    "plt.ylabel(\"Volatility (std of returns)\")\n",
    "plt.show()\n"
   ]
  },
  {
   "cell_type": "code",
   "execution_count": null,
   "id": "10d9862f-a6b9-4b95-9722-1c1eda1985fc",
   "metadata": {},
   "outputs": [],
   "source": []
  }
 ],
 "metadata": {
  "kernelspec": {
   "display_name": "Python 3 (ipykernel)",
   "language": "python",
   "name": "python3"
  },
  "language_info": {
   "codemirror_mode": {
    "name": "ipython",
    "version": 3
   },
   "file_extension": ".py",
   "mimetype": "text/x-python",
   "name": "python",
   "nbconvert_exporter": "python",
   "pygments_lexer": "ipython3",
   "version": "3.11.9"
  }
 },
 "nbformat": 4,
 "nbformat_minor": 5
}
