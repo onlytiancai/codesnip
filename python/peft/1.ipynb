{
 "cells": [
  {
   "cell_type": "markdown",
   "id": "77f640e0-5157-4742-ba70-6b6f8f3cd76a",
   "metadata": {},
   "source": [
    "https://huggingface.co/docs/peft/quicktour"
   ]
  },
  {
   "cell_type": "markdown",
   "id": "f9062bc1-17a3-4ce9-ab2c-8851e2c9ea27",
   "metadata": {},
   "source": [
    "关闭多线程分词，避免多进程冲突警告。\n",
    "\n",
    "Hugging Face 的 tokenizers 库在后台使用 Rust 多线程加速（并行分词）。\n",
    "但是，当 Python 的 multiprocessing 在已经启用了并行的情况下调用 fork() 时，会触发这个警告，以避免潜在的死锁。"
   ]
  },
  {
   "cell_type": "code",
   "execution_count": 1,
   "id": "600a81ac-50c6-4367-ad12-7f5ef781e48e",
   "metadata": {},
   "outputs": [],
   "source": [
    "import os\n",
    "os.environ[\"TOKENIZERS_PARALLELISM\"] = \"false\"  # 禁用分词器并行警告\n",
    "os.environ[\"PYTORCH_ENABLE_MPS_FALLBACK\"] = \"1\"  # 允许 MPS 不支持的算子自动 fallback 到 CPU"
   ]
  },
  {
   "cell_type": "code",
   "execution_count": 2,
   "id": "58a1b6ad-fd33-4862-a63c-728f2295e242",
   "metadata": {},
   "outputs": [],
   "source": [
    "import torch\n",
    "device = torch.device(\"mps\" if torch.backends.mps.is_available() else \"cpu\")"
   ]
  },
  {
   "cell_type": "code",
   "execution_count": 3,
   "id": "a639d6c8-1b96-4d44-92ea-2d5ecb5ea730",
   "metadata": {},
   "outputs": [],
   "source": [
    "import numpy as np"
   ]
  },
  {
   "cell_type": "markdown",
   "id": "af083a78-ca1e-474b-bb04-ecdb6c6a7e51",
   "metadata": {},
   "source": [
    "## 一、使用 bigscience/mt0-large"
   ]
  },
  {
   "cell_type": "code",
   "execution_count": 5,
   "id": "683a7fec-785b-4679-8b92-1bd303950d01",
   "metadata": {},
   "outputs": [
    {
     "name": "stdout",
     "output_type": "stream",
     "text": [
      "嗨,你怎麼樣?\n"
     ]
    }
   ],
   "source": [
    "from transformers import AutoTokenizer, AutoModelForSeq2SeqLM\n",
    "\n",
    "model_name = \"bigscience/mt0-base\"\n",
    "tokenizer = AutoTokenizer.from_pretrained(model_name)\n",
    "model = AutoModelForSeq2SeqLM.from_pretrained(model_name)\n",
    "model = model.to(device)\n",
    "\n",
    "inputs = tokenizer(\"Translate English to Chinese: Hello, how are you?\", return_tensors=\"pt\").to(device)\n",
    "outputs = model.generate(**inputs)\n",
    "print(tokenizer.decode(outputs[0], skip_special_tokens=True))"
   ]
  },
  {
   "cell_type": "markdown",
   "id": "1039b3bd-537e-4cb1-bda8-db4a246b0ccf",
   "metadata": {},
   "source": [
    "## 二、微调训练"
   ]
  },
  {
   "cell_type": "markdown",
   "id": "dba10a25-cbf2-4f41-b108-57b780405907",
   "metadata": {},
   "source": [
    "每个 PEFT 方法都由一个 PeftConfig 类定义，该类存储构建 PeftModel 所需的所有重要参数。\n",
    "\n",
    "例如，要使用 LoRa 进行训练，请加载并创建一个 LoraConfig 类。"
   ]
  },
  {
   "cell_type": "markdown",
   "id": "8cd45da2-0ef5-4da3-a81c-75f5c839ffbc",
   "metadata": {},
   "source": [
    "- task_type ：要训练的任务（本例中为序列到序列语言建模）\n",
    "- inference_mode ：是否使用该模型进行推理\n",
    "- r ：低秩矩阵的维数\n",
    "- lora_alpha ：低秩矩阵的缩放因子\n",
    "- lora_dropout ：LoRa 层的 dropout 概率"
   ]
  },
  {
   "cell_type": "code",
   "execution_count": 6,
   "id": "d8d297e5-e2f3-428d-8eda-fc9ee375f0c3",
   "metadata": {},
   "outputs": [],
   "source": [
    "from peft import LoraConfig, TaskType\n",
    "peft_config = LoraConfig(task_type=TaskType.SEQ_2_SEQ_LM,  inference_mode=False, r=4, lora_alpha=8, lora_dropout=0.05)"
   ]
  },
  {
   "cell_type": "markdown",
   "id": "aee869fa-4979-4651-92a7-6d582e909a79",
   "metadata": {},
   "source": [
    "LoraConfig 设置完成后，使用 get_peft_model() 函数创建一个 PeftModel 。\n",
    "\n",
    "该函数接受一个基础模型（可以从 Transformers 库加载）和一个 LoraConfig， 其中包含用于配置模型以使用 LoRA 进行训练的参数。"
   ]
  },
  {
   "cell_type": "code",
   "execution_count": 7,
   "id": "c9292bf7-8b89-4a5b-98e1-45196a9ed5e2",
   "metadata": {},
   "outputs": [
    {
     "name": "stdout",
     "output_type": "stream",
     "text": [
      "trainable params: 442,368 || all params: 582,843,648 || trainable%: 0.0759\n"
     ]
    }
   ],
   "source": [
    "from peft import get_peft_model\n",
    "\n",
    "model = get_peft_model(model, peft_config)\n",
    "model.print_trainable_parameters()"
   ]
  },
  {
   "cell_type": "markdown",
   "id": "9b81e753-5e0f-4e40-a41c-ebd934a11f6b",
   "metadata": {},
   "source": [
    "现在你可以使用 Transformers Trainer 、Accelerate 或任何自定义的 PyTorch 训练循环来训练模型了。\n",
    "\n",
    "例如，要使用 Trainer 类进行训练，请设置一个 TrainingArguments 类，并设置一些训练超参数。"
   ]
  },
  {
   "cell_type": "markdown",
   "id": "2656a75f-f21b-4783-ac23-d258643aa16c",
   "metadata": {},
   "source": [
    "加载一个翻译数据集，英文到中文"
   ]
  },
  {
   "cell_type": "code",
   "execution_count": 8,
   "id": "565dd5f6-96c1-4b31-8e7a-ff8a4579626b",
   "metadata": {},
   "outputs": [],
   "source": [
    "from datasets import load_dataset\n",
    "dataset = load_dataset(\"opus100\", \"en-zh\", split=\"train[:1%]\").train_test_split(test_size=0.1)"
   ]
  },
  {
   "cell_type": "code",
   "execution_count": 9,
   "id": "483c2ab3-cba1-4023-8d66-c052730cb6fd",
   "metadata": {},
   "outputs": [
    {
     "data": {
      "text/plain": [
       "DatasetDict({\n",
       "    train: Dataset({\n",
       "        features: ['translation'],\n",
       "        num_rows: 9000\n",
       "    })\n",
       "    test: Dataset({\n",
       "        features: ['translation'],\n",
       "        num_rows: 1000\n",
       "    })\n",
       "})"
      ]
     },
     "execution_count": 9,
     "metadata": {},
     "output_type": "execute_result"
    }
   ],
   "source": [
    "dataset"
   ]
  },
  {
   "cell_type": "code",
   "execution_count": 10,
   "id": "03293237-0dc2-484a-8986-570ced432883",
   "metadata": {},
   "outputs": [
    {
     "data": {
      "text/plain": [
       "{'translation': [{'en': 'Main professional activities', 'zh': '主要专业活动'},\n",
       "  {'en': 'At the same meeting, the Commission adopted the draft report on its eighth session and entrusted the Rapporteur with its completion.',\n",
       "   'zh': '2. 在同次会议上，委员会通过了其第八届会议报告草稿，并委托报告员完成此项工作。'},\n",
       "  {'en': 'K0581557 xx0505', 'zh': '为节省开支，本文件仅作少量印发。'}]}"
      ]
     },
     "execution_count": 10,
     "metadata": {},
     "output_type": "execute_result"
    }
   ],
   "source": [
    "dataset[\"train\"][:3]"
   ]
  },
  {
   "cell_type": "markdown",
   "id": "a90fecfc-a90a-4c87-a6e3-e2101d5020ce",
   "metadata": {},
   "source": [
    "对数据进行预处理"
   ]
  },
  {
   "cell_type": "code",
   "execution_count": 11,
   "id": "68d7b276-60d7-4d26-880e-71728b3199e0",
   "metadata": {},
   "outputs": [
    {
     "data": {
      "application/vnd.jupyter.widget-view+json": {
       "model_id": "a9f2fa500858406aa6e855ff6caf7f63",
       "version_major": 2,
       "version_minor": 0
      },
      "text/plain": [
       "Map:   0%|          | 0/9000 [00:00<?, ? examples/s]"
      ]
     },
     "metadata": {},
     "output_type": "display_data"
    },
    {
     "data": {
      "application/vnd.jupyter.widget-view+json": {
       "model_id": "16556db15a654cb082d534c88bf4b025",
       "version_major": 2,
       "version_minor": 0
      },
      "text/plain": [
       "Map:   0%|          | 0/1000 [00:00<?, ? examples/s]"
      ]
     },
     "metadata": {},
     "output_type": "display_data"
    }
   ],
   "source": [
    "# 定义预处理函数：把原始文本构造成给模型的 prompt，并进行分词\n",
    "def preprocess(examples):\n",
    "    # 构造输入 prompt（mt0 是 instruction-style，因此加上任务说明）   \n",
    "    inputs = [f\"translate English to Chinese: {ex['en']}\" for ex in examples[\"translation\"]] # 把每个英文句子包装成翻译指令\n",
    "    targets = [ex[\"zh\"] for ex in examples[\"translation\"]]\n",
    "\n",
    "    # 使用 tokenizer 对 inputs 做编码（截断 + padding 到 max_length）\n",
    "    model_inputs = tokenizer(inputs, truncation=True, padding=\"max_length\", max_length=128)  # 编码输入，统一长度\n",
    "\n",
    "    # 对目标文本进行编码，得到 labels\n",
    "    labels = tokenizer(targets, truncation=True, padding=\"max_length\", max_length=128)  # 编码目标文本\n",
    "\n",
    "    # 将 labels 的 pad token 替换为 -100，这是 transformers 损失函数忽略的标记\n",
    "    # 这样在计算交叉熵时，对 pad 部分不会贡献损失\n",
    "    labels_input_ids = [\n",
    "        [(token if token != tokenizer.pad_token_id else -100) for token in label] for label in labels[\"input_ids\"]\n",
    "    ]  # 将 labels 中的 pad id 转为 -100\n",
    "\n",
    "    # 把处理好的 labels 放回 model_inputs 字典，Trainer 会读取 \"labels\" 字段用于计算 loss\n",
    "    model_inputs[\"labels\"] = labels_input_ids  # 为返回的数据添加 labels\n",
    "\n",
    "    # 返回最终的编码后的输入字典（包含 input_ids, attention_mask, labels）\n",
    "    return model_inputs  # 返回每个样本的字典\n",
    "\n",
    "# 把预处理函数映射到整个数据集（batched=True 表示按批次处理以加速）\n",
    "tokenized_datasets = dataset.map(preprocess, batched=True)  # 对 dataset 的每个 split 应用 preprocess 函数"
   ]
  },
  {
   "cell_type": "code",
   "execution_count": 12,
   "id": "2f5c3d2d-948c-41f6-a0e0-a467040c3e07",
   "metadata": {},
   "outputs": [
    {
     "data": {
      "text/plain": [
       "DatasetDict({\n",
       "    train: Dataset({\n",
       "        features: ['translation', 'input_ids', 'attention_mask', 'labels'],\n",
       "        num_rows: 9000\n",
       "    })\n",
       "    test: Dataset({\n",
       "        features: ['translation', 'input_ids', 'attention_mask', 'labels'],\n",
       "        num_rows: 1000\n",
       "    })\n",
       "})"
      ]
     },
     "execution_count": 12,
     "metadata": {},
     "output_type": "execute_result"
    }
   ],
   "source": [
    "tokenized_datasets"
   ]
  },
  {
   "cell_type": "code",
   "execution_count": 13,
   "id": "5e075faa-e9ec-4a36-8cfb-6c5ddf1bca55",
   "metadata": {},
   "outputs": [
    {
     "name": "stdout",
     "output_type": "stream",
     "text": [
      "Input: translate English to Chinese: Main professional activities\n",
      "Label: 主要专业活动\n"
     ]
    }
   ],
   "source": [
    "example = tokenized_datasets[\"train\"][0]\n",
    "print(\"Input:\", tokenizer.decode(example[\"input_ids\"], skip_special_tokens=True))\n",
    "print(\"Label:\", tokenizer.decode([id for id in example[\"labels\"] if id != -100], skip_special_tokens=True))"
   ]
  },
  {
   "cell_type": "markdown",
   "id": "80e4840d-0d9c-4d58-bb16-9993c0f01fe9",
   "metadata": {},
   "source": [
    "加载评测指标"
   ]
  },
  {
   "cell_type": "code",
   "execution_count": 14,
   "id": "f6b4f038-b7c0-4978-a2cf-8efa73abc25f",
   "metadata": {},
   "outputs": [],
   "source": [
    "import evaluate  # Hugging Face evaluate 库，用于加载评测指标\n",
    "# 加载评测指标（示例使用 sacrebleu 用于机器翻译）\n",
    "metric = evaluate.load(\"sacrebleu\")  # 加载 sacrebleu 指标用于 BLEU 风格评测"
   ]
  },
  {
   "cell_type": "code",
   "execution_count": 15,
   "id": "a7294095-f047-4d84-9de1-b1cb2667bf30",
   "metadata": {},
   "outputs": [],
   "source": [
    "# 定义 compute_metrics，用于 Trainer 在 eval 时计算指标\n",
    "def compute_metrics(eval_pred):\n",
    "    # eval_pred 的典型形式是 (predictions, labels)；这里 predictions 是生成器输出的 token id 矩阵\n",
    "    preds, labels = eval_pred  # 解包预测结果和标签\n",
    "\n",
    "    # 如果 predictions 是 logits（非生成模式），则需要取 argmax；但 predict_with_generate=True 时 preds 已是 token id\n",
    "    if isinstance(preds, tuple):  # 万一 preds 是 tuple（某些版本返回 logits 等），我们取第一个\n",
    "        preds = preds[0]\n",
    "\n",
    "    # 将预测中的 -100（如果有的话）替换为 tokenizer.pad_token_id，便于 decode\n",
    "    # 但正常生成结果里不应该有 -100，这里是稳健处理\n",
    "    preds = np.where(preds != -100, preds, tokenizer.pad_token_id)  # 将 -100 换为 pad id（以便 decode）\n",
    "\n",
    "    # 把预测和真实标签解码成字符串（跳过 special tokens）\n",
    "    decoded_preds = tokenizer.batch_decode(preds, skip_special_tokens=True)  # 解码预测文本\n",
    "    # labels 里仍可能有 -100，需要把它们换成 pad_token_id 再解码\n",
    "    labels = np.where(labels != -100, labels, tokenizer.pad_token_id)  # 将 labels 中的 -100 替回 pad id\n",
    "    decoded_labels = tokenizer.batch_decode(labels, skip_special_tokens=True)  # 解码真实文本\n",
    "\n",
    "    # sacrebleu 的 compute 需要 references 是 list of list 的形式：[[ref1], [ref2], ...]\n",
    "    references = [[l] for l in decoded_labels]  # 为每个样本创建单一引用列表\n",
    "\n",
    "    # 调用 sacrebleu 指标进行计算并返回结果字典（sacrebleu 返回 'score' 键表示 BLEU）\n",
    "    result = metric.compute(predictions=decoded_preds, references=references)  # 计算 sacrebleu 分数\n",
    "    # 将结果包装成 dict 返回，Trainer 会把它显示在 eval 输出里\n",
    "    return {\"bleu\": result[\"score\"]}  # 返回一个包含 BLEU 分数的字典"
   ]
  },
  {
   "cell_type": "markdown",
   "id": "f4082f25-a56d-4316-8bc6-5f0215c22452",
   "metadata": {},
   "source": [
    "训练参数"
   ]
  },
  {
   "cell_type": "code",
   "execution_count": 37,
   "id": "47f788e1-f559-4c53-bff0-bed2f9be80e5",
   "metadata": {},
   "outputs": [
    {
     "name": "stderr",
     "output_type": "stream",
     "text": [
      "PyTorch: setting up devices\n"
     ]
    }
   ],
   "source": [
    "from transformers import Seq2SeqTrainingArguments\n",
    "# ---- 训练参数 ----\n",
    "training_args = Seq2SeqTrainingArguments(\n",
    "    output_dir=\"./mt0-lora\",                  # 模型输出和检查点保存目录\n",
    "    per_device_train_batch_size=1,            # 每个 GPU/设备上的训练 batch size（根据显存调整）, # Mac上必须非常小，否则内存爆\n",
    "    per_device_eval_batch_size=1,             # 验证时的 batch size\n",
    "    gradient_accumulation_steps=8,            # # 模拟 batch size=8\n",
    "    learning_rate=5e-5,                       # 学习率，默认5e-5，内存小调低学习率\n",
    "    num_train_epochs=1,                       # 训练轮次，#先跑1个epoch测试稳定性\n",
    "    eval_strategy=\"epoch\",                    # 评估频率（这里设置为每个 epoch 评估一次）\n",
    "    predict_with_generate=True,               # 在评估时使用 generate() 来产生文本（必需用于语言生成任务）\n",
    "    save_strategy=\"epoch\",                    # epoch 表示每个 epoch 保存一次checkpoint），# no 不保存中间检查点，节省内存\n",
    "    logging_strategy=\"steps\",                 # 日志策略（按 steps）\n",
    "    logging_steps=10,                         # 每多少 step 打印一次日志\n",
    "    fp16=False,                               # 如果支持则开启半精度训练以节省显存（需要 CUDA + 支持）#  MPS 不支持 fp16\n",
    "    load_best_model_at_end=True,              # 在训练结束加载最佳验证结果对应的模型\n",
    "    dataloader_pin_memory=False,              # 在 CUDA 上能让 DataLoader 更快地把数据拷贝到 GPU。MPS 不支持\n",
    "    metric_for_best_model=\"bleu\",             # 根据哪个指标判断最佳模型\n",
    "    report_to=\"none\",                     # ✅ 不向wandb等发送日志\n",
    "    log_level=\"info\",                     # ✅ 输出日志到控制台\n",
    "    log_level_replica=\"info\",             # ✅ 对多进程安全\n",
    "    disable_tqdm=False,\n",
    ")"
   ]
  },
  {
   "cell_type": "code",
   "execution_count": 38,
   "id": "fc629bcb-5ee1-424f-9bd3-8d453d78f937",
   "metadata": {},
   "outputs": [],
   "source": [
    "import logging\n",
    "logging.getLogger(\"transformers.trainer\").setLevel(logging.INFO)"
   ]
  },
  {
   "cell_type": "markdown",
   "id": "83a59d0a-051f-4412-98c0-251563ca53f8",
   "metadata": {},
   "source": [
    "创建训练器"
   ]
  },
  {
   "cell_type": "code",
   "execution_count": 39,
   "id": "cb94df67-e709-4a65-83b3-baecaac8720a",
   "metadata": {},
   "outputs": [],
   "source": [
    "from transformers import Seq2SeqTrainer\n",
    "\n",
    "trainer = Seq2SeqTrainer(\n",
    "    model=model,                              # 注入（已包装 LoRA 的）模型\n",
    "    args=training_args,                       # 训练参数\n",
    "    train_dataset=tokenized_datasets[\"train\"],# 训练集\n",
    "    eval_dataset=tokenized_datasets[\"validation\"] if \"validation\" in tokenized_datasets else tokenized_datasets[\"test\"],  # 优先使用 validation split，否则用 test\n",
    "    processing_class=tokenizer,     # tokenizer（用于 decode/generation 时）\n",
    "    compute_metrics=compute_metrics,          # 评估时要计算的指标函数\n",
    ")\n"
   ]
  },
  {
   "cell_type": "code",
   "execution_count": 40,
   "id": "8b3c4364-1508-4906-ac17-204d8ebc06ce",
   "metadata": {},
   "outputs": [
    {
     "data": {
      "text/plain": [
       "'4.57.1'"
      ]
     },
     "execution_count": 40,
     "metadata": {},
     "output_type": "execute_result"
    }
   ],
   "source": [
    "import transformers\n",
    "transformers.__version__"
   ]
  },
  {
   "cell_type": "code",
   "execution_count": 42,
   "id": "7766c131-9729-490f-9f97-9c781e034ee4",
   "metadata": {},
   "outputs": [],
   "source": [
    "from transformers.trainer_callback import PrinterCallback\n",
    "trainer.add_callback(PrinterCallback)"
   ]
  },
  {
   "cell_type": "code",
   "execution_count": 43,
   "id": "0ae02949-d0c6-46a5-95f4-f31f953758e1",
   "metadata": {
    "scrolled": true
   },
   "outputs": [
    {
     "name": "stderr",
     "output_type": "stream",
     "text": [
      "The following columns in the Training set don't have a corresponding argument in `PeftModelForSeq2SeqLM.forward` and have been ignored: translation. If translation are not expected by `PeftModelForSeq2SeqLM.forward`,  you can safely ignore this message.\n",
      "***** Running training *****\n",
      "  Num examples = 9,000\n",
      "  Num Epochs = 1\n",
      "  Instantaneous batch size per device = 1\n",
      "  Total train batch size (w. parallel, distributed & accumulation) = 8\n",
      "  Gradient Accumulation steps = 8\n",
      "  Total optimization steps = 1,125\n",
      "  Number of trainable parameters = 442,368\n"
     ]
    },
    {
     "data": {
      "text/html": [
       "\n",
       "    <div>\n",
       "      \n",
       "      <progress value='1125' max='1125' style='width:300px; height:20px; vertical-align: middle;'></progress>\n",
       "      [1125/1125 30:31, Epoch 1/1]\n",
       "    </div>\n",
       "    <table border=\"1\" class=\"dataframe\">\n",
       "  <thead>\n",
       " <tr style=\"text-align: left;\">\n",
       "      <th>Epoch</th>\n",
       "      <th>Training Loss</th>\n",
       "      <th>Validation Loss</th>\n",
       "      <th>Bleu</th>\n",
       "    </tr>\n",
       "  </thead>\n",
       "  <tbody>\n",
       "    <tr>\n",
       "      <td>1</td>\n",
       "      <td>3.815500</td>\n",
       "      <td>3.143986</td>\n",
       "      <td>9.219724</td>\n",
       "    </tr>\n",
       "  </tbody>\n",
       "</table><p>"
      ],
      "text/plain": [
       "<IPython.core.display.HTML object>"
      ]
     },
     "metadata": {},
     "output_type": "display_data"
    },
    {
     "name": "stdout",
     "output_type": "stream",
     "text": [
      "{'loss': 3.744, 'grad_norm': 0.9939719438552856, 'learning_rate': 4.96e-05, 'epoch': 0.008888888888888889}\n",
      "{'loss': 3.6232, 'grad_norm': 1.101561188697815, 'learning_rate': 4.915555555555556e-05, 'epoch': 0.017777777777777778}\n",
      "{'loss': 3.7036, 'grad_norm': 0.9699844121932983, 'learning_rate': 4.871111111111111e-05, 'epoch': 0.02666666666666667}\n",
      "{'loss': 3.6186, 'grad_norm': 1.1010091304779053, 'learning_rate': 4.826666666666667e-05, 'epoch': 0.035555555555555556}\n",
      "{'loss': 3.6292, 'grad_norm': 1.0778459310531616, 'learning_rate': 4.782222222222222e-05, 'epoch': 0.044444444444444446}\n",
      "{'loss': 3.4263, 'grad_norm': 1.2162610292434692, 'learning_rate': 4.737777777777778e-05, 'epoch': 0.05333333333333334}\n",
      "{'loss': 3.5196, 'grad_norm': 0.8735532164573669, 'learning_rate': 4.6933333333333333e-05, 'epoch': 0.06222222222222222}\n",
      "{'loss': 3.6469, 'grad_norm': 0.8126728534698486, 'learning_rate': 4.648888888888889e-05, 'epoch': 0.07111111111111111}\n",
      "{'loss': 3.8267, 'grad_norm': 1.1234153509140015, 'learning_rate': 4.6044444444444445e-05, 'epoch': 0.08}\n",
      "{'loss': 3.3952, 'grad_norm': 1.0604513883590698, 'learning_rate': 4.5600000000000004e-05, 'epoch': 0.08888888888888889}\n",
      "{'loss': 3.6951, 'grad_norm': 0.8474681377410889, 'learning_rate': 4.5155555555555556e-05, 'epoch': 0.09777777777777778}\n",
      "{'loss': 3.7386, 'grad_norm': 1.0223537683486938, 'learning_rate': 4.4711111111111115e-05, 'epoch': 0.10666666666666667}\n",
      "{'loss': 3.6253, 'grad_norm': 1.0442672967910767, 'learning_rate': 4.426666666666667e-05, 'epoch': 0.11555555555555555}\n",
      "{'loss': 3.6291, 'grad_norm': 1.3099342584609985, 'learning_rate': 4.3822222222222227e-05, 'epoch': 0.12444444444444444}\n",
      "{'loss': 4.0074, 'grad_norm': 0.9436909556388855, 'learning_rate': 4.337777777777778e-05, 'epoch': 0.13333333333333333}\n",
      "{'loss': 3.7184, 'grad_norm': 0.9721968770027161, 'learning_rate': 4.293333333333334e-05, 'epoch': 0.14222222222222222}\n",
      "{'loss': 3.6621, 'grad_norm': 1.361806035041809, 'learning_rate': 4.248888888888889e-05, 'epoch': 0.1511111111111111}\n",
      "{'loss': 3.8632, 'grad_norm': 1.2088106870651245, 'learning_rate': 4.204444444444445e-05, 'epoch': 0.16}\n",
      "{'loss': 3.6175, 'grad_norm': 0.9326202273368835, 'learning_rate': 4.16e-05, 'epoch': 0.1688888888888889}\n",
      "{'loss': 3.9369, 'grad_norm': 1.3793576955795288, 'learning_rate': 4.115555555555556e-05, 'epoch': 0.17777777777777778}\n",
      "{'loss': 3.6425, 'grad_norm': 1.4351450204849243, 'learning_rate': 4.071111111111111e-05, 'epoch': 0.18666666666666668}\n",
      "{'loss': 3.816, 'grad_norm': 0.963536262512207, 'learning_rate': 4.026666666666667e-05, 'epoch': 0.19555555555555557}\n",
      "{'loss': 3.7759, 'grad_norm': 1.0159107446670532, 'learning_rate': 3.9822222222222224e-05, 'epoch': 0.20444444444444446}\n",
      "{'loss': 3.9246, 'grad_norm': 1.0372834205627441, 'learning_rate': 3.937777777777778e-05, 'epoch': 0.21333333333333335}\n",
      "{'loss': 3.4761, 'grad_norm': 1.0460842847824097, 'learning_rate': 3.8933333333333336e-05, 'epoch': 0.2222222222222222}\n",
      "{'loss': 3.4746, 'grad_norm': 0.9775465726852417, 'learning_rate': 3.848888888888889e-05, 'epoch': 0.2311111111111111}\n",
      "{'loss': 3.7748, 'grad_norm': 1.506016492843628, 'learning_rate': 3.804444444444445e-05, 'epoch': 0.24}\n",
      "{'loss': 3.811, 'grad_norm': 1.1503008604049683, 'learning_rate': 3.76e-05, 'epoch': 0.24888888888888888}\n",
      "{'loss': 3.4814, 'grad_norm': 1.1387273073196411, 'learning_rate': 3.715555555555555e-05, 'epoch': 0.2577777777777778}\n",
      "{'loss': 3.6819, 'grad_norm': 1.1414307355880737, 'learning_rate': 3.671111111111111e-05, 'epoch': 0.26666666666666666}\n",
      "{'loss': 3.6224, 'grad_norm': 1.4302927255630493, 'learning_rate': 3.626666666666667e-05, 'epoch': 0.27555555555555555}\n",
      "{'loss': 3.9865, 'grad_norm': 1.2904961109161377, 'learning_rate': 3.582222222222222e-05, 'epoch': 0.28444444444444444}\n",
      "{'loss': 3.6353, 'grad_norm': 0.9852989315986633, 'learning_rate': 3.537777777777778e-05, 'epoch': 0.29333333333333333}\n",
      "{'loss': 3.6123, 'grad_norm': 1.2005826234817505, 'learning_rate': 3.493333333333333e-05, 'epoch': 0.3022222222222222}\n",
      "{'loss': 3.4003, 'grad_norm': 1.2299288511276245, 'learning_rate': 3.448888888888889e-05, 'epoch': 0.3111111111111111}\n",
      "{'loss': 3.5376, 'grad_norm': 1.2422444820404053, 'learning_rate': 3.4044444444444445e-05, 'epoch': 0.32}\n",
      "{'loss': 3.8145, 'grad_norm': 1.187279462814331, 'learning_rate': 3.3600000000000004e-05, 'epoch': 0.3288888888888889}\n",
      "{'loss': 3.5163, 'grad_norm': 1.3876241445541382, 'learning_rate': 3.3155555555555556e-05, 'epoch': 0.3377777777777778}\n",
      "{'loss': 3.4264, 'grad_norm': 1.0595728158950806, 'learning_rate': 3.2711111111111115e-05, 'epoch': 0.3466666666666667}\n",
      "{'loss': 3.6609, 'grad_norm': 0.918390691280365, 'learning_rate': 3.226666666666667e-05, 'epoch': 0.35555555555555557}\n",
      "{'loss': 3.7978, 'grad_norm': 0.9714946150779724, 'learning_rate': 3.1822222222222226e-05, 'epoch': 0.36444444444444446}\n",
      "{'loss': 3.5239, 'grad_norm': 0.8646202683448792, 'learning_rate': 3.137777777777778e-05, 'epoch': 0.37333333333333335}\n",
      "{'loss': 3.4634, 'grad_norm': 1.1814061403274536, 'learning_rate': 3.093333333333334e-05, 'epoch': 0.38222222222222224}\n",
      "{'loss': 3.7878, 'grad_norm': 1.012393832206726, 'learning_rate': 3.048888888888889e-05, 'epoch': 0.39111111111111113}\n",
      "{'loss': 3.8318, 'grad_norm': 1.1257634162902832, 'learning_rate': 3.004444444444445e-05, 'epoch': 0.4}\n",
      "{'loss': 3.5936, 'grad_norm': 1.1721470355987549, 'learning_rate': 2.96e-05, 'epoch': 0.4088888888888889}\n",
      "{'loss': 3.4765, 'grad_norm': 0.9249535202980042, 'learning_rate': 2.9155555555555557e-05, 'epoch': 0.4177777777777778}\n",
      "{'loss': 3.732, 'grad_norm': 1.0101354122161865, 'learning_rate': 2.8711111111111113e-05, 'epoch': 0.4266666666666667}\n",
      "{'loss': 3.5945, 'grad_norm': 0.9535133242607117, 'learning_rate': 2.8266666666666668e-05, 'epoch': 0.43555555555555553}\n",
      "{'loss': 3.5888, 'grad_norm': 0.9928407669067383, 'learning_rate': 2.782222222222222e-05, 'epoch': 0.4444444444444444}\n",
      "{'loss': 3.7436, 'grad_norm': 1.1689356565475464, 'learning_rate': 2.737777777777778e-05, 'epoch': 0.4533333333333333}\n",
      "{'loss': 3.4865, 'grad_norm': 0.940851628780365, 'learning_rate': 2.6933333333333332e-05, 'epoch': 0.4622222222222222}\n",
      "{'loss': 3.7623, 'grad_norm': 1.0390536785125732, 'learning_rate': 2.648888888888889e-05, 'epoch': 0.4711111111111111}\n",
      "{'loss': 3.7471, 'grad_norm': 1.5974146127700806, 'learning_rate': 2.6044444444444443e-05, 'epoch': 0.48}\n",
      "{'loss': 3.6838, 'grad_norm': 1.115888237953186, 'learning_rate': 2.5600000000000002e-05, 'epoch': 0.4888888888888889}\n",
      "{'loss': 3.4674, 'grad_norm': 1.168899655342102, 'learning_rate': 2.5155555555555555e-05, 'epoch': 0.49777777777777776}\n",
      "{'loss': 3.7932, 'grad_norm': 1.79883873462677, 'learning_rate': 2.4711111111111114e-05, 'epoch': 0.5066666666666667}\n",
      "{'loss': 3.6592, 'grad_norm': 1.3351898193359375, 'learning_rate': 2.426666666666667e-05, 'epoch': 0.5155555555555555}\n",
      "{'loss': 3.4165, 'grad_norm': 0.9205420613288879, 'learning_rate': 2.3822222222222225e-05, 'epoch': 0.5244444444444445}\n",
      "{'loss': 3.8242, 'grad_norm': 1.38074791431427, 'learning_rate': 2.337777777777778e-05, 'epoch': 0.5333333333333333}\n",
      "{'loss': 3.5906, 'grad_norm': 1.60732901096344, 'learning_rate': 2.2933333333333333e-05, 'epoch': 0.5422222222222223}\n",
      "{'loss': 3.5408, 'grad_norm': 1.0751346349716187, 'learning_rate': 2.248888888888889e-05, 'epoch': 0.5511111111111111}\n",
      "{'loss': 3.5563, 'grad_norm': 0.8627674579620361, 'learning_rate': 2.2044444444444444e-05, 'epoch': 0.56}\n",
      "{'loss': 3.3798, 'grad_norm': 1.1051682233810425, 'learning_rate': 2.16e-05, 'epoch': 0.5688888888888889}\n",
      "{'loss': 3.3939, 'grad_norm': 3.9939868450164795, 'learning_rate': 2.1155555555555556e-05, 'epoch': 0.5777777777777777}\n",
      "{'loss': 3.7396, 'grad_norm': 1.1221486330032349, 'learning_rate': 2.071111111111111e-05, 'epoch': 0.5866666666666667}\n",
      "{'loss': 3.5766, 'grad_norm': 1.1274973154067993, 'learning_rate': 2.0266666666666667e-05, 'epoch': 0.5955555555555555}\n",
      "{'loss': 3.6108, 'grad_norm': 1.218522071838379, 'learning_rate': 1.9822222222222223e-05, 'epoch': 0.6044444444444445}\n",
      "{'loss': 3.5694, 'grad_norm': 0.8083235025405884, 'learning_rate': 1.9377777777777778e-05, 'epoch': 0.6133333333333333}\n",
      "{'loss': 3.5073, 'grad_norm': 1.309401273727417, 'learning_rate': 1.8933333333333334e-05, 'epoch': 0.6222222222222222}\n",
      "{'loss': 3.6618, 'grad_norm': 1.183971643447876, 'learning_rate': 1.848888888888889e-05, 'epoch': 0.6311111111111111}\n",
      "{'loss': 3.5318, 'grad_norm': 1.0494351387023926, 'learning_rate': 1.8044444444444445e-05, 'epoch': 0.64}\n",
      "{'loss': 3.5588, 'grad_norm': 1.0097496509552002, 'learning_rate': 1.76e-05, 'epoch': 0.6488888888888888}\n",
      "{'loss': 3.7006, 'grad_norm': 1.1989643573760986, 'learning_rate': 1.7155555555555557e-05, 'epoch': 0.6577777777777778}\n",
      "{'loss': 3.4743, 'grad_norm': 1.0068639516830444, 'learning_rate': 1.6711111111111112e-05, 'epoch': 0.6666666666666666}\n",
      "{'loss': 3.8036, 'grad_norm': 1.0169261693954468, 'learning_rate': 1.6266666666666665e-05, 'epoch': 0.6755555555555556}\n",
      "{'loss': 3.459, 'grad_norm': 0.8587208986282349, 'learning_rate': 1.582222222222222e-05, 'epoch': 0.6844444444444444}\n",
      "{'loss': 3.6277, 'grad_norm': 1.1538090705871582, 'learning_rate': 1.537777777777778e-05, 'epoch': 0.6933333333333334}\n",
      "{'loss': 3.4741, 'grad_norm': 1.2426304817199707, 'learning_rate': 1.4933333333333335e-05, 'epoch': 0.7022222222222222}\n",
      "{'loss': 3.4744, 'grad_norm': 1.9522061347961426, 'learning_rate': 1.448888888888889e-05, 'epoch': 0.7111111111111111}\n",
      "{'loss': 3.3668, 'grad_norm': 1.2632007598876953, 'learning_rate': 1.4044444444444446e-05, 'epoch': 0.72}\n",
      "{'loss': 3.7007, 'grad_norm': 0.8775186538696289, 'learning_rate': 1.3600000000000002e-05, 'epoch': 0.7288888888888889}\n",
      "{'loss': 3.4632, 'grad_norm': 1.4906680583953857, 'learning_rate': 1.3155555555555558e-05, 'epoch': 0.7377777777777778}\n",
      "{'loss': 3.7341, 'grad_norm': 1.0841429233551025, 'learning_rate': 1.2711111111111113e-05, 'epoch': 0.7466666666666667}\n",
      "{'loss': 3.8054, 'grad_norm': 0.8435233235359192, 'learning_rate': 1.2266666666666667e-05, 'epoch': 0.7555555555555555}\n",
      "{'loss': 3.7357, 'grad_norm': 1.2484126091003418, 'learning_rate': 1.1822222222222223e-05, 'epoch': 0.7644444444444445}\n",
      "{'loss': 3.4761, 'grad_norm': 1.08259117603302, 'learning_rate': 1.1377777777777779e-05, 'epoch': 0.7733333333333333}\n",
      "{'loss': 3.5364, 'grad_norm': 1.6186574697494507, 'learning_rate': 1.0933333333333334e-05, 'epoch': 0.7822222222222223}\n",
      "{'loss': 3.5805, 'grad_norm': 1.421585202217102, 'learning_rate': 1.048888888888889e-05, 'epoch': 0.7911111111111111}\n",
      "{'loss': 3.4785, 'grad_norm': 1.2074856758117676, 'learning_rate': 1.0044444444444446e-05, 'epoch': 0.8}\n",
      "{'loss': 3.7011, 'grad_norm': 1.1858762502670288, 'learning_rate': 9.600000000000001e-06, 'epoch': 0.8088888888888889}\n",
      "{'loss': 3.3526, 'grad_norm': 1.2042624950408936, 'learning_rate': 9.155555555555557e-06, 'epoch': 0.8177777777777778}\n",
      "{'loss': 3.6014, 'grad_norm': 1.1267215013504028, 'learning_rate': 8.711111111111111e-06, 'epoch': 0.8266666666666667}\n",
      "{'loss': 3.5282, 'grad_norm': 1.0569546222686768, 'learning_rate': 8.266666666666667e-06, 'epoch': 0.8355555555555556}\n",
      "{'loss': 3.4678, 'grad_norm': 1.2928465604782104, 'learning_rate': 7.822222222222222e-06, 'epoch': 0.8444444444444444}\n",
      "{'loss': 3.7266, 'grad_norm': 0.948199450969696, 'learning_rate': 7.377777777777778e-06, 'epoch': 0.8533333333333334}\n",
      "{'loss': 3.6896, 'grad_norm': 1.4460784196853638, 'learning_rate': 6.933333333333334e-06, 'epoch': 0.8622222222222222}\n",
      "{'loss': 3.7025, 'grad_norm': 1.0687551498413086, 'learning_rate': 6.488888888888888e-06, 'epoch': 0.8711111111111111}\n",
      "{'loss': 3.9399, 'grad_norm': 1.261764645576477, 'learning_rate': 6.044444444444445e-06, 'epoch': 0.88}\n",
      "{'loss': 3.5768, 'grad_norm': 1.1071209907531738, 'learning_rate': 5.600000000000001e-06, 'epoch': 0.8888888888888888}\n",
      "{'loss': 3.5347, 'grad_norm': 1.3883558511734009, 'learning_rate': 5.155555555555555e-06, 'epoch': 0.8977777777777778}\n",
      "{'loss': 3.5123, 'grad_norm': 1.2531017065048218, 'learning_rate': 4.711111111111111e-06, 'epoch': 0.9066666666666666}\n",
      "{'loss': 3.5858, 'grad_norm': 1.3599538803100586, 'learning_rate': 4.266666666666667e-06, 'epoch': 0.9155555555555556}\n",
      "{'loss': 3.61, 'grad_norm': 0.9286279082298279, 'learning_rate': 3.8222222222222224e-06, 'epoch': 0.9244444444444444}\n",
      "{'loss': 3.7068, 'grad_norm': 1.088953971862793, 'learning_rate': 3.3777777777777777e-06, 'epoch': 0.9333333333333333}\n",
      "{'loss': 3.7479, 'grad_norm': 1.0769652128219604, 'learning_rate': 2.9333333333333333e-06, 'epoch': 0.9422222222222222}\n",
      "{'loss': 3.6691, 'grad_norm': 1.113950490951538, 'learning_rate': 2.488888888888889e-06, 'epoch': 0.9511111111111111}\n",
      "{'loss': 3.5, 'grad_norm': 1.054871678352356, 'learning_rate': 2.0444444444444447e-06, 'epoch': 0.96}\n",
      "{'loss': 3.4807, 'grad_norm': 0.9849117398262024, 'learning_rate': 1.6000000000000001e-06, 'epoch': 0.9688888888888889}\n",
      "{'loss': 3.4984, 'grad_norm': 1.2380485534667969, 'learning_rate': 1.1555555555555556e-06, 'epoch': 0.9777777777777777}\n",
      "{'loss': 3.4983, 'grad_norm': 27.767547607421875, 'learning_rate': 7.111111111111112e-07, 'epoch': 0.9866666666666667}\n",
      "{'loss': 3.8155, 'grad_norm': 1.0575950145721436, 'learning_rate': 2.6666666666666667e-07, 'epoch': 0.9955555555555555}\n"
     ]
    },
    {
     "name": "stderr",
     "output_type": "stream",
     "text": [
      "The following columns in the Evaluation set don't have a corresponding argument in `PeftModelForSeq2SeqLM.forward` and have been ignored: translation. If translation are not expected by `PeftModelForSeq2SeqLM.forward`,  you can safely ignore this message.\n",
      "\n",
      "***** Running Evaluation *****\n",
      "  Num examples = 1000\n",
      "  Batch size = 1\n"
     ]
    },
    {
     "name": "stdout",
     "output_type": "stream",
     "text": [
      "{'eval_loss': 3.143986225128174, 'eval_bleu': 9.219723728891687, 'eval_runtime': 361.7814, 'eval_samples_per_second': 2.764, 'eval_steps_per_second': 2.764, 'epoch': 1.0}\n"
     ]
    },
    {
     "name": "stderr",
     "output_type": "stream",
     "text": [
      "Saving model checkpoint to ./mt0-lora/checkpoint-1125\n",
      "loading configuration file config.json from cache at /Users/huhao/.cache/huggingface/hub/models--bigscience--mt0-base/snapshots/0c500042c1f80b6b6ec208cf73d9ee43f1dac245/config.json\n",
      "Model config MT5Config {\n",
      "  \"architectures\": [\n",
      "    \"MT5ForConditionalGeneration\"\n",
      "  ],\n",
      "  \"classifier_dropout\": 0.0,\n",
      "  \"d_ff\": 2048,\n",
      "  \"d_kv\": 64,\n",
      "  \"d_model\": 768,\n",
      "  \"decoder_start_token_id\": 0,\n",
      "  \"dense_act_fn\": \"gelu_new\",\n",
      "  \"dropout_rate\": 0.1,\n",
      "  \"dtype\": \"float32\",\n",
      "  \"eos_token_id\": 1,\n",
      "  \"feed_forward_proj\": \"gated-gelu\",\n",
      "  \"initializer_factor\": 1.0,\n",
      "  \"is_encoder_decoder\": true,\n",
      "  \"is_gated_act\": true,\n",
      "  \"layer_norm_epsilon\": 1e-06,\n",
      "  \"model_type\": \"mt5\",\n",
      "  \"num_decoder_layers\": 12,\n",
      "  \"num_heads\": 12,\n",
      "  \"num_layers\": 12,\n",
      "  \"output_past\": true,\n",
      "  \"pad_token_id\": 0,\n",
      "  \"relative_attention_max_distance\": 128,\n",
      "  \"relative_attention_num_buckets\": 32,\n",
      "  \"tie_word_embeddings\": false,\n",
      "  \"tokenizer_class\": \"T5Tokenizer\",\n",
      "  \"transformers_version\": \"4.57.1\",\n",
      "  \"use_cache\": true,\n",
      "  \"vocab_size\": 250112\n",
      "}\n",
      "\n",
      "tokenizer config file saved in ./mt0-lora/checkpoint-1125/tokenizer_config.json\n",
      "Special tokens file saved in ./mt0-lora/checkpoint-1125/special_tokens_map.json\n",
      "\n",
      "\n",
      "Training completed. Do not forget to share your model on huggingface.co/models =)\n",
      "\n",
      "\n",
      "Loading best model from ./mt0-lora/checkpoint-1125 (score: 9.219723728891687).\n"
     ]
    },
    {
     "name": "stdout",
     "output_type": "stream",
     "text": [
      "{'train_runtime': 1833.2842, 'train_samples_per_second': 4.909, 'train_steps_per_second': 0.614, 'train_loss': 3.6257413109673395, 'epoch': 1.0}\n"
     ]
    },
    {
     "data": {
      "text/plain": [
       "TrainOutput(global_step=1125, training_loss=3.6257413109673395, metrics={'train_runtime': 1833.2842, 'train_samples_per_second': 4.909, 'train_steps_per_second': 0.614, 'train_loss': 3.6257413109673395, 'epoch': 1.0})"
      ]
     },
     "execution_count": 43,
     "metadata": {},
     "output_type": "execute_result"
    }
   ],
   "source": [
    "# ---- 启动训练 ----\n",
    "trainer.train()  # 运行训练过程；训练期间会按 training_args 指定的策略保存 checkpoint 并在 eval 时计算指标"
   ]
  },
  {
   "cell_type": "code",
   "execution_count": 44,
   "id": "53a19f3e-ec16-4b7c-b80a-1c25393425d6",
   "metadata": {},
   "outputs": [
    {
     "name": "stderr",
     "output_type": "stream",
     "text": [
      "Saving model checkpoint to ./mt0-lora-mac-final\n",
      "loading configuration file config.json from cache at /Users/huhao/.cache/huggingface/hub/models--bigscience--mt0-base/snapshots/0c500042c1f80b6b6ec208cf73d9ee43f1dac245/config.json\n",
      "Model config MT5Config {\n",
      "  \"architectures\": [\n",
      "    \"MT5ForConditionalGeneration\"\n",
      "  ],\n",
      "  \"classifier_dropout\": 0.0,\n",
      "  \"d_ff\": 2048,\n",
      "  \"d_kv\": 64,\n",
      "  \"d_model\": 768,\n",
      "  \"decoder_start_token_id\": 0,\n",
      "  \"dense_act_fn\": \"gelu_new\",\n",
      "  \"dropout_rate\": 0.1,\n",
      "  \"dtype\": \"float32\",\n",
      "  \"eos_token_id\": 1,\n",
      "  \"feed_forward_proj\": \"gated-gelu\",\n",
      "  \"initializer_factor\": 1.0,\n",
      "  \"is_encoder_decoder\": true,\n",
      "  \"is_gated_act\": true,\n",
      "  \"layer_norm_epsilon\": 1e-06,\n",
      "  \"model_type\": \"mt5\",\n",
      "  \"num_decoder_layers\": 12,\n",
      "  \"num_heads\": 12,\n",
      "  \"num_layers\": 12,\n",
      "  \"output_past\": true,\n",
      "  \"pad_token_id\": 0,\n",
      "  \"relative_attention_max_distance\": 128,\n",
      "  \"relative_attention_num_buckets\": 32,\n",
      "  \"tie_word_embeddings\": false,\n",
      "  \"tokenizer_class\": \"T5Tokenizer\",\n",
      "  \"transformers_version\": \"4.57.1\",\n",
      "  \"use_cache\": true,\n",
      "  \"vocab_size\": 250112\n",
      "}\n",
      "\n",
      "tokenizer config file saved in ./mt0-lora-mac-final/tokenizer_config.json\n",
      "Special tokens file saved in ./mt0-lora-mac-final/special_tokens_map.json\n"
     ]
    }
   ],
   "source": [
    "# 9. 保存 LoRA 权重\n",
    "trainer.save_model(\"./mt0-lora-mac-final\")"
   ]
  },
  {
   "cell_type": "markdown",
   "id": "6dbb862b-63ea-46a5-ad21-9d930efda290",
   "metadata": {},
   "source": [
    "# 测试生成的模型"
   ]
  },
  {
   "cell_type": "code",
   "execution_count": 45,
   "id": "1c324185-ed88-41e9-94d7-59893a4a90c8",
   "metadata": {},
   "outputs": [
    {
     "name": "stderr",
     "output_type": "stream",
     "text": [
      "loading file spiece.model from cache at /Users/huhao/.cache/huggingface/hub/models--bigscience--mt0-base/snapshots/0c500042c1f80b6b6ec208cf73d9ee43f1dac245/spiece.model\n",
      "loading file tokenizer.json from cache at /Users/huhao/.cache/huggingface/hub/models--bigscience--mt0-base/snapshots/0c500042c1f80b6b6ec208cf73d9ee43f1dac245/tokenizer.json\n",
      "loading file added_tokens.json from cache at None\n",
      "loading file special_tokens_map.json from cache at /Users/huhao/.cache/huggingface/hub/models--bigscience--mt0-base/snapshots/0c500042c1f80b6b6ec208cf73d9ee43f1dac245/special_tokens_map.json\n",
      "loading file tokenizer_config.json from cache at /Users/huhao/.cache/huggingface/hub/models--bigscience--mt0-base/snapshots/0c500042c1f80b6b6ec208cf73d9ee43f1dac245/tokenizer_config.json\n",
      "loading file chat_template.jinja from cache at None\n",
      "loading configuration file config.json from cache at /Users/huhao/.cache/huggingface/hub/models--bigscience--mt0-base/snapshots/0c500042c1f80b6b6ec208cf73d9ee43f1dac245/config.json\n",
      "Model config MT5Config {\n",
      "  \"architectures\": [\n",
      "    \"MT5ForConditionalGeneration\"\n",
      "  ],\n",
      "  \"classifier_dropout\": 0.0,\n",
      "  \"d_ff\": 2048,\n",
      "  \"d_kv\": 64,\n",
      "  \"d_model\": 768,\n",
      "  \"decoder_start_token_id\": 0,\n",
      "  \"dense_act_fn\": \"gelu_new\",\n",
      "  \"dropout_rate\": 0.1,\n",
      "  \"dtype\": \"float32\",\n",
      "  \"eos_token_id\": 1,\n",
      "  \"feed_forward_proj\": \"gated-gelu\",\n",
      "  \"initializer_factor\": 1.0,\n",
      "  \"is_encoder_decoder\": true,\n",
      "  \"is_gated_act\": true,\n",
      "  \"layer_norm_epsilon\": 1e-06,\n",
      "  \"model_type\": \"mt5\",\n",
      "  \"num_decoder_layers\": 12,\n",
      "  \"num_heads\": 12,\n",
      "  \"num_layers\": 12,\n",
      "  \"output_past\": true,\n",
      "  \"pad_token_id\": 0,\n",
      "  \"relative_attention_max_distance\": 128,\n",
      "  \"relative_attention_num_buckets\": 32,\n",
      "  \"tie_word_embeddings\": false,\n",
      "  \"tokenizer_class\": \"T5Tokenizer\",\n",
      "  \"transformers_version\": \"4.57.1\",\n",
      "  \"use_cache\": true,\n",
      "  \"vocab_size\": 250112\n",
      "}\n",
      "\n",
      "loading weights file model.safetensors from cache at /Users/huhao/.cache/huggingface/hub/models--bigscience--mt0-base/snapshots/0c500042c1f80b6b6ec208cf73d9ee43f1dac245/model.safetensors\n",
      "Generate config GenerationConfig {\n",
      "  \"decoder_start_token_id\": 0,\n",
      "  \"eos_token_id\": 1,\n",
      "  \"pad_token_id\": 0\n",
      "}\n",
      "\n",
      "Generation config file not found, using a generation config created from the model config.\n",
      "Could not locate the custom_generate/generate.py inside bigscience/mt0-base.\n"
     ]
    }
   ],
   "source": [
    "# 加载微调后模型\n",
    "from transformers import AutoTokenizer, AutoModelForSeq2SeqLM\n",
    "from peft import PeftModel\n",
    "\n",
    "model_name = \"bigscience/mt0-base\"\n",
    "tokenizer = AutoTokenizer.from_pretrained(model_name)\n",
    "base_model = AutoModelForSeq2SeqLM.from_pretrained(model_name)\n",
    "model = PeftModel.from_pretrained(base_model, \"./mt0-lora-mac-final\")\n",
    "model = model.to(device)"
   ]
  },
  {
   "cell_type": "code",
   "execution_count": 47,
   "id": "1e04d193-50db-4950-824a-4c5ef99f4035",
   "metadata": {},
   "outputs": [
    {
     "name": "stdout",
     "output_type": "stream",
     "text": [
      "对于那些被转移的人来说,这些老城的人口对他们居住的状况有很大影响,尤其是老人、老人和孩子,他们经常生活在极其困难的困难之中。\n"
     ]
    }
   ],
   "source": [
    "# 测试生成\n",
    "text = '''Translate English to Chinese: \n",
    "The difficult access to these older sites for displaced persons gives rise to \n",
    "concerns about the living conditions of the people who are residents there, \n",
    "in particular widows, the elderly and children, \n",
    "who often live in intolerable hardship.'''\n",
    "inputs = tokenizer(, return_tensors=\"pt\").to(device)\n",
    "outputs = model.generate(**inputs, max_new_tokens=1024)\n",
    "print(tokenizer.decode(outputs[0], skip_special_tokens=True))\n"
   ]
  },
  {
   "cell_type": "code",
   "execution_count": null,
   "id": "953a51d8-4022-4324-8119-0f8fa39a9539",
   "metadata": {},
   "outputs": [],
   "source": []
  }
 ],
 "metadata": {
  "kernelspec": {
   "display_name": "Python 3 (ipykernel)",
   "language": "python",
   "name": "python3"
  },
  "language_info": {
   "codemirror_mode": {
    "name": "ipython",
    "version": 3
   },
   "file_extension": ".py",
   "mimetype": "text/x-python",
   "name": "python",
   "nbconvert_exporter": "python",
   "pygments_lexer": "ipython3",
   "version": "3.11.9"
  }
 },
 "nbformat": 4,
 "nbformat_minor": 5
}
