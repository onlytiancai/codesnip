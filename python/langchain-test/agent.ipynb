{
 "cells": [
  {
   "cell_type": "markdown",
   "id": "4dbefd8b-c8e0-4875-a310-55449acb44ca",
   "metadata": {},
   "source": [
    "安装依赖\n",
    "\n",
    "    pip install -U langchain-openai\n",
    "    pip install -U langgraph langchain-tavily langgraph-checkpoint-sqlite\n",
    "\n",
    "设置 OpenAI KEY\n",
    "\n",
    "    export OPENAI_API_KEY=\"sk-xxx\""
   ]
  },
  {
   "cell_type": "code",
   "execution_count": 1,
   "id": "c52ec30a-57ac-4f37-9ac1-299fc032adaf",
   "metadata": {},
   "outputs": [],
   "source": [
    "# Import relevant functionality\n",
    "from langchain.chat_models import init_chat_model\n",
    "from langchain_tavily import TavilySearch\n",
    "from langgraph.checkpoint.memory import MemorySaver\n",
    "from langgraph.prebuilt import create_react_agent\n",
    "import getpass\n",
    "import os"
   ]
  },
  {
   "cell_type": "code",
   "execution_count": 2,
   "id": "06060c70-5054-46c2-80ab-66fa6d9b3a01",
   "metadata": {},
   "outputs": [
    {
     "name": "stdin",
     "output_type": "stream",
     "text": [
      " ········\n"
     ]
    }
   ],
   "source": [
    "os.environ[\"TAVILY_API_KEY\"] = getpass.getpass()"
   ]
  },
  {
   "cell_type": "code",
   "execution_count": 3,
   "id": "5ef84b43-85d8-449a-be8c-b08bc0f96d91",
   "metadata": {},
   "outputs": [
    {
     "data": {
      "text/plain": [
       "AIMessage(content='我是一个人工智能助手，旨在回答问题和提供信息。如果你有任何问题或需要帮助，随时可以问我！', additional_kwargs={'refusal': None}, response_metadata={'token_usage': {'completion_tokens': 28, 'prompt_tokens': 10, 'total_tokens': 38, 'completion_tokens_details': {'accepted_prediction_tokens': 0, 'audio_tokens': 0, 'reasoning_tokens': 0, 'rejected_prediction_tokens': 0}, 'prompt_tokens_details': {'audio_tokens': 0, 'cached_tokens': 0}}, 'model_name': 'gpt-4o-mini-2024-07-18', 'system_fingerprint': 'fp_34a54ae93c', 'id': 'chatcmpl-C3uR47OPpR3GBUgZ5aS7oX36blAm2', 'service_tier': 'default', 'finish_reason': 'stop', 'logprobs': None}, id='run--6bd1de8f-84a4-4c60-bbab-4332a96f8f8d-0', usage_metadata={'input_tokens': 10, 'output_tokens': 28, 'total_tokens': 38, 'input_token_details': {'audio': 0, 'cache_read': 0}, 'output_token_details': {'audio': 0, 'reasoning': 0}})"
      ]
     },
     "execution_count": 3,
     "metadata": {},
     "output_type": "execute_result"
    }
   ],
   "source": [
    "model = init_chat_model(\"openai:gpt-4o-mini\", temperature=0)\n",
    "model.invoke(\"你是谁？\")"
   ]
  },
  {
   "cell_type": "code",
   "execution_count": 4,
   "id": "8eaeb9d1-8209-4b68-a10e-6dc28b0f0f96",
   "metadata": {},
   "outputs": [],
   "source": [
    "# Create the agent\n",
    "memory = MemorySaver()\n",
    "search = TavilySearch(max_results=2)\n",
    "tools = [search]\n",
    "agent_executor = create_react_agent(model, tools, checkpointer=memory)"
   ]
  },
  {
   "cell_type": "code",
   "execution_count": 5,
   "id": "69a1e6c5-2697-48c7-a484-df2d9540f090",
   "metadata": {},
   "outputs": [
    {
     "name": "stdout",
     "output_type": "stream",
     "text": [
      "================================\u001b[1m Human Message \u001b[0m=================================\n",
      "\n",
      "你好，我是蛙蛙，我住在中国烟台。\n",
      "==================================\u001b[1m Ai Message \u001b[0m==================================\n",
      "\n",
      "你好，蛙蛙！很高兴认识你！烟台是一个美丽的城市，有着丰富的海洋资源和美丽的风景。你在烟台生活得怎么样？有什么想聊的或者需要帮助的呢？\n"
     ]
    }
   ],
   "source": [
    "# Use the agent\n",
    "config = {\"configurable\": {\"thread_id\": \"abc123\"}}\n",
    "\n",
    "input_message = {\n",
    "    \"role\": \"user\",\n",
    "    \"content\": \"你好，我是蛙蛙，我住在中国烟台。\",\n",
    "}\n",
    "for step in agent_executor.stream(\n",
    "    {\"messages\": [input_message]}, config, stream_mode=\"values\"\n",
    "):\n",
    "    step[\"messages\"][-1].pretty_print()"
   ]
  },
  {
   "cell_type": "code",
   "execution_count": 6,
   "id": "ecef3c28-ec74-4995-9bad-12d2f0ac14f3",
   "metadata": {},
   "outputs": [
    {
     "name": "stdout",
     "output_type": "stream",
     "text": [
      "================================\u001b[1m Human Message \u001b[0m=================================\n",
      "\n",
      "我住的城市今天天气怎么样？\n",
      "==================================\u001b[1m Ai Message \u001b[0m==================================\n",
      "Tool Calls:\n",
      "  tavily_search (call_fnT0vUcASc6ZXAQev6eE1TrC)\n",
      " Call ID: call_fnT0vUcASc6ZXAQev6eE1TrC\n",
      "  Args:\n",
      "    query: 烟台今天天气\n",
      "    topic: general\n",
      "=================================\u001b[1m Tool Message \u001b[0m=================================\n",
      "Name: tavily_search\n",
      "\n",
      "{\"query\": \"烟台今天天气\", \"follow_up_questions\": null, \"answer\": null, \"images\": [], \"results\": [{\"url\": \"https://tianqi.moji.com/weather/china/shandong/yantai\", \"title\": \"烟台市天气预报\", \"content\": \"烟台市今天实况：25度多云，湿度：78%，南风：2级。白天：32度,晴。 夜间：多云，24度，潮湿闷热，墨迹天气建议您穿着吸湿排汗的夏装，棉麻质地的短打扮是不错的选择。\", \"score\": 0.8851659, \"raw_content\": null}, {\"url\": \"http://www.nmc.cn/publish/forecast/ASD/yantai.html\", \"title\": \"烟台-天气预报\", \"content\": \"11:00 · 28.2℃. 7.8m/s. 北风. 1001.8hPa ; 14:00 · 29.8℃. 7.9m/s. 东北风. 1001.4hPa ; 17:00 · 28.2℃. 7m/s. 北风. 1001.6hPa.\", \"score\": 0.755078, \"raw_content\": null}], \"response_time\": 1.55}\n",
      "==================================\u001b[1m Ai Message \u001b[0m==================================\n",
      "\n",
      "今天烟台的天气情况如下：\n",
      "\n",
      "- 实况温度：25度，多云，湿度：78%，南风：2级。\n",
      "- 白天气温：32度，晴。\n",
      "- 夜间气温：24度，多云，潮湿闷热。\n",
      "\n",
      "建议你穿着吸湿排汗的夏装，棉麻质地的短打扮是不错的选择。\n",
      "\n",
      "如果你想查看更详细的天气信息，可以访问[墨迹天气](https://tianqi.moji.com/weather/china/shandong/yantai)。希望你今天有个愉快的日子！\n"
     ]
    }
   ],
   "source": [
    "input_message = {\n",
    "    \"role\": \"user\",\n",
    "    \"content\": \"我住的城市今天天气怎么样？\",\n",
    "}\n",
    "\n",
    "for step in agent_executor.stream(\n",
    "    {\"messages\": [input_message]}, config, stream_mode=\"values\"\n",
    "):\n",
    "    step[\"messages\"][-1].pretty_print()"
   ]
  },
  {
   "cell_type": "code",
   "execution_count": null,
   "id": "686b3db1-12d7-4c3f-8c46-2a555581934c",
   "metadata": {},
   "outputs": [],
   "source": []
  }
 ],
 "metadata": {
  "kernelspec": {
   "display_name": "Python 3 (ipykernel)",
   "language": "python",
   "name": "python3"
  },
  "language_info": {
   "codemirror_mode": {
    "name": "ipython",
    "version": 3
   },
   "file_extension": ".py",
   "mimetype": "text/x-python",
   "name": "python",
   "nbconvert_exporter": "python",
   "pygments_lexer": "ipython3",
   "version": "3.10.18"
  }
 },
 "nbformat": 4,
 "nbformat_minor": 5
}
