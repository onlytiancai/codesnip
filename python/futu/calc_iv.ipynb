{
 "cells": [
  {
   "cell_type": "code",
   "execution_count": 1,
   "id": "5848ce82-2096-419a-8712-d16c1c1eb56b",
   "metadata": {},
   "outputs": [],
   "source": [
    "from scipy.stats import norm\n",
    "import numpy as np\n",
    "\n",
    "# Black-Scholes定价公式\n",
    "def black_scholes(S, K, T, r, sigma, option_type='call'):\n",
    "    d1 = (np.log(S / K) + (r + 0.5 * sigma ** 2) * T) / (sigma * np.sqrt(T))\n",
    "    d2 = d1 - sigma * np.sqrt(T)\n",
    "    if option_type == 'call':\n",
    "        return S * norm.cdf(d1) - K * np.exp(-r * T) * norm.cdf(d2)\n",
    "    elif option_type == 'put':\n",
    "        return K * np.exp(-r * T) * norm.cdf(-d2) - S * norm.cdf(-d1)\n",
    "\n",
    "# 隐含波动率的计算\n",
    "def implied_volatility(option_price, S, K, T, r, option_type='call', tol=1e-6, max_iter=100):\n",
    "    low, high = 1e-6, 5.0  # 波动率范围\n",
    "    for _ in range(max_iter):\n",
    "        mid = (low + high) / 2\n",
    "        price = black_scholes(S, K, T, r, mid, option_type)\n",
    "        if abs(price - option_price) < tol:\n",
    "            return mid\n",
    "        elif price < option_price:\n",
    "            low = mid\n",
    "        else:\n",
    "            high = mid\n",
    "    return mid"
   ]
  },
  {
   "cell_type": "code",
   "execution_count": 2,
   "id": "b1e6ac9c-fed9-40f7-a33d-2dc4ef9c99fa",
   "metadata": {},
   "outputs": [
    {
     "name": "stdout",
     "output_type": "stream",
     "text": [
      "隐含波动率: 54.82%\n"
     ]
    }
   ],
   "source": [
    "# 参数\n",
    "S = 100  # 标的资产价格\n",
    "K = 105  # 行权价\n",
    "T = 100/360  # 到期时间\n",
    "r = 0.05 # 无风险利率\n",
    "option_price = 10  # 市场期权价格\n",
    "\n",
    "# 计算隐含波动率\n",
    "iv = implied_volatility(option_price, S, K, T, r, option_type='call')\n",
    "print(f\"隐含波动率: {iv:.2%}\")"
   ]
  },
  {
   "cell_type": "code",
   "execution_count": 3,
   "id": "a2a344a7-2a93-4999-b26f-da40c136c621",
   "metadata": {},
   "outputs": [
    {
     "name": "stdout",
     "output_type": "stream",
     "text": [
      "\u001b[0;30m2024-12-27 14:38:52,245 | 2976570 | [open_context_base.py] _send_init_connect_sync:311: InitConnect ok: conn_id=1, host=127.0.0.1, port=11111, user_id=7465070\u001b[0m\n"
     ]
    }
   ],
   "source": [
    "from futu import *\n",
    "quote_ctx = OpenQuoteContext(host='127.0.0.1', port=11111)"
   ]
  },
  {
   "cell_type": "code",
   "execution_count": 4,
   "id": "6b0ae56d-a72b-4162-b608-36d9261029e6",
   "metadata": {},
   "outputs": [],
   "source": [
    "code='HK.00700'"
   ]
  },
  {
   "cell_type": "code",
   "execution_count": 5,
   "id": "63d83ed1-3c3f-4e01-a8fc-9bd875fc486a",
   "metadata": {},
   "outputs": [
    {
     "data": {
      "text/html": [
       "<div>\n",
       "<style scoped>\n",
       "    .dataframe tbody tr th:only-of-type {\n",
       "        vertical-align: middle;\n",
       "    }\n",
       "\n",
       "    .dataframe tbody tr th {\n",
       "        vertical-align: top;\n",
       "    }\n",
       "\n",
       "    .dataframe thead th {\n",
       "        text-align: right;\n",
       "    }\n",
       "</style>\n",
       "<table border=\"1\" class=\"dataframe\">\n",
       "  <thead>\n",
       "    <tr style=\"text-align: right;\">\n",
       "      <th></th>\n",
       "      <th>strike_time</th>\n",
       "      <th>option_expiry_date_distance</th>\n",
       "      <th>expiration_cycle</th>\n",
       "    </tr>\n",
       "  </thead>\n",
       "  <tbody>\n",
       "    <tr>\n",
       "      <th>0</th>\n",
       "      <td>2024-12-27</td>\n",
       "      <td>0</td>\n",
       "      <td>N/A</td>\n",
       "    </tr>\n",
       "    <tr>\n",
       "      <th>1</th>\n",
       "      <td>2024-12-30</td>\n",
       "      <td>3</td>\n",
       "      <td>N/A</td>\n",
       "    </tr>\n",
       "    <tr>\n",
       "      <th>2</th>\n",
       "      <td>2025-01-03</td>\n",
       "      <td>7</td>\n",
       "      <td>N/A</td>\n",
       "    </tr>\n",
       "    <tr>\n",
       "      <th>3</th>\n",
       "      <td>2025-01-27</td>\n",
       "      <td>31</td>\n",
       "      <td>N/A</td>\n",
       "    </tr>\n",
       "    <tr>\n",
       "      <th>4</th>\n",
       "      <td>2025-02-27</td>\n",
       "      <td>62</td>\n",
       "      <td>N/A</td>\n",
       "    </tr>\n",
       "    <tr>\n",
       "      <th>5</th>\n",
       "      <td>2025-03-28</td>\n",
       "      <td>91</td>\n",
       "      <td>N/A</td>\n",
       "    </tr>\n",
       "    <tr>\n",
       "      <th>6</th>\n",
       "      <td>2025-06-27</td>\n",
       "      <td>182</td>\n",
       "      <td>N/A</td>\n",
       "    </tr>\n",
       "    <tr>\n",
       "      <th>7</th>\n",
       "      <td>2025-09-29</td>\n",
       "      <td>276</td>\n",
       "      <td>N/A</td>\n",
       "    </tr>\n",
       "    <tr>\n",
       "      <th>8</th>\n",
       "      <td>2025-12-30</td>\n",
       "      <td>368</td>\n",
       "      <td>N/A</td>\n",
       "    </tr>\n",
       "  </tbody>\n",
       "</table>\n",
       "</div>"
      ],
      "text/plain": [
       "  strike_time  option_expiry_date_distance expiration_cycle\n",
       "0  2024-12-27                            0              N/A\n",
       "1  2024-12-30                            3              N/A\n",
       "2  2025-01-03                            7              N/A\n",
       "3  2025-01-27                           31              N/A\n",
       "4  2025-02-27                           62              N/A\n",
       "5  2025-03-28                           91              N/A\n",
       "6  2025-06-27                          182              N/A\n",
       "7  2025-09-29                          276              N/A\n",
       "8  2025-12-30                          368              N/A"
      ]
     },
     "execution_count": 5,
     "metadata": {},
     "output_type": "execute_result"
    }
   ],
   "source": [
    "ret, dates = quote_ctx.get_option_expiration_date(code=code)\n",
    "dates"
   ]
  },
  {
   "cell_type": "code",
   "execution_count": 6,
   "id": "4373430c-540c-4fd6-ba1b-bea6ed72f535",
   "metadata": {},
   "outputs": [],
   "source": [
    "filter1 = OptionDataFilter()\n",
    "filter1.delta_min = 0.3\n",
    "filter1.delta_max = 0.7"
   ]
  },
  {
   "cell_type": "code",
   "execution_count": 7,
   "id": "2a2de5a7-0aea-4895-86e5-1ddbea1db589",
   "metadata": {},
   "outputs": [
    {
     "data": {
      "text/plain": [
       "'2024-12-30'"
      ]
     },
     "execution_count": 7,
     "metadata": {},
     "output_type": "execute_result"
    }
   ],
   "source": [
    "date = dates.iloc[1]['strike_time']\n",
    "date"
   ]
  },
  {
   "cell_type": "code",
   "execution_count": 8,
   "id": "6add0c09-35d3-4ae9-9c16-6ff1524b0e41",
   "metadata": {},
   "outputs": [],
   "source": [
    "ret, options = quote_ctx.get_option_chain(code=code, start=date, end=date,option_type=OptionType.CALL, data_filter=filter1)"
   ]
  },
  {
   "cell_type": "code",
   "execution_count": 12,
   "id": "a1191bdb-a134-41f4-af9d-2705e364fbcc",
   "metadata": {},
   "outputs": [
    {
     "data": {
      "text/html": [
       "<div>\n",
       "<style scoped>\n",
       "    .dataframe tbody tr th:only-of-type {\n",
       "        vertical-align: middle;\n",
       "    }\n",
       "\n",
       "    .dataframe tbody tr th {\n",
       "        vertical-align: top;\n",
       "    }\n",
       "\n",
       "    .dataframe thead th {\n",
       "        text-align: right;\n",
       "    }\n",
       "</style>\n",
       "<table border=\"1\" class=\"dataframe\">\n",
       "  <thead>\n",
       "    <tr style=\"text-align: right;\">\n",
       "      <th></th>\n",
       "      <th>code</th>\n",
       "      <th>name</th>\n",
       "      <th>strike_time</th>\n",
       "      <th>strike_price</th>\n",
       "    </tr>\n",
       "  </thead>\n",
       "  <tbody>\n",
       "    <tr>\n",
       "      <th>0</th>\n",
       "      <td>HK.TCH241230C420000</td>\n",
       "      <td>腾讯 241230 420.00 购</td>\n",
       "      <td>2024-12-30</td>\n",
       "      <td>420.0</td>\n",
       "    </tr>\n",
       "  </tbody>\n",
       "</table>\n",
       "</div>"
      ],
      "text/plain": [
       "                  code                name strike_time  strike_price\n",
       "0  HK.TCH241230C420000  腾讯 241230 420.00 购  2024-12-30         420.0"
      ]
     },
     "execution_count": 12,
     "metadata": {},
     "output_type": "execute_result"
    }
   ],
   "source": [
    "options[['code','name','strike_time','strike_price']]"
   ]
  },
  {
   "cell_type": "code",
   "execution_count": 24,
   "id": "3269682a-50ef-4751-b663-12fc08a4e480",
   "metadata": {},
   "outputs": [],
   "source": [
    "option_code = options.iloc[0]['code']"
   ]
  },
  {
   "cell_type": "code",
   "execution_count": 25,
   "id": "513125de-a0f6-4e17-a753-ffa08978aea1",
   "metadata": {},
   "outputs": [],
   "source": [
    "ret, snaps = quote_ctx.get_market_snapshot([code, option_code])"
   ]
  },
  {
   "cell_type": "code",
   "execution_count": 26,
   "id": "55628ace-d1b2-43ec-ba95-f73b8e649b02",
   "metadata": {},
   "outputs": [
    {
     "data": {
      "text/html": [
       "<div>\n",
       "<style scoped>\n",
       "    .dataframe tbody tr th:only-of-type {\n",
       "        vertical-align: middle;\n",
       "    }\n",
       "\n",
       "    .dataframe tbody tr th {\n",
       "        vertical-align: top;\n",
       "    }\n",
       "\n",
       "    .dataframe thead th {\n",
       "        text-align: right;\n",
       "    }\n",
       "</style>\n",
       "<table border=\"1\" class=\"dataframe\">\n",
       "  <thead>\n",
       "    <tr style=\"text-align: right;\">\n",
       "      <th></th>\n",
       "      <th>code</th>\n",
       "      <th>name</th>\n",
       "      <th>update_time</th>\n",
       "      <th>last_price</th>\n",
       "      <th>open_price</th>\n",
       "      <th>high_price</th>\n",
       "      <th>low_price</th>\n",
       "      <th>prev_close_price</th>\n",
       "      <th>volume</th>\n",
       "      <th>turnover</th>\n",
       "      <th>...</th>\n",
       "      <th>pre_turnover</th>\n",
       "      <th>pre_change_val</th>\n",
       "      <th>pre_change_rate</th>\n",
       "      <th>pre_amplitude</th>\n",
       "      <th>after_price</th>\n",
       "      <th>after_high_price</th>\n",
       "      <th>after_low_price</th>\n",
       "      <th>after_change_val</th>\n",
       "      <th>after_change_rate</th>\n",
       "      <th>after_amplitude</th>\n",
       "    </tr>\n",
       "  </thead>\n",
       "  <tbody>\n",
       "    <tr>\n",
       "      <th>0</th>\n",
       "      <td>HK.00700</td>\n",
       "      <td>腾讯控股</td>\n",
       "      <td>2024-12-27 15:22:21</td>\n",
       "      <td>417.6</td>\n",
       "      <td>417.60</td>\n",
       "      <td>421.00</td>\n",
       "      <td>415.6</td>\n",
       "      <td>420.00</td>\n",
       "      <td>11704701</td>\n",
       "      <td>4.890758e+09</td>\n",
       "      <td>...</td>\n",
       "      <td>N/A</td>\n",
       "      <td>N/A</td>\n",
       "      <td>N/A</td>\n",
       "      <td>N/A</td>\n",
       "      <td>N/A</td>\n",
       "      <td>N/A</td>\n",
       "      <td>N/A</td>\n",
       "      <td>N/A</td>\n",
       "      <td>N/A</td>\n",
       "      <td>N/A</td>\n",
       "    </tr>\n",
       "    <tr>\n",
       "      <th>1</th>\n",
       "      <td>HK.TCH241230C420000</td>\n",
       "      <td>腾讯 241230 420.00 购</td>\n",
       "      <td>2024-12-27 15:21:14</td>\n",
       "      <td>1.4</td>\n",
       "      <td>1.46</td>\n",
       "      <td>3.02</td>\n",
       "      <td>1.0</td>\n",
       "      <td>3.08</td>\n",
       "      <td>4985</td>\n",
       "      <td>8.685380e+05</td>\n",
       "      <td>...</td>\n",
       "      <td>N/A</td>\n",
       "      <td>N/A</td>\n",
       "      <td>N/A</td>\n",
       "      <td>N/A</td>\n",
       "      <td>N/A</td>\n",
       "      <td>N/A</td>\n",
       "      <td>N/A</td>\n",
       "      <td>N/A</td>\n",
       "      <td>N/A</td>\n",
       "      <td>N/A</td>\n",
       "    </tr>\n",
       "  </tbody>\n",
       "</table>\n",
       "<p>2 rows × 134 columns</p>\n",
       "</div>"
      ],
      "text/plain": [
       "                  code                name          update_time  last_price  \\\n",
       "0             HK.00700                腾讯控股  2024-12-27 15:22:21       417.6   \n",
       "1  HK.TCH241230C420000  腾讯 241230 420.00 购  2024-12-27 15:21:14         1.4   \n",
       "\n",
       "   open_price  high_price  low_price  prev_close_price    volume  \\\n",
       "0      417.60      421.00      415.6            420.00  11704701   \n",
       "1        1.46        3.02        1.0              3.08      4985   \n",
       "\n",
       "       turnover  ...  pre_turnover  pre_change_val pre_change_rate  \\\n",
       "0  4.890758e+09  ...           N/A             N/A             N/A   \n",
       "1  8.685380e+05  ...           N/A             N/A             N/A   \n",
       "\n",
       "   pre_amplitude  after_price after_high_price  after_low_price  \\\n",
       "0            N/A          N/A              N/A              N/A   \n",
       "1            N/A          N/A              N/A              N/A   \n",
       "\n",
       "   after_change_val  after_change_rate  after_amplitude  \n",
       "0               N/A                N/A              N/A  \n",
       "1               N/A                N/A              N/A  \n",
       "\n",
       "[2 rows x 134 columns]"
      ]
     },
     "execution_count": 26,
     "metadata": {},
     "output_type": "execute_result"
    }
   ],
   "source": [
    "snaps"
   ]
  },
  {
   "cell_type": "code",
   "execution_count": 39,
   "id": "046c3c5e-847c-4887-a90d-0e40726d5765",
   "metadata": {},
   "outputs": [
    {
     "data": {
      "text/plain": [
       "2"
      ]
     },
     "execution_count": 39,
     "metadata": {},
     "output_type": "execute_result"
    }
   ],
   "source": [
    "from datetime import datetime\n",
    "days = (datetime.strptime(options.iloc[0]['strike_time'],'%Y-%m-%d') - datetime.now()).days\n",
    "days"
   ]
  },
  {
   "cell_type": "code",
   "execution_count": 40,
   "id": "05d8c9e7-f2c4-4ee7-9737-094ff0810593",
   "metadata": {},
   "outputs": [
    {
     "name": "stdout",
     "output_type": "stream",
     "text": [
      "隐含波动率: 14.70%\n"
     ]
    }
   ],
   "source": [
    "S = snaps.iloc[0]['last_price']\n",
    "K = options.iloc[0]['strike_price']\n",
    "T = days /220\n",
    "r = 0.05\n",
    "option_price = snaps.iloc[1]['last_price']\n",
    "\n",
    "# 计算隐含波动率\n",
    "iv = implied_volatility(option_price, S, K, T, r, option_type='call')\n",
    "print(f\"隐含波动率: {iv:.2%}\")"
   ]
  },
  {
   "cell_type": "code",
   "execution_count": 41,
   "id": "755ce30d-a43f-4006-93f9-8e3e1ec1c8a0",
   "metadata": {},
   "outputs": [
    {
     "name": "stdout",
     "output_type": "stream",
     "text": [
      "futu api iv 15.768\n"
     ]
    }
   ],
   "source": [
    "print('futu api iv', snaps.iloc[1]['option_implied_volatility'])"
   ]
  },
  {
   "cell_type": "markdown",
   "id": "8e46e487-056c-4242-8247-0c60f7235003",
   "metadata": {},
   "source": [
    "## 用对手盘计算 iv"
   ]
  },
  {
   "cell_type": "code",
   "execution_count": 27,
   "id": "3d5a33ca-41e8-4d90-9947-1bc6243dda6c",
   "metadata": {},
   "outputs": [],
   "source": [
    "ret_sub = quote_ctx.subscribe([code, option_code], [SubType.ORDER_BOOK], subscribe_push=False)[0]\n",
    "if ret_sub != RET_OK:\n",
    "    print('subscription failed')"
   ]
  },
  {
   "cell_type": "code",
   "execution_count": 42,
   "id": "96528434-a948-4dfc-94e7-bb7f8c051b4c",
   "metadata": {},
   "outputs": [
    {
     "data": {
      "text/plain": [
       "{'code': 'HK.00700',\n",
       " 'name': '腾讯控股',\n",
       " 'svr_recv_time_bid': '2024-12-27 15:34:55.545',\n",
       " 'svr_recv_time_ask': '2024-12-27 15:34:55.545',\n",
       " 'Bid': [(417.0, 15800, 54, {}),\n",
       "  (416.8, 25000, 38, {}),\n",
       "  (416.6, 24800, 41, {})],\n",
       " 'Ask': [(417.2, 63800, 105, {}),\n",
       "  (417.4, 28200, 29, {}),\n",
       "  (417.6, 29800, 31, {})]}"
      ]
     },
     "execution_count": 42,
     "metadata": {},
     "output_type": "execute_result"
    }
   ],
   "source": [
    "ret, stock_data = quote_ctx.get_order_book(code, num=3)\n",
    "stock_data"
   ]
  },
  {
   "cell_type": "code",
   "execution_count": 43,
   "id": "932e3ca2-0abc-446d-911c-3e3d0c52dcae",
   "metadata": {},
   "outputs": [
    {
     "data": {
      "text/plain": [
       "{'code': 'HK.TCH241230C420000',\n",
       " 'name': '腾讯 241230 420.00 购',\n",
       " 'svr_recv_time_bid': '2024-12-27 15:34:55.727',\n",
       " 'svr_recv_time_ask': '2024-12-27 15:34:55.727',\n",
       " 'Bid': [(1.21, 45, 1, {}), (1.2, 4, 2, {}), (1.19, 0, 0, {})],\n",
       " 'Ask': [(1.38, 30, 1, {}), (1.39, 0, 0, {}), (1.4, 0, 0, {})]}"
      ]
     },
     "execution_count": 43,
     "metadata": {},
     "output_type": "execute_result"
    }
   ],
   "source": [
    "ret, option_data = quote_ctx.get_order_book(option_code, num=3)\n",
    "option_data"
   ]
  },
  {
   "cell_type": "code",
   "execution_count": 44,
   "id": "ce3315be-05a6-4592-ac76-ff2a8fec349d",
   "metadata": {},
   "outputs": [
    {
     "data": {
      "text/plain": [
       "(1.295, 417.1)"
      ]
     },
     "execution_count": 44,
     "metadata": {},
     "output_type": "execute_result"
    }
   ],
   "source": [
    "# ask/mid 中间价\n",
    "mid_option_price = (option_data['Bid'][0][0] + option_data['Ask'][0][0]) /2\n",
    "mid_stock_price = (stock_data['Bid'][0][0] + stock_data['Ask'][0][0]) /2\n",
    "mid_option_price, mid_stock_price"
   ]
  },
  {
   "cell_type": "code",
   "execution_count": 46,
   "id": "54415489-ba9f-434c-b8c6-4c4dcd53d31c",
   "metadata": {},
   "outputs": [
    {
     "name": "stdout",
     "output_type": "stream",
     "text": [
      "隐含波动率: 15.15%\n"
     ]
    }
   ],
   "source": [
    "S = mid_stock_price\n",
    "K = options.iloc[0]['strike_price']\n",
    "T = days /220\n",
    "r = 0.05\n",
    "option_price = mid_option_price\n",
    "\n",
    "# 计算隐含波动率\n",
    "iv = implied_volatility(option_price, S, K, T, r, option_type='call')\n",
    "print(f\"隐含波动率: {iv:.2%}\")"
   ]
  },
  {
   "cell_type": "code",
   "execution_count": null,
   "id": "5f0fd79d-0abc-4dfc-94b8-2e657bce66a2",
   "metadata": {},
   "outputs": [],
   "source": []
  }
 ],
 "metadata": {
  "kernelspec": {
   "display_name": "Python 3 (ipykernel)",
   "language": "python",
   "name": "python3"
  },
  "language_info": {
   "codemirror_mode": {
    "name": "ipython",
    "version": 3
   },
   "file_extension": ".py",
   "mimetype": "text/x-python",
   "name": "python",
   "nbconvert_exporter": "python",
   "pygments_lexer": "ipython3",
   "version": "3.10.12"
  }
 },
 "nbformat": 4,
 "nbformat_minor": 5
}
