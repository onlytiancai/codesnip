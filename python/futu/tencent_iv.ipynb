{
 "cells": [
  {
   "cell_type": "code",
   "execution_count": null,
   "id": "49e28e90-48b1-4b13-9e15-fe90481bcaa2",
   "metadata": {},
   "outputs": [],
   "source": [
    "from futu import *"
   ]
  },
  {
   "cell_type": "code",
   "execution_count": null,
   "id": "4c012aa5-92ed-45fb-91d4-d33dfc29bbeb",
   "metadata": {},
   "outputs": [],
   "source": [
    "quote_ctx = OpenQuoteContext(host='127.0.0.1', port=11111)  # 创建行情对象"
   ]
  },
  {
   "cell_type": "code",
   "execution_count": null,
   "id": "b49b9d06-1461-44cf-b0df-d96cb1ccc164",
   "metadata": {},
   "outputs": [],
   "source": [
    "code='HK.00700'"
   ]
  },
  {
   "cell_type": "code",
   "execution_count": null,
   "id": "d267adf0-988a-4269-a800-4e02da895e41",
   "metadata": {},
   "outputs": [],
   "source": [
    "ret, dates = quote_ctx.get_option_expiration_date(code=code)\n",
    "if ret != RET_OK:\n",
    "    print('error:', ret)"
   ]
  },
  {
   "cell_type": "code",
   "execution_count": null,
   "id": "1ba9af7b-f4d8-47fe-8d26-b59b7983dea8",
   "metadata": {},
   "outputs": [],
   "source": [
    "dates"
   ]
  },
  {
   "cell_type": "code",
   "execution_count": null,
   "id": "ef3dd5b3-6fbf-47e4-bbda-7e6318275193",
   "metadata": {},
   "outputs": [],
   "source": [
    "date=dates.iloc[3]['strike_time']\n",
    "date"
   ]
  },
  {
   "cell_type": "code",
   "execution_count": null,
   "id": "ccfbb457-ff69-42e5-a3d0-0bbb55a09a50",
   "metadata": {},
   "outputs": [],
   "source": [
    "from futu import OptionDataFilter, OptionType"
   ]
  },
  {
   "cell_type": "code",
   "execution_count": null,
   "id": "e20b6f84-5879-4a84-a6d9-b8fd8d6b7a11",
   "metadata": {},
   "outputs": [],
   "source": [
    "filter1 = OptionDataFilter()\n",
    "filter1.delta_min = 0.4\n",
    "filter1.delta_max = 0.6"
   ]
  },
  {
   "cell_type": "code",
   "execution_count": null,
   "id": "8c21820f-4a3e-4987-a386-5b734f35d0b9",
   "metadata": {},
   "outputs": [],
   "source": [
    "ret, options = quote_ctx.get_option_chain(code=code, start=date, end=date, \n",
    "                                          option_type=OptionType.CALL, data_filter=filter1)\n",
    "if ret != RET_OK:\n",
    "    print('error:', ret)"
   ]
  },
  {
   "cell_type": "code",
   "execution_count": null,
   "id": "3dbefbb1-51c3-4e24-900c-0da990b8ef04",
   "metadata": {},
   "outputs": [],
   "source": [
    "options"
   ]
  },
  {
   "cell_type": "code",
   "execution_count": null,
   "id": "0873676c-c999-4f5c-b594-c379edf0d1a3",
   "metadata": {},
   "outputs": [],
   "source": [
    "option_codes=options['code'].to_list()\n",
    "option_codes"
   ]
  },
  {
   "cell_type": "code",
   "execution_count": null,
   "id": "f575b7a0-a298-4181-ad5c-5fd49897336a",
   "metadata": {},
   "outputs": [],
   "source": [
    "ret, snaps = quote_ctx.get_market_snapshot(option_codes)\n",
    "if ret != RET_OK:\n",
    "    print('error:', ret)"
   ]
  },
  {
   "cell_type": "code",
   "execution_count": null,
   "id": "264e089a-96d4-41b5-8502-9682fe408c00",
   "metadata": {},
   "outputs": [],
   "source": [
    "snaps"
   ]
  },
  {
   "cell_type": "code",
   "execution_count": null,
   "id": "2b7ecb24-5224-4879-b88a-016817cfa9dc",
   "metadata": {},
   "outputs": [],
   "source": [
    "snaps[['code','name','update_time','last_price','volume','option_open_interest','option_implied_volatility']]"
   ]
  },
  {
   "cell_type": "code",
   "execution_count": null,
   "id": "17fda507-1b18-4ed1-adc9-5e415d53c538",
   "metadata": {},
   "outputs": [],
   "source": [
    "ret, history, page_req_key = quote_ctx.request_history_kline(code, start='2024-12-23', end='2024-12-23', ktype=KLType.K_1M)\n",
    "if ret != RET_OK:\n",
    "    print('error:', ret)"
   ]
  },
  {
   "cell_type": "code",
   "execution_count": null,
   "id": "b65f376d-2000-40d2-b8bf-aa7c55ebd033",
   "metadata": {},
   "outputs": [],
   "source": [
    "history"
   ]
  },
  {
   "cell_type": "code",
   "execution_count": null,
   "id": "5e2af9f2-a67f-456f-983f-d4d386c6b3aa",
   "metadata": {},
   "outputs": [],
   "source": [
    "!pip install plotly"
   ]
  },
  {
   "cell_type": "code",
   "execution_count": null,
   "id": "79cd8793-b9e4-4ea9-9eb8-e600f65ef8e4",
   "metadata": {},
   "outputs": [],
   "source": [
    "df = history\n",
    "df['time_key'] = pd.to_datetime(df['time_key'])"
   ]
  },
  {
   "cell_type": "code",
   "execution_count": null,
   "id": "de045f4d-984f-42ae-ac20-679038b7b728",
   "metadata": {},
   "outputs": [],
   "source": [
    "import plotly.graph_objects as go\n",
    "\n",
    "# 创建 K 线图\n",
    "fig = go.Figure()\n",
    "\n",
    "# K线图\n",
    "fig.add_trace(go.Candlestick(\n",
    "    x=df['time_key'],\n",
    "    open=df['open'],\n",
    "    high=df['high'],\n",
    "    low=df['low'],\n",
    "    close=df['close'],\n",
    "    name='K线'\n",
    "))\n",
    "\n",
    "# 成交量图\n",
    "fig.add_trace(go.Bar(\n",
    "    x=df['time_key'],\n",
    "    y=df['volume'],\n",
    "    name='成交量',\n",
    "    marker=dict(color='rgba(0,0,255,0.3)'),\n",
    "    yaxis='y2'  # 使用第二个 y 轴\n",
    "))\n",
    "\n",
    "# 设置布局\n",
    "fig.update_layout(\n",
    "    title='K线图与成交量',\n",
    "    xaxis_title='时间',\n",
    "    yaxis_title='价格',\n",
    "    yaxis2=dict(\n",
    "        title='成交量',\n",
    "        overlaying='y',  # 让第二个 y 轴覆盖在第一个 y 轴上\n",
    "        side='right'  # 成交量显示在右侧\n",
    "    ),\n",
    "    xaxis_rangeslider_visible=False  # 隐藏下方的范围滑块\n",
    ")\n",
    "\n",
    "# 显示图表\n",
    "fig.show()\n"
   ]
  },
  {
   "cell_type": "code",
   "execution_count": null,
   "id": "97a19e04-9bbc-489d-b8f5-b1cfeeb8f2b5",
   "metadata": {},
   "outputs": [],
   "source": []
  }
 ],
 "metadata": {
  "kernelspec": {
   "display_name": "Python 3 (ipykernel)",
   "language": "python",
   "name": "python3"
  },
  "language_info": {
   "codemirror_mode": {
    "name": "ipython",
    "version": 3
   },
   "file_extension": ".py",
   "mimetype": "text/x-python",
   "name": "python",
   "nbconvert_exporter": "python",
   "pygments_lexer": "ipython3",
   "version": "3.10.12"
  }
 },
 "nbformat": 4,
 "nbformat_minor": 5
}
