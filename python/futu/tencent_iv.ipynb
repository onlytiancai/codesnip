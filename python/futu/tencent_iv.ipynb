{
 "cells": [
  {
   "cell_type": "code",
   "execution_count": 2,
   "id": "49e28e90-48b1-4b13-9e15-fe90481bcaa2",
   "metadata": {},
   "outputs": [],
   "source": [
    "from futu import *"
   ]
  },
  {
   "cell_type": "code",
   "execution_count": 3,
   "id": "4c012aa5-92ed-45fb-91d4-d33dfc29bbeb",
   "metadata": {},
   "outputs": [
    {
     "name": "stdout",
     "output_type": "stream",
     "text": [
      "\u001b[0;30m2024-12-27 13:10:13,962 | 2945532 | [open_context_base.py] _send_init_connect_sync:311: InitConnect ok: conn_id=1, host=127.0.0.1, port=11111, user_id=7465070\u001b[0m\n"
     ]
    }
   ],
   "source": [
    "quote_ctx = OpenQuoteContext(host='127.0.0.1', port=11111)  # 创建行情对象"
   ]
  },
  {
   "cell_type": "code",
   "execution_count": 4,
   "id": "b49b9d06-1461-44cf-b0df-d96cb1ccc164",
   "metadata": {},
   "outputs": [],
   "source": [
    "code='HK.00700'"
   ]
  },
  {
   "cell_type": "code",
   "execution_count": 5,
   "id": "d267adf0-988a-4269-a800-4e02da895e41",
   "metadata": {},
   "outputs": [],
   "source": [
    "ret, dates = quote_ctx.get_option_expiration_date(code=code)\n",
    "if ret != RET_OK:\n",
    "    print('error:', ret)"
   ]
  },
  {
   "cell_type": "code",
   "execution_count": 6,
   "id": "1ba9af7b-f4d8-47fe-8d26-b59b7983dea8",
   "metadata": {},
   "outputs": [
    {
     "data": {
      "text/html": [
       "<div>\n",
       "<style scoped>\n",
       "    .dataframe tbody tr th:only-of-type {\n",
       "        vertical-align: middle;\n",
       "    }\n",
       "\n",
       "    .dataframe tbody tr th {\n",
       "        vertical-align: top;\n",
       "    }\n",
       "\n",
       "    .dataframe thead th {\n",
       "        text-align: right;\n",
       "    }\n",
       "</style>\n",
       "<table border=\"1\" class=\"dataframe\">\n",
       "  <thead>\n",
       "    <tr style=\"text-align: right;\">\n",
       "      <th></th>\n",
       "      <th>strike_time</th>\n",
       "      <th>option_expiry_date_distance</th>\n",
       "      <th>expiration_cycle</th>\n",
       "    </tr>\n",
       "  </thead>\n",
       "  <tbody>\n",
       "    <tr>\n",
       "      <th>0</th>\n",
       "      <td>2024-12-27</td>\n",
       "      <td>0</td>\n",
       "      <td>N/A</td>\n",
       "    </tr>\n",
       "    <tr>\n",
       "      <th>1</th>\n",
       "      <td>2024-12-30</td>\n",
       "      <td>3</td>\n",
       "      <td>N/A</td>\n",
       "    </tr>\n",
       "    <tr>\n",
       "      <th>2</th>\n",
       "      <td>2025-01-03</td>\n",
       "      <td>7</td>\n",
       "      <td>N/A</td>\n",
       "    </tr>\n",
       "    <tr>\n",
       "      <th>3</th>\n",
       "      <td>2025-01-27</td>\n",
       "      <td>31</td>\n",
       "      <td>N/A</td>\n",
       "    </tr>\n",
       "    <tr>\n",
       "      <th>4</th>\n",
       "      <td>2025-02-27</td>\n",
       "      <td>62</td>\n",
       "      <td>N/A</td>\n",
       "    </tr>\n",
       "    <tr>\n",
       "      <th>5</th>\n",
       "      <td>2025-03-28</td>\n",
       "      <td>91</td>\n",
       "      <td>N/A</td>\n",
       "    </tr>\n",
       "    <tr>\n",
       "      <th>6</th>\n",
       "      <td>2025-06-27</td>\n",
       "      <td>182</td>\n",
       "      <td>N/A</td>\n",
       "    </tr>\n",
       "    <tr>\n",
       "      <th>7</th>\n",
       "      <td>2025-09-29</td>\n",
       "      <td>276</td>\n",
       "      <td>N/A</td>\n",
       "    </tr>\n",
       "    <tr>\n",
       "      <th>8</th>\n",
       "      <td>2025-12-30</td>\n",
       "      <td>368</td>\n",
       "      <td>N/A</td>\n",
       "    </tr>\n",
       "  </tbody>\n",
       "</table>\n",
       "</div>"
      ],
      "text/plain": [
       "  strike_time  option_expiry_date_distance expiration_cycle\n",
       "0  2024-12-27                            0              N/A\n",
       "1  2024-12-30                            3              N/A\n",
       "2  2025-01-03                            7              N/A\n",
       "3  2025-01-27                           31              N/A\n",
       "4  2025-02-27                           62              N/A\n",
       "5  2025-03-28                           91              N/A\n",
       "6  2025-06-27                          182              N/A\n",
       "7  2025-09-29                          276              N/A\n",
       "8  2025-12-30                          368              N/A"
      ]
     },
     "execution_count": 6,
     "metadata": {},
     "output_type": "execute_result"
    }
   ],
   "source": [
    "dates"
   ]
  },
  {
   "cell_type": "code",
   "execution_count": 7,
   "id": "ef3dd5b3-6fbf-47e4-bbda-7e6318275193",
   "metadata": {},
   "outputs": [
    {
     "data": {
      "text/plain": [
       "('2025-01-27', '2025-02-27')"
      ]
     },
     "execution_count": 7,
     "metadata": {},
     "output_type": "execute_result"
    }
   ],
   "source": [
    "start_date=dates.iloc[3]['strike_time']\n",
    "end_date=dates.iloc[4]['strike_time']\n",
    "start_date, end_date"
   ]
  },
  {
   "cell_type": "code",
   "execution_count": 8,
   "id": "e20b6f84-5879-4a84-a6d9-b8fd8d6b7a11",
   "metadata": {},
   "outputs": [],
   "source": [
    "filter1 = OptionDataFilter()\n",
    "filter1.delta_min = 0.4\n",
    "filter1.delta_max = 0.6"
   ]
  },
  {
   "cell_type": "code",
   "execution_count": 9,
   "id": "8c21820f-4a3e-4987-a386-5b734f35d0b9",
   "metadata": {},
   "outputs": [
    {
     "data": {
      "text/html": [
       "<div>\n",
       "<style scoped>\n",
       "    .dataframe tbody tr th:only-of-type {\n",
       "        vertical-align: middle;\n",
       "    }\n",
       "\n",
       "    .dataframe tbody tr th {\n",
       "        vertical-align: top;\n",
       "    }\n",
       "\n",
       "    .dataframe thead th {\n",
       "        text-align: right;\n",
       "    }\n",
       "</style>\n",
       "<table border=\"1\" class=\"dataframe\">\n",
       "  <thead>\n",
       "    <tr style=\"text-align: right;\">\n",
       "      <th></th>\n",
       "      <th>code</th>\n",
       "      <th>name</th>\n",
       "      <th>lot_size</th>\n",
       "      <th>stock_type</th>\n",
       "      <th>option_type</th>\n",
       "      <th>stock_owner</th>\n",
       "      <th>strike_time</th>\n",
       "      <th>strike_price</th>\n",
       "      <th>suspension</th>\n",
       "      <th>stock_id</th>\n",
       "      <th>index_option_type</th>\n",
       "    </tr>\n",
       "  </thead>\n",
       "  <tbody>\n",
       "    <tr>\n",
       "      <th>0</th>\n",
       "      <td>HK.TCH250127C420000</td>\n",
       "      <td>腾讯 250127 420.00 购</td>\n",
       "      <td>100</td>\n",
       "      <td>DRVT</td>\n",
       "      <td>CALL</td>\n",
       "      <td>HK.00700</td>\n",
       "      <td>2025-01-27</td>\n",
       "      <td>420.0</td>\n",
       "      <td>False</td>\n",
       "      <td>80698445</td>\n",
       "      <td>N/A</td>\n",
       "    </tr>\n",
       "  </tbody>\n",
       "</table>\n",
       "</div>"
      ],
      "text/plain": [
       "                  code                name  lot_size stock_type option_type  \\\n",
       "0  HK.TCH250127C420000  腾讯 250127 420.00 购       100       DRVT        CALL   \n",
       "\n",
       "  stock_owner strike_time  strike_price  suspension  stock_id  \\\n",
       "0    HK.00700  2025-01-27         420.0       False  80698445   \n",
       "\n",
       "  index_option_type  \n",
       "0               N/A  "
      ]
     },
     "execution_count": 9,
     "metadata": {},
     "output_type": "execute_result"
    }
   ],
   "source": [
    "ret, options1 = quote_ctx.get_option_chain(code=code, start=start_date, end=start_date, \n",
    "                                          option_type=OptionType.CALL, data_filter=filter1)\n",
    "if ret != RET_OK:\n",
    "    print('error:', ret)\n",
    "options1    "
   ]
  },
  {
   "cell_type": "code",
   "execution_count": 10,
   "id": "66a01a43-47d5-4572-bd7b-67b4a6545aa0",
   "metadata": {},
   "outputs": [
    {
     "data": {
      "text/html": [
       "<div>\n",
       "<style scoped>\n",
       "    .dataframe tbody tr th:only-of-type {\n",
       "        vertical-align: middle;\n",
       "    }\n",
       "\n",
       "    .dataframe tbody tr th {\n",
       "        vertical-align: top;\n",
       "    }\n",
       "\n",
       "    .dataframe thead th {\n",
       "        text-align: right;\n",
       "    }\n",
       "</style>\n",
       "<table border=\"1\" class=\"dataframe\">\n",
       "  <thead>\n",
       "    <tr style=\"text-align: right;\">\n",
       "      <th></th>\n",
       "      <th>code</th>\n",
       "      <th>name</th>\n",
       "      <th>lot_size</th>\n",
       "      <th>stock_type</th>\n",
       "      <th>option_type</th>\n",
       "      <th>stock_owner</th>\n",
       "      <th>strike_time</th>\n",
       "      <th>strike_price</th>\n",
       "      <th>suspension</th>\n",
       "      <th>stock_id</th>\n",
       "      <th>index_option_type</th>\n",
       "    </tr>\n",
       "  </thead>\n",
       "  <tbody>\n",
       "    <tr>\n",
       "      <th>0</th>\n",
       "      <td>HK.TCH250227C420000</td>\n",
       "      <td>腾讯 250227 420.00 购</td>\n",
       "      <td>100</td>\n",
       "      <td>DRVT</td>\n",
       "      <td>CALL</td>\n",
       "      <td>HK.00700</td>\n",
       "      <td>2025-02-27</td>\n",
       "      <td>420.0</td>\n",
       "      <td>False</td>\n",
       "      <td>80722807</td>\n",
       "      <td>N/A</td>\n",
       "    </tr>\n",
       "    <tr>\n",
       "      <th>1</th>\n",
       "      <td>HK.TCH250227C430000</td>\n",
       "      <td>腾讯 250227 430.00 购</td>\n",
       "      <td>100</td>\n",
       "      <td>DRVT</td>\n",
       "      <td>CALL</td>\n",
       "      <td>HK.00700</td>\n",
       "      <td>2025-02-27</td>\n",
       "      <td>430.0</td>\n",
       "      <td>False</td>\n",
       "      <td>80722808</td>\n",
       "      <td>N/A</td>\n",
       "    </tr>\n",
       "  </tbody>\n",
       "</table>\n",
       "</div>"
      ],
      "text/plain": [
       "                  code                name  lot_size stock_type option_type  \\\n",
       "0  HK.TCH250227C420000  腾讯 250227 420.00 购       100       DRVT        CALL   \n",
       "1  HK.TCH250227C430000  腾讯 250227 430.00 购       100       DRVT        CALL   \n",
       "\n",
       "  stock_owner strike_time  strike_price  suspension  stock_id  \\\n",
       "0    HK.00700  2025-02-27         420.0       False  80722807   \n",
       "1    HK.00700  2025-02-27         430.0       False  80722808   \n",
       "\n",
       "  index_option_type  \n",
       "0               N/A  \n",
       "1               N/A  "
      ]
     },
     "execution_count": 10,
     "metadata": {},
     "output_type": "execute_result"
    }
   ],
   "source": [
    "ret, options2 = quote_ctx.get_option_chain(code=code, start=end_date, end=end_date, \n",
    "                                          option_type=OptionType.CALL, data_filter=filter1)\n",
    "if ret != RET_OK:\n",
    "    print('error:', ret)\n",
    "options2"
   ]
  },
  {
   "cell_type": "code",
   "execution_count": 11,
   "id": "0873676c-c999-4f5c-b594-c379edf0d1a3",
   "metadata": {},
   "outputs": [
    {
     "data": {
      "text/plain": [
       "['HK.TCH250127C420000', 'HK.TCH250227C420000']"
      ]
     },
     "execution_count": 11,
     "metadata": {},
     "output_type": "execute_result"
    }
   ],
   "source": [
    "option_codes=[options1.iloc[0]['code'],options2.iloc[0]['code']]\n",
    "option_codes"
   ]
  },
  {
   "cell_type": "code",
   "execution_count": 12,
   "id": "f575b7a0-a298-4181-ad5c-5fd49897336a",
   "metadata": {},
   "outputs": [],
   "source": [
    "ret, snaps = quote_ctx.get_market_snapshot(option_codes)\n",
    "if ret != RET_OK:\n",
    "    print('error:', ret)"
   ]
  },
  {
   "cell_type": "code",
   "execution_count": 13,
   "id": "264e089a-96d4-41b5-8502-9682fe408c00",
   "metadata": {
    "scrolled": true
   },
   "outputs": [
    {
     "data": {
      "text/html": [
       "<div>\n",
       "<style scoped>\n",
       "    .dataframe tbody tr th:only-of-type {\n",
       "        vertical-align: middle;\n",
       "    }\n",
       "\n",
       "    .dataframe tbody tr th {\n",
       "        vertical-align: top;\n",
       "    }\n",
       "\n",
       "    .dataframe thead th {\n",
       "        text-align: right;\n",
       "    }\n",
       "</style>\n",
       "<table border=\"1\" class=\"dataframe\">\n",
       "  <thead>\n",
       "    <tr style=\"text-align: right;\">\n",
       "      <th></th>\n",
       "      <th>code</th>\n",
       "      <th>update_time</th>\n",
       "      <th>last_price</th>\n",
       "      <th>option_open_interest</th>\n",
       "      <th>option_implied_volatility</th>\n",
       "    </tr>\n",
       "  </thead>\n",
       "  <tbody>\n",
       "    <tr>\n",
       "      <th>0</th>\n",
       "      <td>HK.TCH250127C420000</td>\n",
       "      <td>2024-12-27 13:09:28</td>\n",
       "      <td>10.80</td>\n",
       "      <td>25956</td>\n",
       "      <td>21.171</td>\n",
       "    </tr>\n",
       "    <tr>\n",
       "      <th>1</th>\n",
       "      <td>HK.TCH250227C420000</td>\n",
       "      <td>2024-12-27 11:55:58</td>\n",
       "      <td>16.74</td>\n",
       "      <td>6239</td>\n",
       "      <td>22.758</td>\n",
       "    </tr>\n",
       "  </tbody>\n",
       "</table>\n",
       "</div>"
      ],
      "text/plain": [
       "                  code          update_time  last_price  option_open_interest  \\\n",
       "0  HK.TCH250127C420000  2024-12-27 13:09:28       10.80                 25956   \n",
       "1  HK.TCH250227C420000  2024-12-27 11:55:58       16.74                  6239   \n",
       "\n",
       "   option_implied_volatility  \n",
       "0                     21.171  \n",
       "1                     22.758  "
      ]
     },
     "execution_count": 13,
     "metadata": {},
     "output_type": "execute_result"
    }
   ],
   "source": [
    "snaps[['code','update_time','last_price','option_open_interest','option_implied_volatility']]"
   ]
  },
  {
   "cell_type": "code",
   "execution_count": 16,
   "id": "bfb492c9-bb55-4e04-86c9-00526b74f64d",
   "metadata": {},
   "outputs": [
    {
     "data": {
      "application/vnd.jupyter.widget-view+json": {
       "model_id": "c28cdac586fc40149e7206310b3ae15f",
       "version_major": 2,
       "version_minor": 0
      },
      "text/plain": [
       "VBox(children=(FigureWidget({\n",
       "    'data': [{'hovertemplate': 'Time: %{x}<br>Curve 1: %{y}<extra></extra>',\n",
       "   …"
      ]
     },
     "metadata": {},
     "output_type": "display_data"
    }
   ],
   "source": [
    "import plotly.graph_objs as go\n",
    "import ipywidgets as widgets\n",
    "from ipywidgets import VBox, Label\n",
    "from IPython.display import display, clear_output\n",
    "import time\n",
    "import numpy as np\n",
    "import threading\n",
    "\n",
    "time_data = []\n",
    "price_data_1 = [] \n",
    "price_data_2 = []\n",
    "MAX_DATA_POINTS = 1000 \n",
    "\n",
    "fig = go.FigureWidget(\n",
    "    data=[go.Scatter(x=time_data, y=price_data_1, mode='lines', name=snaps.iloc[0]['name'], \n",
    "                     hovertemplate=\"Time: %{x}<br>Curve 1: %{y}<extra></extra>\"),\n",
    "          go.Scatter(x=time_data, y=price_data_2, mode='lines', name=snaps.iloc[1]['name'], \n",
    "                     hovertemplate=\"Time: %{x}<br>Curve 2: %{y}<extra></extra>\")],\n",
    "    layout=go.Layout(\n",
    "        title=\"realtime implied volatility\",\n",
    "        xaxis=dict(title=\"time\"),\n",
    "        yaxis=dict(title=\"implied volatility\")\n",
    "    )\n",
    ")\n",
    "\n",
    "label = Label(value=\"will update\")\n",
    "start_button = widgets.Button(description=\"Start\")\n",
    "stop_button = widgets.Button(description=\"Stop\")\n",
    "clear_button = widgets.Button(description=\"Clear\")\n",
    "ui = VBox([fig, label, start_button, stop_button, clear_button])\n",
    "\n",
    "updating = False\n",
    "\n",
    "# 更新图表的函数\n",
    "def update_chart():\n",
    "    global updating\n",
    "    while updating:\n",
    "        ret, snaps = quote_ctx.get_market_snapshot(option_codes)        \n",
    "        if ret != RET_OK:\n",
    "            print('error:', ret)\n",
    "            break\n",
    "    \n",
    "        new_time = snaps.iloc[0]['update_time']\n",
    "        new_price_1 = snaps.iloc[0]['option_implied_volatility']\n",
    "        new_price_2 = snaps.iloc[1]['option_implied_volatility']\n",
    "\n",
    "        last_time = ''\n",
    "        if time_data:\n",
    "            last_time = time_data[-1]\n",
    "        label.value= f'last refresh:{time.strftime(\"%H:%M:%S\")}, new time:{new_time}, last time: {last_time}, len={len(time_data)}'\n",
    "        if last_time and new_time == last_time:\n",
    "            clear_output(wait=True)\n",
    "            display(ui)\n",
    "            time.sleep(5)\n",
    "            continue\n",
    "\n",
    "        # 添加新数据\n",
    "        time_data.append(new_time)\n",
    "        price_data_1.append(new_price_1)\n",
    "        price_data_2.append(new_price_2)\n",
    "\n",
    "        # 如果数据超过最大数量，删除最前面的数据\n",
    "        if len(time_data) > MAX_DATA_POINTS:\n",
    "            time_data.pop(0)\n",
    "            price_data_1.pop(0)\n",
    "            price_data_2.pop(0)\n",
    "\n",
    "        # 更新图表数据\n",
    "        fig.data[0].x = time_data\n",
    "        fig.data[0].y = price_data_1\n",
    "        fig.data[1].x = time_data\n",
    "        fig.data[1].y = price_data_2\n",
    "\n",
    "        latest_annotation = [\n",
    "            dict(\n",
    "                x=time_data[-1],\n",
    "                y=price_data_1[-1],\n",
    "                text=f\"{snaps.iloc[0]['name']}: {price_data_1[-1]:.2f}\",\n",
    "                showarrow=True,\n",
    "                arrowhead=2,\n",
    "                ax=-40, ay=-20,\n",
    "                font=dict(color=\"blue\")\n",
    "            ),\n",
    "            dict(\n",
    "                x=time_data[-1],\n",
    "                y=price_data_2[-1],\n",
    "                text=f\"{snaps.iloc[1]['name']}: {price_data_2[-1]:.2f}\",\n",
    "                showarrow=True,\n",
    "                arrowhead=2,\n",
    "                ax=-40, ay=20,\n",
    "                font=dict(color=\"red\")\n",
    "            )\n",
    "        ]\n",
    "        fig.layout.annotations = latest_annotation        \n",
    "\n",
    "        # 清除并显示新的图表\n",
    "        clear_output(wait=True)\n",
    "        display(ui)\n",
    "\n",
    "        time.sleep(5)\n",
    "\n",
    "def start_update(_):\n",
    "    global updating\n",
    "    updating = True\n",
    "    threading.Thread(target=update_chart, daemon=True).start()\n",
    "\n",
    "def stop_update(_):\n",
    "    global updating\n",
    "    updating = False\n",
    "\n",
    "def clear_chart(_):\n",
    "    global time_data, price_data_1, price_data_2\n",
    "    time_data = []\n",
    "    price_data_1 = []\n",
    "    price_data_2 = []\n",
    "    fig.data[0].x = time_data\n",
    "    fig.data[0].y = price_data_1\n",
    "    fig.data[1].x = time_data\n",
    "    fig.data[1].y = price_data_2\n",
    "    clear_output(wait=True)\n",
    "    display(fig, start_button, stop_button, clear_button)\n",
    "\n",
    "start_button.on_click(start_update)\n",
    "stop_button.on_click(stop_update)\n",
    "clear_button.on_click(clear_chart)\n",
    "\n",
    "display(ui)\n"
   ]
  },
  {
   "cell_type": "code",
   "execution_count": null,
   "id": "17fda507-1b18-4ed1-adc9-5e415d53c538",
   "metadata": {},
   "outputs": [],
   "source": [
    "ret, history, page_req_key = quote_ctx.request_history_kline(code, start='2024-12-27', ktype=KLType.K_1M)\n",
    "if ret != RET_OK:\n",
    "    print('error:', ret)"
   ]
  },
  {
   "cell_type": "code",
   "execution_count": null,
   "id": "b65f376d-2000-40d2-b8bf-aa7c55ebd033",
   "metadata": {},
   "outputs": [],
   "source": [
    "history.head()"
   ]
  },
  {
   "cell_type": "code",
   "execution_count": null,
   "id": "79cd8793-b9e4-4ea9-9eb8-e600f65ef8e4",
   "metadata": {},
   "outputs": [],
   "source": [
    "df = history\n",
    "df['time_key'] = pd.to_datetime(df['time_key'])"
   ]
  },
  {
   "cell_type": "code",
   "execution_count": null,
   "id": "de045f4d-984f-42ae-ac20-679038b7b728",
   "metadata": {},
   "outputs": [],
   "source": [
    "import plotly.graph_objects as go\n",
    "\n",
    "# 创建 K 线图\n",
    "fig = go.Figure()\n",
    "\n",
    "# K线图\n",
    "fig.add_trace(go.Candlestick(\n",
    "    x=df['time_key'],\n",
    "    open=df['open'],\n",
    "    high=df['high'],\n",
    "    low=df['low'],\n",
    "    close=df['close'],\n",
    "    name='K线'\n",
    "))\n",
    "\n",
    "# 成交量图\n",
    "fig.add_trace(go.Bar(\n",
    "    x=df['time_key'],\n",
    "    y=df['volume'],\n",
    "    name='成交量',\n",
    "    marker=dict(color='rgba(0,0,255,0.3)'),\n",
    "    yaxis='y2'  # 使用第二个 y 轴\n",
    "))\n",
    "\n",
    "# 设置布局\n",
    "fig.update_layout(\n",
    "    title='K线图与成交量',\n",
    "    xaxis_title='时间',\n",
    "    yaxis_title='价格',\n",
    "    yaxis2=dict(\n",
    "        title='成交量',\n",
    "        overlaying='y',  # 让第二个 y 轴覆盖在第一个 y 轴上\n",
    "        side='right'  # 成交量显示在右侧\n",
    "    ),\n",
    "    xaxis_rangeslider_visible=False  # 隐藏下方的范围滑块\n",
    ")\n",
    "\n",
    "# 显示图表\n",
    "fig.show()\n"
   ]
  },
  {
   "cell_type": "code",
   "execution_count": null,
   "id": "97a19e04-9bbc-489d-b8f5-b1cfeeb8f2b5",
   "metadata": {},
   "outputs": [],
   "source": []
  },
  {
   "cell_type": "code",
   "execution_count": null,
   "id": "7260c8b5-8411-4853-9cc6-55054ad465cc",
   "metadata": {},
   "outputs": [],
   "source": []
  }
 ],
 "metadata": {
  "kernelspec": {
   "display_name": "Python 3 (ipykernel)",
   "language": "python",
   "name": "python3"
  },
  "language_info": {
   "codemirror_mode": {
    "name": "ipython",
    "version": 3
   },
   "file_extension": ".py",
   "mimetype": "text/x-python",
   "name": "python",
   "nbconvert_exporter": "python",
   "pygments_lexer": "ipython3",
   "version": "3.10.12"
  }
 },
 "nbformat": 4,
 "nbformat_minor": 5
}
