{
 "cells": [
  {
   "cell_type": "markdown",
   "metadata": {},
   "source": [
    "# 基金组合回测"
   ]
  },
  {
   "cell_type": "markdown",
   "metadata": {},
   "source": [
    "### 导入包，登录"
   ]
  },
  {
   "cell_type": "code",
   "execution_count": null,
   "metadata": {},
   "outputs": [],
   "source": [
    "from jqdatasdk import *\n",
    "import matplotlib.pyplot as plt \n",
    "import pandas as pd\n",
    "import seaborn as sns\n",
    "import numpy as np"
   ]
  },
  {
   "cell_type": "code",
   "execution_count": null,
   "metadata": {},
   "outputs": [],
   "source": [
    "# 登录，需要在聚宽注册账号并申请数据权限，免费一年\n",
    "auth('','')"
   ]
  },
  {
   "cell_type": "markdown",
   "metadata": {},
   "source": [
    "### 准备基金代码列表"
   ]
  },
  {
   "cell_type": "code",
   "execution_count": null,
   "metadata": {},
   "outputs": [],
   "source": [
    "code_list = '519736,163402,163406,007119,161005,519712,206018,000948'.split(',')"
   ]
  },
  {
   "cell_type": "markdown",
   "metadata": {},
   "source": [
    "### 函数定义"
   ]
  },
  {
   "cell_type": "code",
   "execution_count": null,
   "metadata": {},
   "outputs": [],
   "source": [
    "def get_data(code, limit=100):\n",
    "    '获取某基金最近的单位净值数据'\n",
    "    q = query(finance.FUND_NET_VALUE.day,finance.FUND_NET_VALUE.sum_value)\n",
    "    q = q.filter(finance.FUND_NET_VALUE.code==code)\n",
    "    q = q.order_by(finance.FUND_NET_VALUE.day.desc()).limit(limit)\n",
    "    df = finance.run_query(q)\n",
    "    df.rename(columns={'sum_value': code}, inplace=True) \n",
    "    df['day'] = pd.to_datetime(df['day'], format='%Y-%m-%d')\n",
    "    return df.set_index('day')"
   ]
  },
  {
   "cell_type": "code",
   "execution_count": null,
   "metadata": {},
   "outputs": [],
   "source": [
    "def get_all_data(code_list, limit=100):\n",
    "    '获取一组基金净值数据'\n",
    "    ret  = None\n",
    "    for code in code_list:\n",
    "        df = get_data(code, limit)\n",
    "        if ret is not None:\n",
    "            ret = pd.merge(ret, df, on='day')\n",
    "        else:\n",
    "            ret = df\n",
    "    return ret"
   ]
  },
  {
   "cell_type": "code",
   "execution_count": null,
   "metadata": {},
   "outputs": [],
   "source": [
    "def abs_return_pcnt(series):\n",
    "    '绝对回报率'\n",
    "    return (series.iloc[-1] - series.iloc[0]) / series.iloc[0]\n",
    "\n",
    "def sharpe_ratio(series, freq='daily'):\n",
    "    '夏普比率'\n",
    "    r = series / series.shift(1) - 1\n",
    "    r = r.dropna()\n",
    "    if freq == 'daily':\n",
    "        sr = r.mean() / r.std() * np.sqrt(252)\n",
    "    elif freq == 'monthly':\n",
    "        sr = r.mean() / r.std() * np.sqrt(12)\n",
    "    else:\n",
    "        sr = r.mean() / r.std()\n",
    "    return sr\n",
    "\n",
    "def maximum_drawdown(series):\n",
    "    '最大回撤'\n",
    "    performance_list = list(series)\n",
    "    i = np.argmax(np.maximum.accumulate(performance_list) - performance_list)\n",
    "    j = np.argmax(performance_list[:i])\n",
    "    mdd = (performance_list[i] - performance_list[j]) / performance_list[j]\n",
    "    return mdd"
   ]
  },
  {
   "cell_type": "markdown",
   "metadata": {},
   "source": [
    "### 获取数据，查看净值曲线"
   ]
  },
  {
   "cell_type": "code",
   "execution_count": null,
   "metadata": {
    "scrolled": true
   },
   "outputs": [],
   "source": [
    "df=get_all_data(code_list,500)\n",
    "df = df.sort_index()\n",
    "df.plot(figsize=[18,5])"
   ]
  },
  {
   "cell_type": "markdown",
   "metadata": {},
   "source": [
    "### 等仓位组合净值曲线、均线"
   ]
  },
  {
   "cell_type": "code",
   "execution_count": null,
   "metadata": {
    "scrolled": true
   },
   "outputs": [],
   "source": [
    "df['sum'] = df.apply(lambda x: sum(x[str(code)] for code in code_list) , axis=1)\n",
    "df.plot(y='sum', figsize=(18,5))\n",
    "df['sum'].rolling(5).mean().plot(label='5 day moving average')\n",
    "df['sum'].rolling(20).mean().plot(label='5 day moving average')\n",
    "plt.legend()"
   ]
  },
  {
   "cell_type": "markdown",
   "metadata": {},
   "source": [
    "### 计算绝对收益，最大回撤，夏普率"
   ]
  },
  {
   "cell_type": "code",
   "execution_count": null,
   "metadata": {},
   "outputs": [],
   "source": [
    "print('code\\treturn\\tdrawdown\\tsharpe')\n",
    "for code in df.columns:\n",
    "    print('{}\\t{:.2f}\\t{:.2f}\\t\\t{:.2f}'.format(code, abs_return_pcnt(df[code])*100, maximum_drawdown(df[code])*100, sharpe_ratio(df[code], freq='yearly')))"
   ]
  },
  {
   "cell_type": "markdown",
   "metadata": {},
   "source": [
    "### 计算日收益波动"
   ]
  },
  {
   "cell_type": "code",
   "execution_count": null,
   "metadata": {
    "scrolled": true
   },
   "outputs": [],
   "source": [
    "# 日收益率\n",
    "daily = df.pct_change()\n",
    "daily.fillna(0, inplace=True)\n",
    "plt.figure(figsize=[18,5])\n",
    "daily['sum'].plot()"
   ]
  },
  {
   "cell_type": "code",
   "execution_count": null,
   "metadata": {},
   "outputs": [],
   "source": [
    "# 数据摘要，查看平均值和标准差\n",
    "daily['sum'].describe()"
   ]
  },
  {
   "cell_type": "code",
   "execution_count": null,
   "metadata": {},
   "outputs": [],
   "source": [
    "# 直方图\n",
    "daily['sum'].hist(bins=50)"
   ]
  },
  {
   "cell_type": "markdown",
   "metadata": {},
   "source": [
    "### 计算日，月，季度累计收益"
   ]
  },
  {
   "cell_type": "code",
   "execution_count": null,
   "metadata": {},
   "outputs": [],
   "source": [
    "#计算累积日收益率\n",
    "cum_daily_return = (1 + daily).cumprod()-1\n",
    "cum_daily_return[['sum']].plot(figsize=(18,5))\n",
    "plt.title('cum_daily_return')\n",
    "plt.show()"
   ]
  },
  {
   "cell_type": "code",
   "execution_count": null,
   "metadata": {
    "scrolled": true
   },
   "outputs": [],
   "source": [
    "# 月收益率，取每月最后一项\n",
    "monthly = cum_daily_return['sum'].resample('BM').apply(lambda x: x[-1])\n",
    "plt.figure(figsize=[18,5])\n",
    "monthly.plot()"
   ]
  },
  {
   "cell_type": "code",
   "execution_count": null,
   "metadata": {},
   "outputs": [],
   "source": [
    "#按季度对数据进行重采样，将均值改为每季度的数值\n",
    "quarter = cum_daily_return['sum'].resample('3M').mean()\n",
    "plt.figure(figsize=[18,5])\n",
    "quarter.plot()"
   ]
  },
  {
   "cell_type": "markdown",
   "metadata": {},
   "source": [
    "### 按月、年分组查看数据"
   ]
  },
  {
   "cell_type": "code",
   "execution_count": null,
   "metadata": {},
   "outputs": [],
   "source": [
    "monthly_df = df.groupby([df.index.year, df.index.month]).median()\n",
    "monthly_df"
   ]
  },
  {
   "cell_type": "code",
   "execution_count": null,
   "metadata": {},
   "outputs": [],
   "source": [
    "yearly_df = df.groupby([df.index.year]).median()\n",
    "yearly_df"
   ]
  },
  {
   "cell_type": "markdown",
   "metadata": {},
   "source": [
    "### 计算各基金相关度"
   ]
  },
  {
   "cell_type": "code",
   "execution_count": null,
   "metadata": {
    "scrolled": true
   },
   "outputs": [],
   "source": [
    "# 调用 Pandas 的 pct_change() 方法来计算每月的回报百分比，并且把第一月设为0.\n",
    "monthly_ret_df = monthly_df.pct_change(1).fillna(0)\n",
    "# 画出各基金回报率的相关性，并且把相关性数据精度设为3.\n",
    "monthly_ret_df.corr().style.background_gradient().set_precision(3)"
   ]
  },
  {
   "cell_type": "markdown",
   "metadata": {},
   "source": [
    "### 收益排序"
   ]
  },
  {
   "cell_type": "code",
   "execution_count": null,
   "metadata": {},
   "outputs": [],
   "source": [
    "cum_daily_return.iloc[-1].sort_values(ascending=False)"
   ]
  },
  {
   "cell_type": "code",
   "execution_count": null,
   "metadata": {
    "scrolled": true
   },
   "outputs": [],
   "source": [
    "# 先对每一个回报率 +1，然后做 cumprod() 计算，Pandas 的 cumprod() 对每一行做滚动计算累积盈利。#\n",
    "monthly_cum_ret_df = monthly_ret_df.add(1).cumprod()-1\n",
    "# 对 2020-05 月的累积盈利做一个各基金的排名，利用 sort_values()。\n",
    "monthly_cum_ret_df.loc[2020,5].sort_values(ascending=False)"
   ]
  },
  {
   "cell_type": "markdown",
   "metadata": {},
   "source": [
    "### 最优化仓位训练"
   ]
  },
  {
   "cell_type": "markdown",
   "metadata": {},
   "source": [
    "一个投资组合所持有的风险，不一定能带来最大化的收益。换句话说，你的投资组合也许承担了较大的风险，却只能获得较小的预期收益。原因可能在于你过大的权重了一只表现较差的股票，或者投资组合里的股票数量少，并且每一只股票都自带非常大的风险。\n",
    "\n",
    "最优投资组合是建立在一条叫 有效边际 Efficient Frontier 之上的，"
   ]
  },
  {
   "cell_type": "code",
   "execution_count": null,
   "metadata": {},
   "outputs": [],
   "source": [
    "num_stocks = len(code_list)"
   ]
  },
  {
   "cell_type": "code",
   "execution_count": null,
   "metadata": {},
   "outputs": [],
   "source": [
    "def portfolio_annualised_performance(weights, mean_returns, cov_matrix):\n",
    "    '夏普率'\n",
    "    returns = np.sum(mean_returns*weights ) *252\n",
    "    std = np.sqrt(np.dot(weights.T, np.dot(cov_matrix, weights))) * np.sqrt(252)\n",
    "    return std, returns\n",
    "\n",
    "def random_portfolios(num_portfolios, mean_returns, cov_matrix, risk_free_rate):\n",
    "    '波动率'\n",
    "    results = np.zeros((num_stocks,num_portfolios))\n",
    "    weights_record = []\n",
    "    for i in range(num_portfolios):\n",
    "        weights = np.random.random(num_stocks)\n",
    "        weights /= np.sum(weights)\n",
    "        weights_record.append(weights)\n",
    "        portfolio_std_dev, portfolio_return = portfolio_annualised_performance(weights, mean_returns, cov_matrix)\n",
    "        results[0,i] = portfolio_std_dev #波动率目标\n",
    "        results[1,i] = portfolio_return\n",
    "        results[2,i] = (portfolio_return - risk_free_rate) / portfolio_std_dev # 夏普比率目标\n",
    "    return results, weights_record"
   ]
  },
  {
   "cell_type": "code",
   "execution_count": null,
   "metadata": {},
   "outputs": [],
   "source": [
    "all_df = df[code_list]\n",
    "# 每只基金的日回报百分比。\n",
    "returns = all_df[code_list].pct_change()\n",
    "# 每只基金的日回报百分比平均\n",
    "mean_returns = returns.mean()\n",
    "# 每只股票的日回报百分比协方差。\n",
    "cov_matrix = returns.cov()\n",
    "# 想要生成多少个随机投资组合，数字越大越接近真实的最优解，但是也会消耗CPU资源。\n",
    "num_portfolios = int(25000 / 2.5 * num_stocks)\n",
    "# 无风险利率\n",
    "risk_free_rate = 0.027"
   ]
  },
  {
   "cell_type": "code",
   "execution_count": null,
   "metadata": {},
   "outputs": [],
   "source": [
    "def display_simulated_ef_with_random(mean_returns, cov_matrix, num_portfolios, risk_free_rate):\n",
    "    '最优化方法'\n",
    "    results, weights = random_portfolios(num_portfolios,mean_returns, cov_matrix, risk_free_rate)\n",
    "    \n",
    "    max_sharpe_idx = np.argmax(results[2])\n",
    "    sdp, rp = results[0,max_sharpe_idx], results[1,max_sharpe_idx]\n",
    "    max_sharpe_allocation = pd.DataFrame(weights[max_sharpe_idx],index=all_df.columns,columns=['allocation'])\n",
    "    max_sharpe_allocation.allocation = [round(i*100,2)for i in max_sharpe_allocation.allocation]\n",
    "    max_sharpe_allocation = max_sharpe_allocation.T\n",
    "    \n",
    "    min_vol_idx = np.argmin(results[0])\n",
    "    sdp_min, rp_min = results[0,min_vol_idx], results[1,min_vol_idx]\n",
    "    min_vol_allocation = pd.DataFrame(weights[min_vol_idx],index=all_df.columns,columns=['allocation'])\n",
    "    min_vol_allocation.allocation = [round(i*100,2)for i in min_vol_allocation.allocation]\n",
    "    min_vol_allocation = min_vol_allocation.T\n",
    "    \n",
    "    print(\"-\"*80)\n",
    "    print(\"最大夏普比率投资组合配置\\n\")\n",
    "    print(\"年化收益:\", round(rp,2))\n",
    "    print(\"年化波动:\", round(sdp,2))\n",
    "    print(\"\\n\")\n",
    "    print(max_sharpe_allocation)\n",
    "    print(\"-\"*80)\n",
    "    print(\"最小波动率投资组合配置\\n\")\n",
    "    print(\"年华收益:\", round(rp_min,2))\n",
    "    print(\"年化波动:\", round(sdp_min,2))\n",
    "    print(\"\\n\")\n",
    "    print(min_vol_allocation)\n",
    "    \n",
    "    plt.figure(figsize=(10, 7))\n",
    "    plt.scatter(results[0,:],results[1,:],c=results[2,:],cmap='YlGnBu', marker='o', s=10, alpha=0.3)\n",
    "    plt.colorbar()\n",
    "    plt.scatter(sdp,rp,marker='*',color='r',s=500, label='Maximum Sharpe ratio')\n",
    "    plt.scatter(sdp_min,rp_min,marker='*',color='g',s=500, label='Minimum volatility')\n",
    "    plt.title('Simulated Portfolio Optimization based on Efficient Frontier')\n",
    "    plt.xlabel('annualised volatility')\n",
    "    plt.ylabel('annualised returns')\n",
    "    plt.legend(labelspacing=0.8)\n",
    "    \n",
    "    return max_sharpe_allocation, min_vol_allocation"
   ]
  },
  {
   "cell_type": "code",
   "execution_count": null,
   "metadata": {
    "scrolled": true
   },
   "outputs": [],
   "source": [
    "max_sharpe_alloc, min_vol_alloc = display_simulated_ef_with_random(mean_returns, cov_matrix, num_portfolios, risk_free_rate)"
   ]
  },
  {
   "cell_type": "markdown",
   "metadata": {},
   "source": [
    "### 比较等权，最大夏普率和最小波动率组合"
   ]
  },
  {
   "cell_type": "code",
   "execution_count": null,
   "metadata": {},
   "outputs": [],
   "source": [
    "weights = list(zip(max_sharpe_alloc.columns, max_sharpe_alloc.values[0]/100))\n",
    "sorted(weights,key=lambda x: -x[1])"
   ]
  },
  {
   "cell_type": "code",
   "execution_count": null,
   "metadata": {},
   "outputs": [],
   "source": [
    "df['max_sharpe'] = df.apply(lambda x: sum(x[w[0]]*w[1] for w in weights ) , axis=1)"
   ]
  },
  {
   "cell_type": "code",
   "execution_count": null,
   "metadata": {},
   "outputs": [],
   "source": [
    "weights = list(zip(min_vol_alloc.columns, min_vol_alloc.values[0]/100))\n",
    "df['min_vol'] = df.apply(lambda x: sum(x[w[0]]*w[1] for w in weights ) , axis=1)"
   ]
  },
  {
   "cell_type": "code",
   "execution_count": null,
   "metadata": {},
   "outputs": [],
   "source": [
    "daily = df.pct_change()\n",
    "daily.fillna(0, inplace=True)\n",
    "cum_daily_return = (1 + daily).cumprod()-1"
   ]
  },
  {
   "cell_type": "code",
   "execution_count": null,
   "metadata": {
    "scrolled": true
   },
   "outputs": [],
   "source": [
    "cum_daily_return[['sum', 'min_vol','max_sharpe']].plot(figsize=(18,5))"
   ]
  },
  {
   "cell_type": "code",
   "execution_count": null,
   "metadata": {},
   "outputs": [],
   "source": [
    "data = {'基金':[], '收益率':[],'最大回撤':[], '夏普率':[]}\n",
    "for code in df.columns:\n",
    "    data['收益率'].append(abs_return_pcnt(df[code])*100)\n",
    "    data['最大回撤'].append(maximum_drawdown(df[code])*100)\n",
    "    data['夏普率'].append(sharpe_ratio(df[code], freq='yearly'))\n",
    "    if code == 'sum':\n",
    "        code = '等权组合'\n",
    "    if code == 'max_sharpe':\n",
    "        code = '最大夏普率组合'\n",
    "    if code == 'min_vol':\n",
    "        code = '最小波动组合'\n",
    "    data['基金'].append(code)\n",
    "df2 = pd.DataFrame(data).set_index('基金')    "
   ]
  },
  {
   "cell_type": "code",
   "execution_count": null,
   "metadata": {},
   "outputs": [],
   "source": [
    "df2.sort_values('收益率', ascending=False)"
   ]
  },
  {
   "cell_type": "code",
   "execution_count": null,
   "metadata": {},
   "outputs": [],
   "source": []
  }
 ],
 "metadata": {
  "kernelspec": {
   "display_name": "Python 3",
   "language": "python",
   "name": "python3"
  },
  "language_info": {
   "codemirror_mode": {
    "name": "ipython",
    "version": 3
   },
   "file_extension": ".py",
   "mimetype": "text/x-python",
   "name": "python",
   "nbconvert_exporter": "python",
   "pygments_lexer": "ipython3",
   "version": "3.6.9"
  }
 },
 "nbformat": 4,
 "nbformat_minor": 2
}
